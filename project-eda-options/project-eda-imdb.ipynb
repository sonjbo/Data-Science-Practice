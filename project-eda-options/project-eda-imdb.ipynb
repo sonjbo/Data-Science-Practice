{
 "cells": [
  {
   "cell_type": "markdown",
   "metadata": {},
   "source": [
    "<img src=\"http://imgur.com/1ZcRyrc.png\" style=\"float: left; margin: 20px; height: 55px\">\n",
    "\n",
    "# Project 2: Analyzing IMDb Data\n",
    "\n",
    "_Author: Kevin Markham (DC)_\n",
    "\n",
    "---"
   ]
  },
  {
   "cell_type": "markdown",
   "metadata": {},
   "source": [
    "For project two, you will complete a serious of exercises exploring movie rating data from IMDb.\n",
    "\n",
    "For these exercises, you will be conducting basic exploratory data analysis on IMDB's movie data, looking to answer such questions as:\n",
    "\n",
    "What is the average rating per genre?\n",
    "How many different actors are in a movie?\n",
    "\n",
    "This process will help you practice your data analysis skills while becoming comfortable with Pandas."
   ]
  },
  {
   "cell_type": "markdown",
   "metadata": {},
   "source": [
    "## Basic level"
   ]
  },
  {
   "cell_type": "code",
   "execution_count": 437,
   "metadata": {
    "tags": []
   },
   "outputs": [],
   "source": [
    "import pandas as pd\n",
    "import numpy as np\n",
    "import matplotlib.pyplot as plt\n",
    "import plotly.express as px\n",
    "%matplotlib inline"
   ]
  },
  {
   "cell_type": "markdown",
   "metadata": {},
   "source": [
    "#### Read in 'imdb_1000.csv' and store it in a DataFrame named movies."
   ]
  },
  {
   "cell_type": "code",
   "execution_count": 438,
   "metadata": {},
   "outputs": [
    {
     "data": {
      "text/html": [
       "<div>\n",
       "<style scoped>\n",
       "    .dataframe tbody tr th:only-of-type {\n",
       "        vertical-align: middle;\n",
       "    }\n",
       "\n",
       "    .dataframe tbody tr th {\n",
       "        vertical-align: top;\n",
       "    }\n",
       "\n",
       "    .dataframe thead th {\n",
       "        text-align: right;\n",
       "    }\n",
       "</style>\n",
       "<table border=\"1\" class=\"dataframe\">\n",
       "  <thead>\n",
       "    <tr style=\"text-align: right;\">\n",
       "      <th></th>\n",
       "      <th>star_rating</th>\n",
       "      <th>title</th>\n",
       "      <th>content_rating</th>\n",
       "      <th>genre</th>\n",
       "      <th>duration</th>\n",
       "      <th>actors_list</th>\n",
       "    </tr>\n",
       "  </thead>\n",
       "  <tbody>\n",
       "    <tr>\n",
       "      <th>0</th>\n",
       "      <td>9.3</td>\n",
       "      <td>The Shawshank Redemption</td>\n",
       "      <td>R</td>\n",
       "      <td>Crime</td>\n",
       "      <td>142</td>\n",
       "      <td>[u'Tim Robbins', u'Morgan Freeman', u'Bob Gunt...</td>\n",
       "    </tr>\n",
       "    <tr>\n",
       "      <th>1</th>\n",
       "      <td>9.2</td>\n",
       "      <td>The Godfather</td>\n",
       "      <td>R</td>\n",
       "      <td>Crime</td>\n",
       "      <td>175</td>\n",
       "      <td>[u'Marlon Brando', u'Al Pacino', u'James Caan']</td>\n",
       "    </tr>\n",
       "    <tr>\n",
       "      <th>2</th>\n",
       "      <td>9.1</td>\n",
       "      <td>The Godfather: Part II</td>\n",
       "      <td>R</td>\n",
       "      <td>Crime</td>\n",
       "      <td>200</td>\n",
       "      <td>[u'Al Pacino', u'Robert De Niro', u'Robert Duv...</td>\n",
       "    </tr>\n",
       "    <tr>\n",
       "      <th>3</th>\n",
       "      <td>9.0</td>\n",
       "      <td>The Dark Knight</td>\n",
       "      <td>PG-13</td>\n",
       "      <td>Action</td>\n",
       "      <td>152</td>\n",
       "      <td>[u'Christian Bale', u'Heath Ledger', u'Aaron E...</td>\n",
       "    </tr>\n",
       "    <tr>\n",
       "      <th>4</th>\n",
       "      <td>8.9</td>\n",
       "      <td>Pulp Fiction</td>\n",
       "      <td>R</td>\n",
       "      <td>Crime</td>\n",
       "      <td>154</td>\n",
       "      <td>[u'John Travolta', u'Uma Thurman', u'Samuel L....</td>\n",
       "    </tr>\n",
       "    <tr>\n",
       "      <th>...</th>\n",
       "      <td>...</td>\n",
       "      <td>...</td>\n",
       "      <td>...</td>\n",
       "      <td>...</td>\n",
       "      <td>...</td>\n",
       "      <td>...</td>\n",
       "    </tr>\n",
       "    <tr>\n",
       "      <th>974</th>\n",
       "      <td>7.4</td>\n",
       "      <td>Tootsie</td>\n",
       "      <td>PG</td>\n",
       "      <td>Comedy</td>\n",
       "      <td>116</td>\n",
       "      <td>[u'Dustin Hoffman', u'Jessica Lange', u'Teri G...</td>\n",
       "    </tr>\n",
       "    <tr>\n",
       "      <th>975</th>\n",
       "      <td>7.4</td>\n",
       "      <td>Back to the Future Part III</td>\n",
       "      <td>PG</td>\n",
       "      <td>Adventure</td>\n",
       "      <td>118</td>\n",
       "      <td>[u'Michael J. Fox', u'Christopher Lloyd', u'Ma...</td>\n",
       "    </tr>\n",
       "    <tr>\n",
       "      <th>976</th>\n",
       "      <td>7.4</td>\n",
       "      <td>Master and Commander: The Far Side of the World</td>\n",
       "      <td>PG-13</td>\n",
       "      <td>Action</td>\n",
       "      <td>138</td>\n",
       "      <td>[u'Russell Crowe', u'Paul Bettany', u'Billy Bo...</td>\n",
       "    </tr>\n",
       "    <tr>\n",
       "      <th>977</th>\n",
       "      <td>7.4</td>\n",
       "      <td>Poltergeist</td>\n",
       "      <td>PG</td>\n",
       "      <td>Horror</td>\n",
       "      <td>114</td>\n",
       "      <td>[u'JoBeth Williams', u\"Heather O'Rourke\", u'Cr...</td>\n",
       "    </tr>\n",
       "    <tr>\n",
       "      <th>978</th>\n",
       "      <td>7.4</td>\n",
       "      <td>Wall Street</td>\n",
       "      <td>R</td>\n",
       "      <td>Crime</td>\n",
       "      <td>126</td>\n",
       "      <td>[u'Charlie Sheen', u'Michael Douglas', u'Tamar...</td>\n",
       "    </tr>\n",
       "  </tbody>\n",
       "</table>\n",
       "<p>979 rows × 6 columns</p>\n",
       "</div>"
      ],
      "text/plain": [
       "     star_rating                                            title  \\\n",
       "0            9.3                         The Shawshank Redemption   \n",
       "1            9.2                                    The Godfather   \n",
       "2            9.1                           The Godfather: Part II   \n",
       "3            9.0                                  The Dark Knight   \n",
       "4            8.9                                     Pulp Fiction   \n",
       "..           ...                                              ...   \n",
       "974          7.4                                          Tootsie   \n",
       "975          7.4                      Back to the Future Part III   \n",
       "976          7.4  Master and Commander: The Far Side of the World   \n",
       "977          7.4                                      Poltergeist   \n",
       "978          7.4                                      Wall Street   \n",
       "\n",
       "    content_rating      genre  duration  \\\n",
       "0                R      Crime       142   \n",
       "1                R      Crime       175   \n",
       "2                R      Crime       200   \n",
       "3            PG-13     Action       152   \n",
       "4                R      Crime       154   \n",
       "..             ...        ...       ...   \n",
       "974             PG     Comedy       116   \n",
       "975             PG  Adventure       118   \n",
       "976          PG-13     Action       138   \n",
       "977             PG     Horror       114   \n",
       "978              R      Crime       126   \n",
       "\n",
       "                                           actors_list  \n",
       "0    [u'Tim Robbins', u'Morgan Freeman', u'Bob Gunt...  \n",
       "1      [u'Marlon Brando', u'Al Pacino', u'James Caan']  \n",
       "2    [u'Al Pacino', u'Robert De Niro', u'Robert Duv...  \n",
       "3    [u'Christian Bale', u'Heath Ledger', u'Aaron E...  \n",
       "4    [u'John Travolta', u'Uma Thurman', u'Samuel L....  \n",
       "..                                                 ...  \n",
       "974  [u'Dustin Hoffman', u'Jessica Lange', u'Teri G...  \n",
       "975  [u'Michael J. Fox', u'Christopher Lloyd', u'Ma...  \n",
       "976  [u'Russell Crowe', u'Paul Bettany', u'Billy Bo...  \n",
       "977  [u'JoBeth Williams', u\"Heather O'Rourke\", u'Cr...  \n",
       "978  [u'Charlie Sheen', u'Michael Douglas', u'Tamar...  \n",
       "\n",
       "[979 rows x 6 columns]"
      ]
     },
     "execution_count": 438,
     "metadata": {},
     "output_type": "execute_result"
    }
   ],
   "source": [
    "movies = pd.read_csv('./data/imdb_1000.csv')\n",
    "movies"
   ]
  },
  {
   "cell_type": "markdown",
   "metadata": {},
   "source": [
    "#### Check the number of rows and columns."
   ]
  },
  {
   "cell_type": "code",
   "execution_count": 439,
   "metadata": {
    "tags": []
   },
   "outputs": [
    {
     "data": {
      "text/plain": [
       "(979, 6)"
      ]
     },
     "execution_count": 439,
     "metadata": {},
     "output_type": "execute_result"
    }
   ],
   "source": [
    "# Answer: \n",
    "\n",
    "movies.shape"
   ]
  },
  {
   "cell_type": "markdown",
   "metadata": {},
   "source": [
    "#### Check the data type of each column."
   ]
  },
  {
   "cell_type": "code",
   "execution_count": 440,
   "metadata": {
    "tags": []
   },
   "outputs": [
    {
     "data": {
      "text/plain": [
       "star_rating       float64\n",
       "title              object\n",
       "content_rating     object\n",
       "genre              object\n",
       "duration            int64\n",
       "actors_list        object\n",
       "dtype: object"
      ]
     },
     "execution_count": 440,
     "metadata": {},
     "output_type": "execute_result"
    }
   ],
   "source": [
    "# Answer:\n",
    "\n",
    "movies.dtypes"
   ]
  },
  {
   "cell_type": "markdown",
   "metadata": {},
   "source": [
    "#### Calculate the average movie duration."
   ]
  },
  {
   "cell_type": "code",
   "execution_count": 441,
   "metadata": {
    "tags": []
   },
   "outputs": [
    {
     "data": {
      "text/plain": [
       "120.97957099080695"
      ]
     },
     "execution_count": 441,
     "metadata": {},
     "output_type": "execute_result"
    }
   ],
   "source": [
    "# Answer:\n",
    "\n",
    "movies['duration'].mean()"
   ]
  },
  {
   "cell_type": "markdown",
   "metadata": {},
   "source": [
    "#### Sort the DataFrame by duration to find the shortest and longest movies."
   ]
  },
  {
   "cell_type": "code",
   "execution_count": 442,
   "metadata": {
    "tags": []
   },
   "outputs": [
    {
     "name": "stdout",
     "output_type": "stream",
     "text": [
      "The shortest movie is 64 minutes long\n",
      "The shortest movie is 242 minutes long\n"
     ]
    }
   ],
   "source": [
    "# Answer:\n",
    "\n",
    "longest = movies.sort_values(['duration'], ascending = False).head(1)\n",
    "shortest = movies.sort_values(['duration']).head(1)\n",
    "\n",
    "print (\"The shortest movie is\", shortest['duration'].values[0], \"minutes long\")\n",
    "print (\"The shortest movie is\", longest['duration'].values[0], \"minutes long\")"
   ]
  },
  {
   "cell_type": "markdown",
   "metadata": {},
   "source": [
    "#### Create a histogram of duration, choosing an \"appropriate\" number of bins."
   ]
  },
  {
   "cell_type": "code",
   "execution_count": 443,
   "metadata": {},
   "outputs": [
    {
     "data": {
      "text/plain": [
       "Text(0.5, 1.0, 'Movie Duration Distribution')"
      ]
     },
     "execution_count": 443,
     "metadata": {},
     "output_type": "execute_result"
    },
    {
     "data": {
      "image/png": "[encoded data removed]",
      "text/plain": [
       "<Figure size 640x480 with 1 Axes>"
      ]
     },
     "metadata": {},
     "output_type": "display_data"
    }
   ],
   "source": [
    "#Answer\n",
    "\n",
    "#since \"appropriate\" number of bins is subjective, i tried it this way\n",
    "\n",
    "\n",
    "num_bins = int(np.sqrt(len(movies['duration'])))\n",
    "plt.hist(new_movies['duration'], bins=num_bins)\n",
    "plt.xlabel('Duration (minutes)')\n",
    "plt.ylabel('Frequency')\n",
    "plt.title('Movie Duration Distribution')"
   ]
  },
  {
   "cell_type": "code",
   "execution_count": 444,
   "metadata": {},
   "outputs": [
    {
     "data": {
      "text/plain": [
       "Text(0.5, 1.0, 'Movie Duration Distribution (no outliers)')"
      ]
     },
     "execution_count": 444,
     "metadata": {},
     "output_type": "execute_result"
    },
    {
     "data": {
      "image/png": "[encoded data removed]",
      "text/plain": [
       "<Figure size 640x480 with 1 Axes>"
      ]
     },
     "metadata": {},
     "output_type": "display_data"
    }
   ],
   "source": [
    "#I wanted to get rid of outliers... just for fun\n",
    "\n",
    "mean_duration = movies['duration'].mean()\n",
    "std_dev_dur = movies['duration'].std()\n",
    "\n",
    "upper_outlierlimit = mean_duration + std_dev_dur * 1.96\n",
    "lower_outlierlimit = mean_duration - std_dev_dur * 1.96\n",
    "\n",
    "#filtering out outliers from duration column\n",
    "\n",
    "filter1 = (movies['duration'] < upper_outlierlimit) & (movies['duration'] > lower_outlierlimit)\n",
    "new_movies = movies[filter1]\n",
    "\n",
    "num_bins = int(np.sqrt(len(new_movies['duration'])))\n",
    "plt.hist(new_movies['duration'], bins=num_bins)\n",
    "plt.xlabel('Duration (minutes)')\n",
    "plt.ylabel('Frequency')\n",
    "plt.title('Movie Duration Distribution (no outliers)')"
   ]
  },
  {
   "cell_type": "markdown",
   "metadata": {},
   "source": [
    "#### Use a box plot to display that same data."
   ]
  },
  {
   "cell_type": "code",
   "execution_count": 445,
   "metadata": {},
   "outputs": [
    {
     "data": {
      "image/png": "[encoded data removed]",
      "text/plain": [
       "<Figure size 640x480 with 1 Axes>"
      ]
     },
     "metadata": {},
     "output_type": "display_data"
    }
   ],
   "source": [
    "#Answer\n",
    "\n",
    "#with outliers\n",
    "\n",
    "plt.boxplot(movies['duration'])\n",
    "plt.ylabel('Duration (minutes)')\n",
    "plt.xlabel('All Movies')\n",
    "plt.title('Duration for All Movies')\n",
    "plt.show()"
   ]
  },
  {
   "cell_type": "code",
   "execution_count": 446,
   "metadata": {
    "tags": []
   },
   "outputs": [
    {
     "data": {
      "image/png": "[encoded data removed]",
      "text/plain": [
       "<Figure size 640x480 with 1 Axes>"
      ]
     },
     "metadata": {},
     "output_type": "display_data"
    }
   ],
   "source": [
    "# Answer:\n",
    "\n",
    "#outliers are excluded\n",
    "\n",
    "plt.boxplot(new_movies['duration'])\n",
    "plt.ylabel('Duration (minutes)')\n",
    "plt.xlabel('All Movies')\n",
    "plt.title('Duration for All Movies')\n",
    "plt.show()"
   ]
  },
  {
   "cell_type": "markdown",
   "metadata": {},
   "source": [
    "## Intermediate level"
   ]
  },
  {
   "cell_type": "markdown",
   "metadata": {},
   "source": [
    "#### Count how many movies have each of the content ratings."
   ]
  },
  {
   "cell_type": "code",
   "execution_count": 447,
   "metadata": {
    "tags": []
   },
   "outputs": [
    {
     "data": {
      "text/plain": [
       "R            460\n",
       "PG-13        189\n",
       "PG           123\n",
       "NOT RATED     65\n",
       "APPROVED      47\n",
       "UNRATED       38\n",
       "G             32\n",
       "PASSED         7\n",
       "NC-17          7\n",
       "X              4\n",
       "GP             3\n",
       "TV-MA          1\n",
       "Name: content_rating, dtype: int64"
      ]
     },
     "execution_count": 447,
     "metadata": {},
     "output_type": "execute_result"
    }
   ],
   "source": [
    "# Answer:\n",
    "\n",
    "movies['content_rating'].value_counts()"
   ]
  },
  {
   "cell_type": "markdown",
   "metadata": {},
   "source": [
    "#### Use a visualization to display that same data, including a title and x and y labels."
   ]
  },
  {
   "cell_type": "code",
   "execution_count": 448,
   "metadata": {
    "tags": []
   },
   "outputs": [
    {
     "data": {
      "application/vnd.plotly.v1+json": {
       "config": {
        "plotlyServerURL": "https://plot.ly"
       },
       "data": [
        {
         "alignmentgroup": "True",
         "bingroup": "x",
         "hovertemplate": "content_rating=%{x}<br>count=%{y}<extra></extra>",
         "legendgroup": "R",
         "marker": {
          "color": "#636efa",
          "pattern": {
           "shape": ""
          }
         },
         "name": "R",
         "offsetgroup": "R",
         "orientation": "v",
         "showlegend": true,
         "type": "histogram",
         "x": [
          "R",
          "R",
          "R",
          "R",
          "R",
          "R",
          "R",
          "R",
          "R",
          "R",
          "R",
          "R",
          "R",
          "R",
          "R",
          "R",
          "R",
          "R",
          "R",
          "R",
          "R",
          "R",
          "R",
          "R",
          "R",
          "R",
          "R",
          "R",
          "R",
          "R",
          "R",
          "R",
          "R",
          "R",
          "R",
          "R",
          "R",
          "R",
          "R",
          "R",
          "R",
          "R",
          "R",
          "R",
          "R",
          "R",
          "R",
          "R",
          "R",
          "R",
          "R",
          "R",
          "R",
          "R",
          "R",
          "R",
          "R",
          "R",
          "R",
          "R",
          "R",
          "R",
          "R",
          "R",
          "R",
          "R",
          "R",
          "R",
          "R",
          "R",
          "R",
          "R",
          "R",
          "R",
          "R",
          "R",
          "R",
          "R",
          "R",
          "R",
          "R",
          "R",
          "R",
          "R",
          "R",
          "R",
          "R",
          "R",
          "R",
          "R",
          "R",
          "R",
          "R",
          "R",
          "R",
          "R",
          "R",
          "R",
          "R",
          "R",
          "R",
          "R",
          "R",
          "R",
          "R",
          "R",
          "R",
          "R",
          "R",
          "R",
          "R",
          "R",
          "R",
          "R",
          "R",
          "R",
          "R",
          "R",
          "R",
          "R",
          "R",
          "R",
          "R",
          "R",
          "R",
          "R",
          "R",
          "R",
          "R",
          "R",
          "R",
          "R",
          "R",
          "R",
          "R",
          "R",
          "R",
          "R",
          "R",
          "R",
          "R",
          "R",
          "R",
          "R",
          "R",
          "R",
          "R",
          "R",
          "R",
          "R",
          "R",
          "R",
          "R",
          "R",
          "R",
          "R",
          "R",
          "R",
          "R",
          "R",
          "R",
          "R",
          "R",
          "R",
          "R",
          "R",
          "R",
          "R",
          "R",
          "R",
          "R",
          "R",
          "R",
          "R",
          "R",
          "R",
          "R",
          "R",
          "R",
          "R",
          "R",
          "R",
          "R",
          "R",
          "R",
          "R",
          "R",
          "R",
          "R",
          "R",
          "R",
          "R",
          "R",
          "R",
          "R",
          "R",
          "R",
          "R",
          "R",
          "R",
          "R",
          "R",
          "R",
          "R",
          "R",
          "R",
          "R",
          "R",
          "R",
          "R",
          "R",
          "R",
          "R",
          "R",
          "R",
          "R",
          "R",
          "R",
          "R",
          "R",
          "R",
          "R",
          "R",
          "R",
          "R",
          "R",
          "R",
          "R",
          "R",
          "R",
          "R",
          "R",
          "R",
          "R",
          "R",
          "R",
          "R",
          "R",
          "R",
          "R",
          "R",
          "R",
          "R",
          "R",
          "R",
          "R",
          "R",
          "R",
          "R",
          "R",
          "R",
          "R",
          "R",
          "R",
          "R",
          "R",
          "R",
          "R",
          "R",
          "R",
          "R",
          "R",
          "R",
          "R",
          "R",
          "R",
          "R",
          "R",
          "R",
          "R",
          "R",
          "R",
          "R",
          "R",
          "R",
          "R",
          "R",
          "R",
          "R",
          "R",
          "R",
          "R",
          "R",
          "R",
          "R",
          "R",
          "R",
          "R",
          "R",
          "R",
          "R",
          "R",
          "R",
          "R",
          "R",
          "R",
          "R",
          "R",
          "R",
          "R",
          "R",
          "R",
          "R",
          "R",
          "R",
          "R",
          "R",
          "R",
          "R",
          "R",
          "R",
          "R",
          "R",
          "R",
          "R",
          "R",
          "R",
          "R",
          "R",
          "R",
          "R",
          "R",
          "R",
          "R",
          "R",
          "R",
          "R",
          "R",
          "R",
          "R",
          "R",
          "R",
          "R",
          "R",
          "R",
          "R",
          "R",
          "R",
          "R",
          "R",
          "R",
          "R",
          "R",
          "R",
          "R",
          "R",
          "R",
          "R",
          "R",
          "R",
          "R",
          "R",
          "R",
          "R",
          "R",
          "R",
          "R",
          "R",
          "R",
          "R",
          "R",
          "R",
          "R",
          "R",
          "R",
          "R",
          "R",
          "R",
          "R",
          "R",
          "R",
          "R",
          "R",
          "R",
          "R",
          "R",
          "R",
          "R",
          "R",
          "R",
          "R",
          "R",
          "R",
          "R",
          "R",
          "R",
          "R",
          "R",
          "R",
          "R",
          "R",
          "R",
          "R",
          "R",
          "R",
          "R",
          "R",
          "R",
          "R",
          "R",
          "R",
          "R",
          "R",
          "R",
          "R",
          "R",
          "R",
          "R",
          "R",
          "R",
          "R",
          "R",
          "R",
          "R",
          "R",
          "R",
          "R",
          "R",
          "R",
          "R",
          "R",
          "R",
          "R",
          "R",
          "R",
          "R",
          "R",
          "R",
          "R",
          "R",
          "R",
          "R",
          "R",
          "R",
          "R",
          "R",
          "R",
          "R",
          "R",
          "R",
          "R",
          "R",
          "R",
          "R",
          "R",
          "R",
          "R",
          "R",
          "R",
          "R",
          "R",
          "R",
          "R",
          "R",
          "R",
          "R",
          "R",
          "R",
          "R",
          "R"
         ],
         "xaxis": "x",
         "yaxis": "y"
        },
        {
         "alignmentgroup": "True",
         "bingroup": "x",
         "hovertemplate": "content_rating=%{x}<br>count=%{y}<extra></extra>",
         "legendgroup": "PG-13",
         "marker": {
          "color": "#EF553B",
          "pattern": {
           "shape": ""
          }
         },
         "name": "PG-13",
         "offsetgroup": "PG-13",
         "orientation": "v",
         "showlegend": true,
         "type": "histogram",
         "x": [
          "PG-13",
          "PG-13",
          "PG-13",
          "PG-13",
          "PG-13",
          "PG-13",
          "PG-13",
          "PG-13",
          "PG-13",
          "PG-13",
          "PG-13",
          "PG-13",
          "PG-13",
          "PG-13",
          "PG-13",
          "PG-13",
          "PG-13",
          "PG-13",
          "PG-13",
          "PG-13",
          "PG-13",
          "PG-13",
          "PG-13",
          "PG-13",
          "PG-13",
          "PG-13",
          "PG-13",
          "PG-13",
          "PG-13",
          "PG-13",
          "PG-13",
          "PG-13",
          "PG-13",
          "PG-13",
          "PG-13",
          "PG-13",
          "PG-13",
          "PG-13",
          "PG-13",
          "PG-13",
          "PG-13",
          "PG-13",
          "PG-13",
          "PG-13",
          "PG-13",
          "PG-13",
          "PG-13",
          "PG-13",
          "PG-13",
          "PG-13",
          "PG-13",
          "PG-13",
          "PG-13",
          "PG-13",
          "PG-13",
          "PG-13",
          "PG-13",
          "PG-13",
          "PG-13",
          "PG-13",
          "PG-13",
          "PG-13",
          "PG-13",
          "PG-13",
          "PG-13",
          "PG-13",
          "PG-13",
          "PG-13",
          "PG-13",
          "PG-13",
          "PG-13",
          "PG-13",
          "PG-13",
          "PG-13",
          "PG-13",
          "PG-13",
          "PG-13",
          "PG-13",
          "PG-13",
          "PG-13",
          "PG-13",
          "PG-13",
          "PG-13",
          "PG-13",
          "PG-13",
          "PG-13",
          "PG-13",
          "PG-13",
          "PG-13",
          "PG-13",
          "PG-13",
          "PG-13",
          "PG-13",
          "PG-13",
          "PG-13",
          "PG-13",
          "PG-13",
          "PG-13",
          "PG-13",
          "PG-13",
          "PG-13",
          "PG-13",
          "PG-13",
          "PG-13",
          "PG-13",
          "PG-13",
          "PG-13",
          "PG-13",
          "PG-13",
          "PG-13",
          "PG-13",
          "PG-13",
          "PG-13",
          "PG-13",
          "PG-13",
          "PG-13",
          "PG-13",
          "PG-13",
          "PG-13",
          "PG-13",
          "PG-13",
          "PG-13",
          "PG-13",
          "PG-13",
          "PG-13",
          "PG-13",
          "PG-13",
          "PG-13",
          "PG-13",
          "PG-13",
          "PG-13",
          "PG-13",
          "PG-13",
          "PG-13",
          "PG-13",
          "PG-13",
          "PG-13",
          "PG-13",
          "PG-13",
          "PG-13",
          "PG-13",
          "PG-13",
          "PG-13",
          "PG-13",
          "PG-13",
          "PG-13",
          "PG-13",
          "PG-13",
          "PG-13",
          "PG-13",
          "PG-13",
          "PG-13",
          "PG-13",
          "PG-13",
          "PG-13",
          "PG-13",
          "PG-13",
          "PG-13",
          "PG-13",
          "PG-13",
          "PG-13",
          "PG-13",
          "PG-13",
          "PG-13",
          "PG-13",
          "PG-13",
          "PG-13",
          "PG-13",
          "PG-13",
          "PG-13",
          "PG-13",
          "PG-13",
          "PG-13",
          "PG-13",
          "PG-13",
          "PG-13",
          "PG-13",
          "PG-13",
          "PG-13",
          "PG-13",
          "PG-13",
          "PG-13",
          "PG-13",
          "PG-13",
          "PG-13",
          "PG-13",
          "PG-13",
          "PG-13",
          "PG-13"
         ],
         "xaxis": "x",
         "yaxis": "y"
        },
        {
         "alignmentgroup": "True",
         "bingroup": "x",
         "hovertemplate": "content_rating=%{x}<br>count=%{y}<extra></extra>",
         "legendgroup": "NOT RATED",
         "marker": {
          "color": "#00cc96",
          "pattern": {
           "shape": ""
          }
         },
         "name": "NOT RATED",
         "offsetgroup": "NOT RATED",
         "orientation": "v",
         "showlegend": true,
         "type": "histogram",
         "x": [
          "NOT RATED",
          "NOT RATED",
          "NOT RATED",
          "NOT RATED",
          "NOT RATED",
          "NOT RATED",
          "NOT RATED",
          "NOT RATED",
          "NOT RATED",
          "NOT RATED",
          "NOT RATED",
          "NOT RATED",
          "NOT RATED",
          "NOT RATED",
          "NOT RATED",
          "NOT RATED",
          "NOT RATED",
          "NOT RATED",
          "NOT RATED",
          "NOT RATED",
          "NOT RATED",
          "NOT RATED",
          "NOT RATED",
          "NOT RATED",
          "NOT RATED",
          "NOT RATED",
          "NOT RATED",
          "NOT RATED",
          "NOT RATED",
          "NOT RATED",
          "NOT RATED",
          "NOT RATED",
          "NOT RATED",
          "NOT RATED",
          "NOT RATED",
          "NOT RATED",
          "NOT RATED",
          "NOT RATED",
          "NOT RATED",
          "NOT RATED",
          "NOT RATED",
          "NOT RATED",
          "NOT RATED",
          "NOT RATED",
          "NOT RATED",
          "NOT RATED",
          "NOT RATED",
          "NOT RATED",
          "NOT RATED",
          "NOT RATED",
          "NOT RATED",
          "NOT RATED",
          "NOT RATED",
          "NOT RATED",
          "NOT RATED",
          "NOT RATED",
          "NOT RATED",
          "NOT RATED",
          "NOT RATED",
          "NOT RATED",
          "NOT RATED",
          "NOT RATED",
          "NOT RATED",
          "NOT RATED",
          "NOT RATED"
         ],
         "xaxis": "x",
         "yaxis": "y"
        },
        {
         "alignmentgroup": "True",
         "bingroup": "x",
         "hovertemplate": "content_rating=%{x}<br>count=%{y}<extra></extra>",
         "legendgroup": "PG",
         "marker": {
          "color": "#ab63fa",
          "pattern": {
           "shape": ""
          }
         },
         "name": "PG",
         "offsetgroup": "PG",
         "orientation": "v",
         "showlegend": true,
         "type": "histogram",
         "x": [
          "PG",
          "PG",
          "PG",
          "PG",
          "PG",
          "PG",
          "PG",
          "PG",
          "PG",
          "PG",
          "PG",
          "PG",
          "PG",
          "PG",
          "PG",
          "PG",
          "PG",
          "PG",
          "PG",
          "PG",
          "PG",
          "PG",
          "PG",
          "PG",
          "PG",
          "PG",
          "PG",
          "PG",
          "PG",
          "PG",
          "PG",
          "PG",
          "PG",
          "PG",
          "PG",
          "PG",
          "PG",
          "PG",
          "PG",
          "PG",
          "PG",
          "PG",
          "PG",
          "PG",
          "PG",
          "PG",
          "PG",
          "PG",
          "PG",
          "PG",
          "PG",
          "PG",
          "PG",
          "PG",
          "PG",
          "PG",
          "PG",
          "PG",
          "PG",
          "PG",
          "PG",
          "PG",
          "PG",
          "PG",
          "PG",
          "PG",
          "PG",
          "PG",
          "PG",
          "PG",
          "PG",
          "PG",
          "PG",
          "PG",
          "PG",
          "PG",
          "PG",
          "PG",
          "PG",
          "PG",
          "PG",
          "PG",
          "PG",
          "PG",
          "PG",
          "PG",
          "PG",
          "PG",
          "PG",
          "PG",
          "PG",
          "PG",
          "PG",
          "PG",
          "PG",
          "PG",
          "PG",
          "PG",
          "PG",
          "PG",
          "PG",
          "PG",
          "PG",
          "PG",
          "PG",
          "PG",
          "PG",
          "PG",
          "PG",
          "PG",
          "PG",
          "PG",
          "PG",
          "PG",
          "PG",
          "PG",
          "PG",
          "PG",
          "PG",
          "PG",
          "PG",
          "PG",
          "PG"
         ],
         "xaxis": "x",
         "yaxis": "y"
        },
        {
         "alignmentgroup": "True",
         "bingroup": "x",
         "hovertemplate": "content_rating=%{x}<br>count=%{y}<extra></extra>",
         "legendgroup": "UNRATED",
         "marker": {
          "color": "#FFA15A",
          "pattern": {
           "shape": ""
          }
         },
         "name": "UNRATED",
         "offsetgroup": "UNRATED",
         "orientation": "v",
         "showlegend": true,
         "type": "histogram",
         "x": [
          "UNRATED",
          "UNRATED",
          "UNRATED",
          "UNRATED",
          "UNRATED",
          "UNRATED",
          "UNRATED",
          "UNRATED",
          "UNRATED",
          "UNRATED",
          "UNRATED",
          "UNRATED",
          "UNRATED",
          "UNRATED",
          "UNRATED",
          "UNRATED",
          "UNRATED",
          "UNRATED",
          "UNRATED",
          "UNRATED",
          "UNRATED",
          "UNRATED",
          "UNRATED",
          "UNRATED",
          "UNRATED",
          "UNRATED",
          "UNRATED",
          "UNRATED",
          "UNRATED",
          "UNRATED",
          "UNRATED",
          "UNRATED",
          "UNRATED",
          "UNRATED",
          "UNRATED",
          "UNRATED",
          "UNRATED",
          "UNRATED"
         ],
         "xaxis": "x",
         "yaxis": "y"
        },
        {
         "alignmentgroup": "True",
         "bingroup": "x",
         "hovertemplate": "content_rating=%{x}<br>count=%{y}<extra></extra>",
         "legendgroup": "APPROVED",
         "marker": {
          "color": "#19d3f3",
          "pattern": {
           "shape": ""
          }
         },
         "name": "APPROVED",
         "offsetgroup": "APPROVED",
         "orientation": "v",
         "showlegend": true,
         "type": "histogram",
         "x": [
          "APPROVED",
          "APPROVED",
          "APPROVED",
          "APPROVED",
          "APPROVED",
          "APPROVED",
          "APPROVED",
          "APPROVED",
          "APPROVED",
          "APPROVED",
          "APPROVED",
          "APPROVED",
          "APPROVED",
          "APPROVED",
          "APPROVED",
          "APPROVED",
          "APPROVED",
          "APPROVED",
          "APPROVED",
          "APPROVED",
          "APPROVED",
          "APPROVED",
          "APPROVED",
          "APPROVED",
          "APPROVED",
          "APPROVED",
          "APPROVED",
          "APPROVED",
          "APPROVED",
          "APPROVED",
          "APPROVED",
          "APPROVED",
          "APPROVED",
          "APPROVED",
          "APPROVED",
          "APPROVED",
          "APPROVED",
          "APPROVED",
          "APPROVED",
          "APPROVED",
          "APPROVED",
          "APPROVED",
          "APPROVED",
          "APPROVED",
          "APPROVED",
          "APPROVED",
          "APPROVED"
         ],
         "xaxis": "x",
         "yaxis": "y"
        },
        {
         "alignmentgroup": "True",
         "bingroup": "x",
         "hovertemplate": "content_rating=%{x}<br>count=%{y}<extra></extra>",
         "legendgroup": "PASSED",
         "marker": {
          "color": "#FF6692",
          "pattern": {
           "shape": ""
          }
         },
         "name": "PASSED",
         "offsetgroup": "PASSED",
         "orientation": "v",
         "showlegend": true,
         "type": "histogram",
         "x": [
          "PASSED",
          "PASSED",
          "PASSED",
          "PASSED",
          "PASSED",
          "PASSED",
          "PASSED"
         ],
         "xaxis": "x",
         "yaxis": "y"
        },
        {
         "alignmentgroup": "True",
         "bingroup": "x",
         "hovertemplate": "content_rating=%{x}<br>count=%{y}<extra></extra>",
         "legendgroup": "G",
         "marker": {
          "color": "#B6E880",
          "pattern": {
           "shape": ""
          }
         },
         "name": "G",
         "offsetgroup": "G",
         "orientation": "v",
         "showlegend": true,
         "type": "histogram",
         "x": [
          "G",
          "G",
          "G",
          "G",
          "G",
          "G",
          "G",
          "G",
          "G",
          "G",
          "G",
          "G",
          "G",
          "G",
          "G",
          "G",
          "G",
          "G",
          "G",
          "G",
          "G",
          "G",
          "G",
          "G",
          "G",
          "G",
          "G",
          "G",
          "G",
          "G",
          "G",
          "G"
         ],
         "xaxis": "x",
         "yaxis": "y"
        },
        {
         "alignmentgroup": "True",
         "bingroup": "x",
         "hovertemplate": "content_rating=%{x}<br>count=%{y}<extra></extra>",
         "legendgroup": "X",
         "marker": {
          "color": "#FF97FF",
          "pattern": {
           "shape": ""
          }
         },
         "name": "X",
         "offsetgroup": "X",
         "orientation": "v",
         "showlegend": true,
         "type": "histogram",
         "x": [
          "X",
          "X",
          "X",
          "X"
         ],
         "xaxis": "x",
         "yaxis": "y"
        },
        {
         "alignmentgroup": "True",
         "bingroup": "x",
         "hovertemplate": "content_rating=%{x}<br>count=%{y}<extra></extra>",
         "legendgroup": "TV-MA",
         "marker": {
          "color": "#636efa",
          "pattern": {
           "shape": ""
          }
         },
         "name": "TV-MA",
         "offsetgroup": "TV-MA",
         "orientation": "v",
         "showlegend": true,
         "type": "histogram",
         "x": [
          "TV-MA"
         ],
         "xaxis": "x",
         "yaxis": "y"
        },
        {
         "alignmentgroup": "True",
         "bingroup": "x",
         "hovertemplate": "content_rating=%{x}<br>count=%{y}<extra></extra>",
         "legendgroup": "GP",
         "marker": {
          "color": "#EF553B",
          "pattern": {
           "shape": ""
          }
         },
         "name": "GP",
         "offsetgroup": "GP",
         "orientation": "v",
         "showlegend": true,
         "type": "histogram",
         "x": [
          "GP",
          "GP",
          "GP"
         ],
         "xaxis": "x",
         "yaxis": "y"
        },
        {
         "alignmentgroup": "True",
         "bingroup": "x",
         "hovertemplate": "content_rating=%{x}<br>count=%{y}<extra></extra>",
         "legendgroup": "NC-17",
         "marker": {
          "color": "#00cc96",
          "pattern": {
           "shape": ""
          }
         },
         "name": "NC-17",
         "offsetgroup": "NC-17",
         "orientation": "v",
         "showlegend": true,
         "type": "histogram",
         "x": [
          "NC-17",
          "NC-17",
          "NC-17",
          "NC-17",
          "NC-17",
          "NC-17",
          "NC-17"
         ],
         "xaxis": "x",
         "yaxis": "y"
        }
       ],
       "layout": {
        "autosize": true,
        "barmode": "relative",
        "legend": {
         "title": {
          "text": "content_rating"
         },
         "tracegroupgap": 0
        },
        "margin": {
         "t": 60
        },
        "plot_bgcolor": "white",
        "template": {
         "data": {
          "bar": [
           {
            "error_x": {
             "color": "#2a3f5f"
            },
            "error_y": {
             "color": "#2a3f5f"
            },
            "marker": {
             "line": {
              "color": "#E5ECF6",
              "width": 0.5
             },
             "pattern": {
              "fillmode": "overlay",
              "size": 10,
              "solidity": 0.2
             }
            },
            "type": "bar"
           }
          ],
          "barpolar": [
           {
            "marker": {
             "line": {
              "color": "#E5ECF6",
              "width": 0.5
             },
             "pattern": {
              "fillmode": "overlay",
              "size": 10,
              "solidity": 0.2
             }
            },
            "type": "barpolar"
           }
          ],
          "carpet": [
           {
            "aaxis": {
             "endlinecolor": "#2a3f5f",
             "gridcolor": "white",
             "linecolor": "white",
             "minorgridcolor": "white",
             "startlinecolor": "#2a3f5f"
            },
            "baxis": {
             "endlinecolor": "#2a3f5f",
             "gridcolor": "white",
             "linecolor": "white",
             "minorgridcolor": "white",
             "startlinecolor": "#2a3f5f"
            },
            "type": "carpet"
           }
          ],
          "choropleth": [
           {
            "colorbar": {
             "outlinewidth": 0,
             "ticks": ""
            },
            "type": "choropleth"
           }
          ],
          "contour": [
           {
            "colorbar": {
             "outlinewidth": 0,
             "ticks": ""
            },
            "colorscale": [
             [
              0,
              "#0d0887"
             ],
             [
              0.1111111111111111,
              "#46039f"
             ],
             [
              0.2222222222222222,
              "#7201a8"
             ],
             [
              0.3333333333333333,
              "#9c179e"
             ],
             [
              0.4444444444444444,
              "#bd3786"
             ],
             [
              0.5555555555555556,
              "#d8576b"
             ],
             [
              0.6666666666666666,
              "#ed7953"
             ],
             [
              0.7777777777777778,
              "#fb9f3a"
             ],
             [
              0.8888888888888888,
              "#fdca26"
             ],
             [
              1,
              "#f0f921"
             ]
            ],
            "type": "contour"
           }
          ],
          "contourcarpet": [
           {
            "colorbar": {
             "outlinewidth": 0,
             "ticks": ""
            },
            "type": "contourcarpet"
           }
          ],
          "heatmap": [
           {
            "colorbar": {
             "outlinewidth": 0,
             "ticks": ""
            },
            "colorscale": [
             [
              0,
              "#0d0887"
             ],
             [
              0.1111111111111111,
              "#46039f"
             ],
             [
              0.2222222222222222,
              "#7201a8"
             ],
             [
              0.3333333333333333,
              "#9c179e"
             ],
             [
              0.4444444444444444,
              "#bd3786"
             ],
             [
              0.5555555555555556,
              "#d8576b"
             ],
             [
              0.6666666666666666,
              "#ed7953"
             ],
             [
              0.7777777777777778,
              "#fb9f3a"
             ],
             [
              0.8888888888888888,
              "#fdca26"
             ],
             [
              1,
              "#f0f921"
             ]
            ],
            "type": "heatmap"
           }
          ],
          "heatmapgl": [
           {
            "colorbar": {
             "outlinewidth": 0,
             "ticks": ""
            },
            "colorscale": [
             [
              0,
              "#0d0887"
             ],
             [
              0.1111111111111111,
              "#46039f"
             ],
             [
              0.2222222222222222,
              "#7201a8"
             ],
             [
              0.3333333333333333,
              "#9c179e"
             ],
             [
              0.4444444444444444,
              "#bd3786"
             ],
             [
              0.5555555555555556,
              "#d8576b"
             ],
             [
              0.6666666666666666,
              "#ed7953"
             ],
             [
              0.7777777777777778,
              "#fb9f3a"
             ],
             [
              0.8888888888888888,
              "#fdca26"
             ],
             [
              1,
              "#f0f921"
             ]
            ],
            "type": "heatmapgl"
           }
          ],
          "histogram": [
           {
            "marker": {
             "pattern": {
              "fillmode": "overlay",
              "size": 10,
              "solidity": 0.2
             }
            },
            "type": "histogram"
           }
          ],
          "histogram2d": [
           {
            "colorbar": {
             "outlinewidth": 0,
             "ticks": ""
            },
            "colorscale": [
             [
              0,
              "#0d0887"
             ],
             [
              0.1111111111111111,
              "#46039f"
             ],
             [
              0.2222222222222222,
              "#7201a8"
             ],
             [
              0.3333333333333333,
              "#9c179e"
             ],
             [
              0.4444444444444444,
              "#bd3786"
             ],
             [
              0.5555555555555556,
              "#d8576b"
             ],
             [
              0.6666666666666666,
              "#ed7953"
             ],
             [
              0.7777777777777778,
              "#fb9f3a"
             ],
             [
              0.8888888888888888,
              "#fdca26"
             ],
             [
              1,
              "#f0f921"
             ]
            ],
            "type": "histogram2d"
           }
          ],
          "histogram2dcontour": [
           {
            "colorbar": {
             "outlinewidth": 0,
             "ticks": ""
            },
            "colorscale": [
             [
              0,
              "#0d0887"
             ],
             [
              0.1111111111111111,
              "#46039f"
             ],
             [
              0.2222222222222222,
              "#7201a8"
             ],
             [
              0.3333333333333333,
              "#9c179e"
             ],
             [
              0.4444444444444444,
              "#bd3786"
             ],
             [
              0.5555555555555556,
              "#d8576b"
             ],
             [
              0.6666666666666666,
              "#ed7953"
             ],
             [
              0.7777777777777778,
              "#fb9f3a"
             ],
             [
              0.8888888888888888,
              "#fdca26"
             ],
             [
              1,
              "#f0f921"
             ]
            ],
            "type": "histogram2dcontour"
           }
          ],
          "mesh3d": [
           {
            "colorbar": {
             "outlinewidth": 0,
             "ticks": ""
            },
            "type": "mesh3d"
           }
          ],
          "parcoords": [
           {
            "line": {
             "colorbar": {
              "outlinewidth": 0,
              "ticks": ""
             }
            },
            "type": "parcoords"
           }
          ],
          "pie": [
           {
            "automargin": true,
            "type": "pie"
           }
          ],
          "scatter": [
           {
            "fillpattern": {
             "fillmode": "overlay",
             "size": 10,
             "solidity": 0.2
            },
            "type": "scatter"
           }
          ],
          "scatter3d": [
           {
            "line": {
             "colorbar": {
              "outlinewidth": 0,
              "ticks": ""
             }
            },
            "marker": {
             "colorbar": {
              "outlinewidth": 0,
              "ticks": ""
             }
            },
            "type": "scatter3d"
           }
          ],
          "scattercarpet": [
           {
            "marker": {
             "colorbar": {
              "outlinewidth": 0,
              "ticks": ""
             }
            },
            "type": "scattercarpet"
           }
          ],
          "scattergeo": [
           {
            "marker": {
             "colorbar": {
              "outlinewidth": 0,
              "ticks": ""
             }
            },
            "type": "scattergeo"
           }
          ],
          "scattergl": [
           {
            "marker": {
             "colorbar": {
              "outlinewidth": 0,
              "ticks": ""
             }
            },
            "type": "scattergl"
           }
          ],
          "scattermapbox": [
           {
            "marker": {
             "colorbar": {
              "outlinewidth": 0,
              "ticks": ""
             }
            },
            "type": "scattermapbox"
           }
          ],
          "scatterpolar": [
           {
            "marker": {
             "colorbar": {
              "outlinewidth": 0,
              "ticks": ""
             }
            },
            "type": "scatterpolar"
           }
          ],
          "scatterpolargl": [
           {
            "marker": {
             "colorbar": {
              "outlinewidth": 0,
              "ticks": ""
             }
            },
            "type": "scatterpolargl"
           }
          ],
          "scatterternary": [
           {
            "marker": {
             "colorbar": {
              "outlinewidth": 0,
              "ticks": ""
             }
            },
            "type": "scatterternary"
           }
          ],
          "surface": [
           {
            "colorbar": {
             "outlinewidth": 0,
             "ticks": ""
            },
            "colorscale": [
             [
              0,
              "#0d0887"
             ],
             [
              0.1111111111111111,
              "#46039f"
             ],
             [
              0.2222222222222222,
              "#7201a8"
             ],
             [
              0.3333333333333333,
              "#9c179e"
             ],
             [
              0.4444444444444444,
              "#bd3786"
             ],
             [
              0.5555555555555556,
              "#d8576b"
             ],
             [
              0.6666666666666666,
              "#ed7953"
             ],
             [
              0.7777777777777778,
              "#fb9f3a"
             ],
             [
              0.8888888888888888,
              "#fdca26"
             ],
             [
              1,
              "#f0f921"
             ]
            ],
            "type": "surface"
           }
          ],
          "table": [
           {
            "cells": {
             "fill": {
              "color": "#EBF0F8"
             },
             "line": {
              "color": "white"
             }
            },
            "header": {
             "fill": {
              "color": "#C8D4E3"
             },
             "line": {
              "color": "white"
             }
            },
            "type": "table"
           }
          ]
         },
         "layout": {
          "annotationdefaults": {
           "arrowcolor": "#2a3f5f",
           "arrowhead": 0,
           "arrowwidth": 1
          },
          "autotypenumbers": "strict",
          "coloraxis": {
           "colorbar": {
            "outlinewidth": 0,
            "ticks": ""
           }
          },
          "colorscale": {
           "diverging": [
            [
             0,
             "#8e0152"
            ],
            [
             0.1,
             "#c51b7d"
            ],
            [
             0.2,
             "#de77ae"
            ],
            [
             0.3,
             "#f1b6da"
            ],
            [
             0.4,
             "#fde0ef"
            ],
            [
             0.5,
             "#f7f7f7"
            ],
            [
             0.6,
             "#e6f5d0"
            ],
            [
             0.7,
             "#b8e186"
            ],
            [
             0.8,
             "#7fbc41"
            ],
            [
             0.9,
             "#4d9221"
            ],
            [
             1,
             "#276419"
            ]
           ],
           "sequential": [
            [
             0,
             "#0d0887"
            ],
            [
             0.1111111111111111,
             "#46039f"
            ],
            [
             0.2222222222222222,
             "#7201a8"
            ],
            [
             0.3333333333333333,
             "#9c179e"
            ],
            [
             0.4444444444444444,
             "#bd3786"
            ],
            [
             0.5555555555555556,
             "#d8576b"
            ],
            [
             0.6666666666666666,
             "#ed7953"
            ],
            [
             0.7777777777777778,
             "#fb9f3a"
            ],
            [
             0.8888888888888888,
             "#fdca26"
            ],
            [
             1,
             "#f0f921"
            ]
           ],
           "sequentialminus": [
            [
             0,
             "#0d0887"
            ],
            [
             0.1111111111111111,
             "#46039f"
            ],
            [
             0.2222222222222222,
             "#7201a8"
            ],
            [
             0.3333333333333333,
             "#9c179e"
            ],
            [
             0.4444444444444444,
             "#bd3786"
            ],
            [
             0.5555555555555556,
             "#d8576b"
            ],
            [
             0.6666666666666666,
             "#ed7953"
            ],
            [
             0.7777777777777778,
             "#fb9f3a"
            ],
            [
             0.8888888888888888,
             "#fdca26"
            ],
            [
             1,
             "#f0f921"
            ]
           ]
          },
          "colorway": [
           "#636efa",
           "#EF553B",
           "#00cc96",
           "#ab63fa",
           "#FFA15A",
           "#19d3f3",
           "#FF6692",
           "#B6E880",
           "#FF97FF",
           "#FECB52"
          ],
          "font": {
           "color": "#2a3f5f"
          },
          "geo": {
           "bgcolor": "white",
           "lakecolor": "white",
           "landcolor": "#E5ECF6",
           "showlakes": true,
           "showland": true,
           "subunitcolor": "white"
          },
          "hoverlabel": {
           "align": "left"
          },
          "hovermode": "closest",
          "mapbox": {
           "style": "light"
          },
          "paper_bgcolor": "white",
          "plot_bgcolor": "#E5ECF6",
          "polar": {
           "angularaxis": {
            "gridcolor": "white",
            "linecolor": "white",
            "ticks": ""
           },
           "bgcolor": "#E5ECF6",
           "radialaxis": {
            "gridcolor": "white",
            "linecolor": "white",
            "ticks": ""
           }
          },
          "scene": {
           "xaxis": {
            "backgroundcolor": "#E5ECF6",
            "gridcolor": "white",
            "gridwidth": 2,
            "linecolor": "white",
            "showbackground": true,
            "ticks": "",
            "zerolinecolor": "white"
           },
           "yaxis": {
            "backgroundcolor": "#E5ECF6",
            "gridcolor": "white",
            "gridwidth": 2,
            "linecolor": "white",
            "showbackground": true,
            "ticks": "",
            "zerolinecolor": "white"
           },
           "zaxis": {
            "backgroundcolor": "#E5ECF6",
            "gridcolor": "white",
            "gridwidth": 2,
            "linecolor": "white",
            "showbackground": true,
            "ticks": "",
            "zerolinecolor": "white"
           }
          },
          "shapedefaults": {
           "line": {
            "color": "#2a3f5f"
           }
          },
          "ternary": {
           "aaxis": {
            "gridcolor": "white",
            "linecolor": "white",
            "ticks": ""
           },
           "baxis": {
            "gridcolor": "white",
            "linecolor": "white",
            "ticks": ""
           },
           "bgcolor": "#E5ECF6",
           "caxis": {
            "gridcolor": "white",
            "linecolor": "white",
            "ticks": ""
           }
          },
          "title": {
           "x": 0.05
          },
          "xaxis": {
           "automargin": true,
           "gridcolor": "white",
           "linecolor": "white",
           "ticks": "",
           "title": {
            "standoff": 15
           },
           "zerolinecolor": "white",
           "zerolinewidth": 2
          },
          "yaxis": {
           "automargin": true,
           "gridcolor": "white",
           "linecolor": "white",
           "ticks": "",
           "title": {
            "standoff": 15
           },
           "zerolinecolor": "white",
           "zerolinewidth": 2
          }
         }
        },
        "title": {
         "text": "Movies by Content Rating",
         "x": 0.5
        },
        "xaxis": {
         "anchor": "y",
         "autorange": true,
         "categoryarray": [
          "R",
          "PG-13",
          "NOT RATED",
          "PG",
          "UNRATED",
          "APPROVED",
          "PASSED",
          "G",
          "X",
          null,
          "TV-MA",
          "GP",
          "NC-17"
         ],
         "categoryorder": "array",
         "domain": [
          0,
          1
         ],
         "range": [
          -0.5,
          11.5
         ],
         "title": {
          "text": "Content Rating"
         },
         "type": "category"
        },
        "yaxis": {
         "anchor": "x",
         "autorange": true,
         "domain": [
          0,
          1
         ],
         "range": [
          0,
          484.2105263157895
         ],
         "title": {
          "text": "Number of Movies"
         }
        }
       }
      },
      "image/png": "[encoded data removed]",
      "text/html": [
       "<div>                            <div id=\"46e796f2-12a7-4a1c-9ec4-a5bd63228479\" class=\"plotly-graph-div\" style=\"height:525px; width:100%;\"></div>            <script type=\"text/javascript\">                require([\"plotly\"], function(Plotly) {                    window.PLOTLYENV=window.PLOTLYENV || {};                                    if (document.getElementById(\"46e796f2-12a7-4a1c-9ec4-a5bd63228479\")) {                    Plotly.newPlot(                        \"46e796f2-12a7-4a1c-9ec4-a5bd63228479\",                        [{\"alignmentgroup\":\"True\",\"bingroup\":\"x\",\"hovertemplate\":\"content_rating=%{x}<br>count=%{y}<extra></extra>\",\"legendgroup\":\"R\",\"marker\":{\"color\":\"#636efa\",\"pattern\":{\"shape\":\"\"}},\"name\":\"R\",\"offsetgroup\":\"R\",\"orientation\":\"v\",\"showlegend\":true,\"x\":[\"R\",\"R\",\"R\",\"R\",\"R\",\"R\",\"R\",\"R\",\"R\",\"R\",\"R\",\"R\",\"R\",\"R\",\"R\",\"R\",\"R\",\"R\",\"R\",\"R\",\"R\",\"R\",\"R\",\"R\",\"R\",\"R\",\"R\",\"R\",\"R\",\"R\",\"R\",\"R\",\"R\",\"R\",\"R\",\"R\",\"R\",\"R\",\"R\",\"R\",\"R\",\"R\",\"R\",\"R\",\"R\",\"R\",\"R\",\"R\",\"R\",\"R\",\"R\",\"R\",\"R\",\"R\",\"R\",\"R\",\"R\",\"R\",\"R\",\"R\",\"R\",\"R\",\"R\",\"R\",\"R\",\"R\",\"R\",\"R\",\"R\",\"R\",\"R\",\"R\",\"R\",\"R\",\"R\",\"R\",\"R\",\"R\",\"R\",\"R\",\"R\",\"R\",\"R\",\"R\",\"R\",\"R\",\"R\",\"R\",\"R\",\"R\",\"R\",\"R\",\"R\",\"R\",\"R\",\"R\",\"R\",\"R\",\"R\",\"R\",\"R\",\"R\",\"R\",\"R\",\"R\",\"R\",\"R\",\"R\",\"R\",\"R\",\"R\",\"R\",\"R\",\"R\",\"R\",\"R\",\"R\",\"R\",\"R\",\"R\",\"R\",\"R\",\"R\",\"R\",\"R\",\"R\",\"R\",\"R\",\"R\",\"R\",\"R\",\"R\",\"R\",\"R\",\"R\",\"R\",\"R\",\"R\",\"R\",\"R\",\"R\",\"R\",\"R\",\"R\",\"R\",\"R\",\"R\",\"R\",\"R\",\"R\",\"R\",\"R\",\"R\",\"R\",\"R\",\"R\",\"R\",\"R\",\"R\",\"R\",\"R\",\"R\",\"R\",\"R\",\"R\",\"R\",\"R\",\"R\",\"R\",\"R\",\"R\",\"R\",\"R\",\"R\",\"R\",\"R\",\"R\",\"R\",\"R\",\"R\",\"R\",\"R\",\"R\",\"R\",\"R\",\"R\",\"R\",\"R\",\"R\",\"R\",\"R\",\"R\",\"R\",\"R\",\"R\",\"R\",\"R\",\"R\",\"R\",\"R\",\"R\",\"R\",\"R\",\"R\",\"R\",\"R\",\"R\",\"R\",\"R\",\"R\",\"R\",\"R\",\"R\",\"R\",\"R\",\"R\",\"R\",\"R\",\"R\",\"R\",\"R\",\"R\",\"R\",\"R\",\"R\",\"R\",\"R\",\"R\",\"R\",\"R\",\"R\",\"R\",\"R\",\"R\",\"R\",\"R\",\"R\",\"R\",\"R\",\"R\",\"R\",\"R\",\"R\",\"R\",\"R\",\"R\",\"R\",\"R\",\"R\",\"R\",\"R\",\"R\",\"R\",\"R\",\"R\",\"R\",\"R\",\"R\",\"R\",\"R\",\"R\",\"R\",\"R\",\"R\",\"R\",\"R\",\"R\",\"R\",\"R\",\"R\",\"R\",\"R\",\"R\",\"R\",\"R\",\"R\",\"R\",\"R\",\"R\",\"R\",\"R\",\"R\",\"R\",\"R\",\"R\",\"R\",\"R\",\"R\",\"R\",\"R\",\"R\",\"R\",\"R\",\"R\",\"R\",\"R\",\"R\",\"R\",\"R\",\"R\",\"R\",\"R\",\"R\",\"R\",\"R\",\"R\",\"R\",\"R\",\"R\",\"R\",\"R\",\"R\",\"R\",\"R\",\"R\",\"R\",\"R\",\"R\",\"R\",\"R\",\"R\",\"R\",\"R\",\"R\",\"R\",\"R\",\"R\",\"R\",\"R\",\"R\",\"R\",\"R\",\"R\",\"R\",\"R\",\"R\",\"R\",\"R\",\"R\",\"R\",\"R\",\"R\",\"R\",\"R\",\"R\",\"R\",\"R\",\"R\",\"R\",\"R\",\"R\",\"R\",\"R\",\"R\",\"R\",\"R\",\"R\",\"R\",\"R\",\"R\",\"R\",\"R\",\"R\",\"R\",\"R\",\"R\",\"R\",\"R\",\"R\",\"R\",\"R\",\"R\",\"R\",\"R\",\"R\",\"R\",\"R\",\"R\",\"R\",\"R\",\"R\",\"R\",\"R\",\"R\",\"R\",\"R\",\"R\",\"R\",\"R\",\"R\",\"R\",\"R\",\"R\",\"R\",\"R\",\"R\",\"R\",\"R\",\"R\",\"R\",\"R\",\"R\",\"R\",\"R\",\"R\",\"R\",\"R\",\"R\",\"R\",\"R\",\"R\",\"R\",\"R\",\"R\",\"R\",\"R\",\"R\",\"R\",\"R\",\"R\",\"R\",\"R\",\"R\",\"R\",\"R\",\"R\",\"R\",\"R\",\"R\",\"R\",\"R\",\"R\",\"R\",\"R\",\"R\",\"R\",\"R\",\"R\",\"R\",\"R\",\"R\",\"R\",\"R\",\"R\",\"R\",\"R\",\"R\",\"R\",\"R\",\"R\",\"R\",\"R\",\"R\",\"R\",\"R\",\"R\",\"R\",\"R\",\"R\",\"R\"],\"xaxis\":\"x\",\"yaxis\":\"y\",\"type\":\"histogram\"},{\"alignmentgroup\":\"True\",\"bingroup\":\"x\",\"hovertemplate\":\"content_rating=%{x}<br>count=%{y}<extra></extra>\",\"legendgroup\":\"PG-13\",\"marker\":{\"color\":\"#EF553B\",\"pattern\":{\"shape\":\"\"}},\"name\":\"PG-13\",\"offsetgroup\":\"PG-13\",\"orientation\":\"v\",\"showlegend\":true,\"x\":[\"PG-13\",\"PG-13\",\"PG-13\",\"PG-13\",\"PG-13\",\"PG-13\",\"PG-13\",\"PG-13\",\"PG-13\",\"PG-13\",\"PG-13\",\"PG-13\",\"PG-13\",\"PG-13\",\"PG-13\",\"PG-13\",\"PG-13\",\"PG-13\",\"PG-13\",\"PG-13\",\"PG-13\",\"PG-13\",\"PG-13\",\"PG-13\",\"PG-13\",\"PG-13\",\"PG-13\",\"PG-13\",\"PG-13\",\"PG-13\",\"PG-13\",\"PG-13\",\"PG-13\",\"PG-13\",\"PG-13\",\"PG-13\",\"PG-13\",\"PG-13\",\"PG-13\",\"PG-13\",\"PG-13\",\"PG-13\",\"PG-13\",\"PG-13\",\"PG-13\",\"PG-13\",\"PG-13\",\"PG-13\",\"PG-13\",\"PG-13\",\"PG-13\",\"PG-13\",\"PG-13\",\"PG-13\",\"PG-13\",\"PG-13\",\"PG-13\",\"PG-13\",\"PG-13\",\"PG-13\",\"PG-13\",\"PG-13\",\"PG-13\",\"PG-13\",\"PG-13\",\"PG-13\",\"PG-13\",\"PG-13\",\"PG-13\",\"PG-13\",\"PG-13\",\"PG-13\",\"PG-13\",\"PG-13\",\"PG-13\",\"PG-13\",\"PG-13\",\"PG-13\",\"PG-13\",\"PG-13\",\"PG-13\",\"PG-13\",\"PG-13\",\"PG-13\",\"PG-13\",\"PG-13\",\"PG-13\",\"PG-13\",\"PG-13\",\"PG-13\",\"PG-13\",\"PG-13\",\"PG-13\",\"PG-13\",\"PG-13\",\"PG-13\",\"PG-13\",\"PG-13\",\"PG-13\",\"PG-13\",\"PG-13\",\"PG-13\",\"PG-13\",\"PG-13\",\"PG-13\",\"PG-13\",\"PG-13\",\"PG-13\",\"PG-13\",\"PG-13\",\"PG-13\",\"PG-13\",\"PG-13\",\"PG-13\",\"PG-13\",\"PG-13\",\"PG-13\",\"PG-13\",\"PG-13\",\"PG-13\",\"PG-13\",\"PG-13\",\"PG-13\",\"PG-13\",\"PG-13\",\"PG-13\",\"PG-13\",\"PG-13\",\"PG-13\",\"PG-13\",\"PG-13\",\"PG-13\",\"PG-13\",\"PG-13\",\"PG-13\",\"PG-13\",\"PG-13\",\"PG-13\",\"PG-13\",\"PG-13\",\"PG-13\",\"PG-13\",\"PG-13\",\"PG-13\",\"PG-13\",\"PG-13\",\"PG-13\",\"PG-13\",\"PG-13\",\"PG-13\",\"PG-13\",\"PG-13\",\"PG-13\",\"PG-13\",\"PG-13\",\"PG-13\",\"PG-13\",\"PG-13\",\"PG-13\",\"PG-13\",\"PG-13\",\"PG-13\",\"PG-13\",\"PG-13\",\"PG-13\",\"PG-13\",\"PG-13\",\"PG-13\",\"PG-13\",\"PG-13\",\"PG-13\",\"PG-13\",\"PG-13\",\"PG-13\",\"PG-13\",\"PG-13\",\"PG-13\",\"PG-13\",\"PG-13\",\"PG-13\",\"PG-13\",\"PG-13\",\"PG-13\",\"PG-13\",\"PG-13\",\"PG-13\",\"PG-13\",\"PG-13\",\"PG-13\"],\"xaxis\":\"x\",\"yaxis\":\"y\",\"type\":\"histogram\"},{\"alignmentgroup\":\"True\",\"bingroup\":\"x\",\"hovertemplate\":\"content_rating=%{x}<br>count=%{y}<extra></extra>\",\"legendgroup\":\"NOT RATED\",\"marker\":{\"color\":\"#00cc96\",\"pattern\":{\"shape\":\"\"}},\"name\":\"NOT RATED\",\"offsetgroup\":\"NOT RATED\",\"orientation\":\"v\",\"showlegend\":true,\"x\":[\"NOT RATED\",\"NOT RATED\",\"NOT RATED\",\"NOT RATED\",\"NOT RATED\",\"NOT RATED\",\"NOT RATED\",\"NOT RATED\",\"NOT RATED\",\"NOT RATED\",\"NOT RATED\",\"NOT RATED\",\"NOT RATED\",\"NOT RATED\",\"NOT RATED\",\"NOT RATED\",\"NOT RATED\",\"NOT RATED\",\"NOT RATED\",\"NOT RATED\",\"NOT RATED\",\"NOT RATED\",\"NOT RATED\",\"NOT RATED\",\"NOT RATED\",\"NOT RATED\",\"NOT RATED\",\"NOT RATED\",\"NOT RATED\",\"NOT RATED\",\"NOT RATED\",\"NOT RATED\",\"NOT RATED\",\"NOT RATED\",\"NOT RATED\",\"NOT RATED\",\"NOT RATED\",\"NOT RATED\",\"NOT RATED\",\"NOT RATED\",\"NOT RATED\",\"NOT RATED\",\"NOT RATED\",\"NOT RATED\",\"NOT RATED\",\"NOT RATED\",\"NOT RATED\",\"NOT RATED\",\"NOT RATED\",\"NOT RATED\",\"NOT RATED\",\"NOT RATED\",\"NOT RATED\",\"NOT RATED\",\"NOT RATED\",\"NOT RATED\",\"NOT RATED\",\"NOT RATED\",\"NOT RATED\",\"NOT RATED\",\"NOT RATED\",\"NOT RATED\",\"NOT RATED\",\"NOT RATED\",\"NOT RATED\"],\"xaxis\":\"x\",\"yaxis\":\"y\",\"type\":\"histogram\"},{\"alignmentgroup\":\"True\",\"bingroup\":\"x\",\"hovertemplate\":\"content_rating=%{x}<br>count=%{y}<extra></extra>\",\"legendgroup\":\"PG\",\"marker\":{\"color\":\"#ab63fa\",\"pattern\":{\"shape\":\"\"}},\"name\":\"PG\",\"offsetgroup\":\"PG\",\"orientation\":\"v\",\"showlegend\":true,\"x\":[\"PG\",\"PG\",\"PG\",\"PG\",\"PG\",\"PG\",\"PG\",\"PG\",\"PG\",\"PG\",\"PG\",\"PG\",\"PG\",\"PG\",\"PG\",\"PG\",\"PG\",\"PG\",\"PG\",\"PG\",\"PG\",\"PG\",\"PG\",\"PG\",\"PG\",\"PG\",\"PG\",\"PG\",\"PG\",\"PG\",\"PG\",\"PG\",\"PG\",\"PG\",\"PG\",\"PG\",\"PG\",\"PG\",\"PG\",\"PG\",\"PG\",\"PG\",\"PG\",\"PG\",\"PG\",\"PG\",\"PG\",\"PG\",\"PG\",\"PG\",\"PG\",\"PG\",\"PG\",\"PG\",\"PG\",\"PG\",\"PG\",\"PG\",\"PG\",\"PG\",\"PG\",\"PG\",\"PG\",\"PG\",\"PG\",\"PG\",\"PG\",\"PG\",\"PG\",\"PG\",\"PG\",\"PG\",\"PG\",\"PG\",\"PG\",\"PG\",\"PG\",\"PG\",\"PG\",\"PG\",\"PG\",\"PG\",\"PG\",\"PG\",\"PG\",\"PG\",\"PG\",\"PG\",\"PG\",\"PG\",\"PG\",\"PG\",\"PG\",\"PG\",\"PG\",\"PG\",\"PG\",\"PG\",\"PG\",\"PG\",\"PG\",\"PG\",\"PG\",\"PG\",\"PG\",\"PG\",\"PG\",\"PG\",\"PG\",\"PG\",\"PG\",\"PG\",\"PG\",\"PG\",\"PG\",\"PG\",\"PG\",\"PG\",\"PG\",\"PG\",\"PG\",\"PG\",\"PG\"],\"xaxis\":\"x\",\"yaxis\":\"y\",\"type\":\"histogram\"},{\"alignmentgroup\":\"True\",\"bingroup\":\"x\",\"hovertemplate\":\"content_rating=%{x}<br>count=%{y}<extra></extra>\",\"legendgroup\":\"UNRATED\",\"marker\":{\"color\":\"#FFA15A\",\"pattern\":{\"shape\":\"\"}},\"name\":\"UNRATED\",\"offsetgroup\":\"UNRATED\",\"orientation\":\"v\",\"showlegend\":true,\"x\":[\"UNRATED\",\"UNRATED\",\"UNRATED\",\"UNRATED\",\"UNRATED\",\"UNRATED\",\"UNRATED\",\"UNRATED\",\"UNRATED\",\"UNRATED\",\"UNRATED\",\"UNRATED\",\"UNRATED\",\"UNRATED\",\"UNRATED\",\"UNRATED\",\"UNRATED\",\"UNRATED\",\"UNRATED\",\"UNRATED\",\"UNRATED\",\"UNRATED\",\"UNRATED\",\"UNRATED\",\"UNRATED\",\"UNRATED\",\"UNRATED\",\"UNRATED\",\"UNRATED\",\"UNRATED\",\"UNRATED\",\"UNRATED\",\"UNRATED\",\"UNRATED\",\"UNRATED\",\"UNRATED\",\"UNRATED\",\"UNRATED\"],\"xaxis\":\"x\",\"yaxis\":\"y\",\"type\":\"histogram\"},{\"alignmentgroup\":\"True\",\"bingroup\":\"x\",\"hovertemplate\":\"content_rating=%{x}<br>count=%{y}<extra></extra>\",\"legendgroup\":\"APPROVED\",\"marker\":{\"color\":\"#19d3f3\",\"pattern\":{\"shape\":\"\"}},\"name\":\"APPROVED\",\"offsetgroup\":\"APPROVED\",\"orientation\":\"v\",\"showlegend\":true,\"x\":[\"APPROVED\",\"APPROVED\",\"APPROVED\",\"APPROVED\",\"APPROVED\",\"APPROVED\",\"APPROVED\",\"APPROVED\",\"APPROVED\",\"APPROVED\",\"APPROVED\",\"APPROVED\",\"APPROVED\",\"APPROVED\",\"APPROVED\",\"APPROVED\",\"APPROVED\",\"APPROVED\",\"APPROVED\",\"APPROVED\",\"APPROVED\",\"APPROVED\",\"APPROVED\",\"APPROVED\",\"APPROVED\",\"APPROVED\",\"APPROVED\",\"APPROVED\",\"APPROVED\",\"APPROVED\",\"APPROVED\",\"APPROVED\",\"APPROVED\",\"APPROVED\",\"APPROVED\",\"APPROVED\",\"APPROVED\",\"APPROVED\",\"APPROVED\",\"APPROVED\",\"APPROVED\",\"APPROVED\",\"APPROVED\",\"APPROVED\",\"APPROVED\",\"APPROVED\",\"APPROVED\"],\"xaxis\":\"x\",\"yaxis\":\"y\",\"type\":\"histogram\"},{\"alignmentgroup\":\"True\",\"bingroup\":\"x\",\"hovertemplate\":\"content_rating=%{x}<br>count=%{y}<extra></extra>\",\"legendgroup\":\"PASSED\",\"marker\":{\"color\":\"#FF6692\",\"pattern\":{\"shape\":\"\"}},\"name\":\"PASSED\",\"offsetgroup\":\"PASSED\",\"orientation\":\"v\",\"showlegend\":true,\"x\":[\"PASSED\",\"PASSED\",\"PASSED\",\"PASSED\",\"PASSED\",\"PASSED\",\"PASSED\"],\"xaxis\":\"x\",\"yaxis\":\"y\",\"type\":\"histogram\"},{\"alignmentgroup\":\"True\",\"bingroup\":\"x\",\"hovertemplate\":\"content_rating=%{x}<br>count=%{y}<extra></extra>\",\"legendgroup\":\"G\",\"marker\":{\"color\":\"#B6E880\",\"pattern\":{\"shape\":\"\"}},\"name\":\"G\",\"offsetgroup\":\"G\",\"orientation\":\"v\",\"showlegend\":true,\"x\":[\"G\",\"G\",\"G\",\"G\",\"G\",\"G\",\"G\",\"G\",\"G\",\"G\",\"G\",\"G\",\"G\",\"G\",\"G\",\"G\",\"G\",\"G\",\"G\",\"G\",\"G\",\"G\",\"G\",\"G\",\"G\",\"G\",\"G\",\"G\",\"G\",\"G\",\"G\",\"G\"],\"xaxis\":\"x\",\"yaxis\":\"y\",\"type\":\"histogram\"},{\"alignmentgroup\":\"True\",\"bingroup\":\"x\",\"hovertemplate\":\"content_rating=%{x}<br>count=%{y}<extra></extra>\",\"legendgroup\":\"X\",\"marker\":{\"color\":\"#FF97FF\",\"pattern\":{\"shape\":\"\"}},\"name\":\"X\",\"offsetgroup\":\"X\",\"orientation\":\"v\",\"showlegend\":true,\"x\":[\"X\",\"X\",\"X\",\"X\"],\"xaxis\":\"x\",\"yaxis\":\"y\",\"type\":\"histogram\"},{\"alignmentgroup\":\"True\",\"bingroup\":\"x\",\"hovertemplate\":\"content_rating=%{x}<br>count=%{y}<extra></extra>\",\"legendgroup\":\"TV-MA\",\"marker\":{\"color\":\"#636efa\",\"pattern\":{\"shape\":\"\"}},\"name\":\"TV-MA\",\"offsetgroup\":\"TV-MA\",\"orientation\":\"v\",\"showlegend\":true,\"x\":[\"TV-MA\"],\"xaxis\":\"x\",\"yaxis\":\"y\",\"type\":\"histogram\"},{\"alignmentgroup\":\"True\",\"bingroup\":\"x\",\"hovertemplate\":\"content_rating=%{x}<br>count=%{y}<extra></extra>\",\"legendgroup\":\"GP\",\"marker\":{\"color\":\"#EF553B\",\"pattern\":{\"shape\":\"\"}},\"name\":\"GP\",\"offsetgroup\":\"GP\",\"orientation\":\"v\",\"showlegend\":true,\"x\":[\"GP\",\"GP\",\"GP\"],\"xaxis\":\"x\",\"yaxis\":\"y\",\"type\":\"histogram\"},{\"alignmentgroup\":\"True\",\"bingroup\":\"x\",\"hovertemplate\":\"content_rating=%{x}<br>count=%{y}<extra></extra>\",\"legendgroup\":\"NC-17\",\"marker\":{\"color\":\"#00cc96\",\"pattern\":{\"shape\":\"\"}},\"name\":\"NC-17\",\"offsetgroup\":\"NC-17\",\"orientation\":\"v\",\"showlegend\":true,\"x\":[\"NC-17\",\"NC-17\",\"NC-17\",\"NC-17\",\"NC-17\",\"NC-17\",\"NC-17\"],\"xaxis\":\"x\",\"yaxis\":\"y\",\"type\":\"histogram\"}],                        {\"template\":{\"data\":{\"histogram2dcontour\":[{\"type\":\"histogram2dcontour\",\"colorbar\":{\"outlinewidth\":0,\"ticks\":\"\"},\"colorscale\":[[0.0,\"#0d0887\"],[0.1111111111111111,\"#46039f\"],[0.2222222222222222,\"#7201a8\"],[0.3333333333333333,\"#9c179e\"],[0.4444444444444444,\"#bd3786\"],[0.5555555555555556,\"#d8576b\"],[0.6666666666666666,\"#ed7953\"],[0.7777777777777778,\"#fb9f3a\"],[0.8888888888888888,\"#fdca26\"],[1.0,\"#f0f921\"]]}],\"choropleth\":[{\"type\":\"choropleth\",\"colorbar\":{\"outlinewidth\":0,\"ticks\":\"\"}}],\"histogram2d\":[{\"type\":\"histogram2d\",\"colorbar\":{\"outlinewidth\":0,\"ticks\":\"\"},\"colorscale\":[[0.0,\"#0d0887\"],[0.1111111111111111,\"#46039f\"],[0.2222222222222222,\"#7201a8\"],[0.3333333333333333,\"#9c179e\"],[0.4444444444444444,\"#bd3786\"],[0.5555555555555556,\"#d8576b\"],[0.6666666666666666,\"#ed7953\"],[0.7777777777777778,\"#fb9f3a\"],[0.8888888888888888,\"#fdca26\"],[1.0,\"#f0f921\"]]}],\"heatmap\":[{\"type\":\"heatmap\",\"colorbar\":{\"outlinewidth\":0,\"ticks\":\"\"},\"colorscale\":[[0.0,\"#0d0887\"],[0.1111111111111111,\"#46039f\"],[0.2222222222222222,\"#7201a8\"],[0.3333333333333333,\"#9c179e\"],[0.4444444444444444,\"#bd3786\"],[0.5555555555555556,\"#d8576b\"],[0.6666666666666666,\"#ed7953\"],[0.7777777777777778,\"#fb9f3a\"],[0.8888888888888888,\"#fdca26\"],[1.0,\"#f0f921\"]]}],\"heatmapgl\":[{\"type\":\"heatmapgl\",\"colorbar\":{\"outlinewidth\":0,\"ticks\":\"\"},\"colorscale\":[[0.0,\"#0d0887\"],[0.1111111111111111,\"#46039f\"],[0.2222222222222222,\"#7201a8\"],[0.3333333333333333,\"#9c179e\"],[0.4444444444444444,\"#bd3786\"],[0.5555555555555556,\"#d8576b\"],[0.6666666666666666,\"#ed7953\"],[0.7777777777777778,\"#fb9f3a\"],[0.8888888888888888,\"#fdca26\"],[1.0,\"#f0f921\"]]}],\"contourcarpet\":[{\"type\":\"contourcarpet\",\"colorbar\":{\"outlinewidth\":0,\"ticks\":\"\"}}],\"contour\":[{\"type\":\"contour\",\"colorbar\":{\"outlinewidth\":0,\"ticks\":\"\"},\"colorscale\":[[0.0,\"#0d0887\"],[0.1111111111111111,\"#46039f\"],[0.2222222222222222,\"#7201a8\"],[0.3333333333333333,\"#9c179e\"],[0.4444444444444444,\"#bd3786\"],[0.5555555555555556,\"#d8576b\"],[0.6666666666666666,\"#ed7953\"],[0.7777777777777778,\"#fb9f3a\"],[0.8888888888888888,\"#fdca26\"],[1.0,\"#f0f921\"]]}],\"surface\":[{\"type\":\"surface\",\"colorbar\":{\"outlinewidth\":0,\"ticks\":\"\"},\"colorscale\":[[0.0,\"#0d0887\"],[0.1111111111111111,\"#46039f\"],[0.2222222222222222,\"#7201a8\"],[0.3333333333333333,\"#9c179e\"],[0.4444444444444444,\"#bd3786\"],[0.5555555555555556,\"#d8576b\"],[0.6666666666666666,\"#ed7953\"],[0.7777777777777778,\"#fb9f3a\"],[0.8888888888888888,\"#fdca26\"],[1.0,\"#f0f921\"]]}],\"mesh3d\":[{\"type\":\"mesh3d\",\"colorbar\":{\"outlinewidth\":0,\"ticks\":\"\"}}],\"scatter\":[{\"fillpattern\":{\"fillmode\":\"overlay\",\"size\":10,\"solidity\":0.2},\"type\":\"scatter\"}],\"parcoords\":[{\"type\":\"parcoords\",\"line\":{\"colorbar\":{\"outlinewidth\":0,\"ticks\":\"\"}}}],\"scatterpolargl\":[{\"type\":\"scatterpolargl\",\"marker\":{\"colorbar\":{\"outlinewidth\":0,\"ticks\":\"\"}}}],\"bar\":[{\"error_x\":{\"color\":\"#2a3f5f\"},\"error_y\":{\"color\":\"#2a3f5f\"},\"marker\":{\"line\":{\"color\":\"#E5ECF6\",\"width\":0.5},\"pattern\":{\"fillmode\":\"overlay\",\"size\":10,\"solidity\":0.2}},\"type\":\"bar\"}],\"scattergeo\":[{\"type\":\"scattergeo\",\"marker\":{\"colorbar\":{\"outlinewidth\":0,\"ticks\":\"\"}}}],\"scatterpolar\":[{\"type\":\"scatterpolar\",\"marker\":{\"colorbar\":{\"outlinewidth\":0,\"ticks\":\"\"}}}],\"histogram\":[{\"marker\":{\"pattern\":{\"fillmode\":\"overlay\",\"size\":10,\"solidity\":0.2}},\"type\":\"histogram\"}],\"scattergl\":[{\"type\":\"scattergl\",\"marker\":{\"colorbar\":{\"outlinewidth\":0,\"ticks\":\"\"}}}],\"scatter3d\":[{\"type\":\"scatter3d\",\"line\":{\"colorbar\":{\"outlinewidth\":0,\"ticks\":\"\"}},\"marker\":{\"colorbar\":{\"outlinewidth\":0,\"ticks\":\"\"}}}],\"scattermapbox\":[{\"type\":\"scattermapbox\",\"marker\":{\"colorbar\":{\"outlinewidth\":0,\"ticks\":\"\"}}}],\"scatterternary\":[{\"type\":\"scatterternary\",\"marker\":{\"colorbar\":{\"outlinewidth\":0,\"ticks\":\"\"}}}],\"scattercarpet\":[{\"type\":\"scattercarpet\",\"marker\":{\"colorbar\":{\"outlinewidth\":0,\"ticks\":\"\"}}}],\"carpet\":[{\"aaxis\":{\"endlinecolor\":\"#2a3f5f\",\"gridcolor\":\"white\",\"linecolor\":\"white\",\"minorgridcolor\":\"white\",\"startlinecolor\":\"#2a3f5f\"},\"baxis\":{\"endlinecolor\":\"#2a3f5f\",\"gridcolor\":\"white\",\"linecolor\":\"white\",\"minorgridcolor\":\"white\",\"startlinecolor\":\"#2a3f5f\"},\"type\":\"carpet\"}],\"table\":[{\"cells\":{\"fill\":{\"color\":\"#EBF0F8\"},\"line\":{\"color\":\"white\"}},\"header\":{\"fill\":{\"color\":\"#C8D4E3\"},\"line\":{\"color\":\"white\"}},\"type\":\"table\"}],\"barpolar\":[{\"marker\":{\"line\":{\"color\":\"#E5ECF6\",\"width\":0.5},\"pattern\":{\"fillmode\":\"overlay\",\"size\":10,\"solidity\":0.2}},\"type\":\"barpolar\"}],\"pie\":[{\"automargin\":true,\"type\":\"pie\"}]},\"layout\":{\"autotypenumbers\":\"strict\",\"colorway\":[\"#636efa\",\"#EF553B\",\"#00cc96\",\"#ab63fa\",\"#FFA15A\",\"#19d3f3\",\"#FF6692\",\"#B6E880\",\"#FF97FF\",\"#FECB52\"],\"font\":{\"color\":\"#2a3f5f\"},\"hovermode\":\"closest\",\"hoverlabel\":{\"align\":\"left\"},\"paper_bgcolor\":\"white\",\"plot_bgcolor\":\"#E5ECF6\",\"polar\":{\"bgcolor\":\"#E5ECF6\",\"angularaxis\":{\"gridcolor\":\"white\",\"linecolor\":\"white\",\"ticks\":\"\"},\"radialaxis\":{\"gridcolor\":\"white\",\"linecolor\":\"white\",\"ticks\":\"\"}},\"ternary\":{\"bgcolor\":\"#E5ECF6\",\"aaxis\":{\"gridcolor\":\"white\",\"linecolor\":\"white\",\"ticks\":\"\"},\"baxis\":{\"gridcolor\":\"white\",\"linecolor\":\"white\",\"ticks\":\"\"},\"caxis\":{\"gridcolor\":\"white\",\"linecolor\":\"white\",\"ticks\":\"\"}},\"coloraxis\":{\"colorbar\":{\"outlinewidth\":0,\"ticks\":\"\"}},\"colorscale\":{\"sequential\":[[0.0,\"#0d0887\"],[0.1111111111111111,\"#46039f\"],[0.2222222222222222,\"#7201a8\"],[0.3333333333333333,\"#9c179e\"],[0.4444444444444444,\"#bd3786\"],[0.5555555555555556,\"#d8576b\"],[0.6666666666666666,\"#ed7953\"],[0.7777777777777778,\"#fb9f3a\"],[0.8888888888888888,\"#fdca26\"],[1.0,\"#f0f921\"]],\"sequentialminus\":[[0.0,\"#0d0887\"],[0.1111111111111111,\"#46039f\"],[0.2222222222222222,\"#7201a8\"],[0.3333333333333333,\"#9c179e\"],[0.4444444444444444,\"#bd3786\"],[0.5555555555555556,\"#d8576b\"],[0.6666666666666666,\"#ed7953\"],[0.7777777777777778,\"#fb9f3a\"],[0.8888888888888888,\"#fdca26\"],[1.0,\"#f0f921\"]],\"diverging\":[[0,\"#8e0152\"],[0.1,\"#c51b7d\"],[0.2,\"#de77ae\"],[0.3,\"#f1b6da\"],[0.4,\"#fde0ef\"],[0.5,\"#f7f7f7\"],[0.6,\"#e6f5d0\"],[0.7,\"#b8e186\"],[0.8,\"#7fbc41\"],[0.9,\"#4d9221\"],[1,\"#276419\"]]},\"xaxis\":{\"gridcolor\":\"white\",\"linecolor\":\"white\",\"ticks\":\"\",\"title\":{\"standoff\":15},\"zerolinecolor\":\"white\",\"automargin\":true,\"zerolinewidth\":2},\"yaxis\":{\"gridcolor\":\"white\",\"linecolor\":\"white\",\"ticks\":\"\",\"title\":{\"standoff\":15},\"zerolinecolor\":\"white\",\"automargin\":true,\"zerolinewidth\":2},\"scene\":{\"xaxis\":{\"backgroundcolor\":\"#E5ECF6\",\"gridcolor\":\"white\",\"linecolor\":\"white\",\"showbackground\":true,\"ticks\":\"\",\"zerolinecolor\":\"white\",\"gridwidth\":2},\"yaxis\":{\"backgroundcolor\":\"#E5ECF6\",\"gridcolor\":\"white\",\"linecolor\":\"white\",\"showbackground\":true,\"ticks\":\"\",\"zerolinecolor\":\"white\",\"gridwidth\":2},\"zaxis\":{\"backgroundcolor\":\"#E5ECF6\",\"gridcolor\":\"white\",\"linecolor\":\"white\",\"showbackground\":true,\"ticks\":\"\",\"zerolinecolor\":\"white\",\"gridwidth\":2}},\"shapedefaults\":{\"line\":{\"color\":\"#2a3f5f\"}},\"annotationdefaults\":{\"arrowcolor\":\"#2a3f5f\",\"arrowhead\":0,\"arrowwidth\":1},\"geo\":{\"bgcolor\":\"white\",\"landcolor\":\"#E5ECF6\",\"subunitcolor\":\"white\",\"showland\":true,\"showlakes\":true,\"lakecolor\":\"white\"},\"title\":{\"x\":0.05},\"mapbox\":{\"style\":\"light\"}}},\"xaxis\":{\"anchor\":\"y\",\"domain\":[0.0,1.0],\"title\":{\"text\":\"Content Rating\"},\"categoryorder\":\"array\",\"categoryarray\":[\"R\",\"PG-13\",\"NOT RATED\",\"PG\",\"UNRATED\",\"APPROVED\",\"PASSED\",\"G\",\"X\",null,\"TV-MA\",\"GP\",\"NC-17\"]},\"yaxis\":{\"anchor\":\"x\",\"domain\":[0.0,1.0],\"title\":{\"text\":\"Number of Movies\"}},\"legend\":{\"title\":{\"text\":\"content_rating\"},\"tracegroupgap\":0},\"margin\":{\"t\":60},\"barmode\":\"relative\",\"title\":{\"text\":\"Movies by Content Rating\",\"x\":0.5},\"plot_bgcolor\":\"white\"},                        {\"responsive\": true}                    ).then(function(){\n",
       "                            \n",
       "var gd = document.getElementById('46e796f2-12a7-4a1c-9ec4-a5bd63228479');\n",
       "var x = new MutationObserver(function (mutations, observer) {{\n",
       "        var display = window.getComputedStyle(gd).display;\n",
       "        if (!display || display === 'none') {{\n",
       "            console.log([gd, 'removed!']);\n",
       "            Plotly.purge(gd);\n",
       "            observer.disconnect();\n",
       "        }}\n",
       "}});\n",
       "\n",
       "// Listen for the removal of the full notebook cells\n",
       "var notebookContainer = gd.closest('#notebook-container');\n",
       "if (notebookContainer) {{\n",
       "    x.observe(notebookContainer, {childList: true});\n",
       "}}\n",
       "\n",
       "// Listen for the clearing of the current output cell\n",
       "var outputEl = gd.closest('.output');\n",
       "if (outputEl) {{\n",
       "    x.observe(outputEl, {childList: true});\n",
       "}}\n",
       "\n",
       "                        })                };                });            </script>        </div>"
      ]
     },
     "metadata": {},
     "output_type": "display_data"
    }
   ],
   "source": [
    "fig = px.histogram(movies, x='content_rating', color='content_rating')\n",
    "fig.update_layout(plot_bgcolor='white',title='Movies by Content Rating',title_x=0.5)\n",
    "fig.update_xaxes(title='Content Rating')\n",
    "fig.update_yaxes(title='Number of Movies')\n",
    "\n",
    "fig.show()"
   ]
  },
  {
   "cell_type": "markdown",
   "metadata": {},
   "source": [
    "#### Convert the following content ratings to \"UNRATED\": NOT RATED, APPROVED, PASSED, GP."
   ]
  },
  {
   "cell_type": "code",
   "execution_count": 449,
   "metadata": {
    "tags": []
   },
   "outputs": [
    {
     "data": {
      "text/plain": [
       "array(['R', 'PG-13', 'UNRATED', 'PG', 'G', 'X', nan, 'TV-MA', 'NC-17'],\n",
       "      dtype=object)"
      ]
     },
     "execution_count": 449,
     "metadata": {},
     "output_type": "execute_result"
    }
   ],
   "source": [
    "# Answer:\n",
    "\n",
    "ratings_to_replace = ['NOT RATED', 'APPROVED', 'PASSED', 'GP']\n",
    "replacement = 'UNRATED'\n",
    "\n",
    "movies['content_rating'] = movies['content_rating'].replace(ratings_to_replace, replacement)\n",
    "movies['content_rating'].unique()"
   ]
  },
  {
   "cell_type": "markdown",
   "metadata": {},
   "source": [
    "### Convert the following content ratings to \"NC-17\": X, TV-MA."
   ]
  },
  {
   "cell_type": "code",
   "execution_count": 450,
   "metadata": {
    "tags": []
   },
   "outputs": [
    {
     "data": {
      "text/plain": [
       "array(['R', 'PG-13', 'UNRATED', 'PG', 'G', 'NC-17', nan], dtype=object)"
      ]
     },
     "execution_count": 450,
     "metadata": {},
     "output_type": "execute_result"
    }
   ],
   "source": [
    "# Answer:\n",
    "\n",
    "ratings_to_replace = ['X', 'TV-MA']\n",
    "replacement = 'NC-17'\n",
    "\n",
    "movies['content_rating'] = movies['content_rating'].replace(ratings_to_replace, replacement)\n",
    "movies['content_rating'].unique()"
   ]
  },
  {
   "cell_type": "markdown",
   "metadata": {},
   "source": [
    "#### Count the number of missing values in each column."
   ]
  },
  {
   "cell_type": "code",
   "execution_count": 451,
   "metadata": {
    "tags": []
   },
   "outputs": [
    {
     "name": "stdout",
     "output_type": "stream",
     "text": [
      "star_rating       0\n",
      "title             0\n",
      "content_rating    3\n",
      "genre             0\n",
      "duration          0\n",
      "actors_list       0\n",
      "dtype: int64\n",
      "There are 3 missing values\n"
     ]
    }
   ],
   "source": [
    "# Answer:\n",
    "\n",
    "#movies['content_rating']['nan'].count()\n",
    "\n",
    "missing_values = movies.isna().sum()\n",
    "print(missing_values)\n",
    "\n",
    "missing_values_count = movies['content_rating'].isna().sum()\n",
    "print ('There are', missing_values_count, 'missing values')"
   ]
  },
  {
   "cell_type": "markdown",
   "metadata": {},
   "source": [
    "#### If there are missing values: examine them, then fill them in with \"reasonable\" values."
   ]
  },
  {
   "cell_type": "code",
   "execution_count": 452,
   "metadata": {
    "tags": []
   },
   "outputs": [
    {
     "name": "stdout",
     "output_type": "stream",
     "text": [
      "star_rating       0\n",
      "title             0\n",
      "content_rating    3\n",
      "genre             0\n",
      "duration          0\n",
      "actors_list       0\n",
      "dtype: int64\n"
     ]
    }
   ],
   "source": [
    "# Answer:\n",
    "\n",
    "missing_values = movies.isna().sum()\n",
    "print(missing_values)"
   ]
  },
  {
   "cell_type": "code",
   "execution_count": 453,
   "metadata": {},
   "outputs": [],
   "source": [
    "#I think adding them to the UNRATED group may be reasonable\n",
    "\n",
    "movies = movies.fillna('UNRATED')"
   ]
  },
  {
   "cell_type": "code",
   "execution_count": 454,
   "metadata": {},
   "outputs": [
    {
     "data": {
      "text/plain": [
       "array(['R', 'PG-13', 'UNRATED', 'PG', 'G', 'NC-17'], dtype=object)"
      ]
     },
     "execution_count": 454,
     "metadata": {},
     "output_type": "execute_result"
    }
   ],
   "source": [
    "movies['content_rating'].unique()"
   ]
  },
  {
   "cell_type": "markdown",
   "metadata": {},
   "source": [
    "#### Calculate the average star rating for movies 2 hours or longer, and compare that with the average star rating for movies shorter than 2 hours."
   ]
  },
  {
   "cell_type": "code",
   "execution_count": 455,
   "metadata": {
    "tags": []
   },
   "outputs": [
    {
     "name": "stdout",
     "output_type": "stream",
     "text": [
      "The average star rating for movies 2 hours or longer is 7.95\n",
      "The average star rating for movies shorter than 2 hours is 7.84\n",
      "The average star rating for movies 2 hours or longer is 0.11 or 1.39% greater than that of shorter movies\n"
     ]
    }
   ],
   "source": [
    "# Answer:\n",
    "longer_movies = movies[movies['duration'] >= 120]\n",
    "result1 = longer_movies['star_rating'].mean()\n",
    "print ('The average star rating for movies 2 hours or longer is ' + str(round(result1,2)))\n",
    "\n",
    "shorter_movies = movies[movies['duration'] < 120]\n",
    "result2 = shorter_movies['star_rating'].mean()\n",
    "print ('The average star rating for movies shorter than 2 hours is ' + str(round(result2,2)))\n",
    "\n",
    "if result1 > result2:\n",
    "    percentage = ((result1 - result2) / result1) * 100\n",
    "    rounded_percentage = round(percentage, 2)\n",
    "    diff = round((result1 - result2),2)\n",
    "    print ('The average star rating for movies 2 hours or longer is '+str(diff) + ' or '  + str(rounded_percentage) + '% greater than that of shorter movies')\n",
    "else:\n",
    "    percentage = ((result2 - result1) / result2) * 100\n",
    "    rounded_percentage = round(percentage, 2)\n",
    "    diff = round((result2 - result1),2)\n",
    "    print ('The average star rating for movies 2 hours or longer is '+str(result2 - result1) + ' or ' + str(rounded_percentage) + '% less than that of shorter movies')"
   ]
  },
  {
   "cell_type": "markdown",
   "metadata": {},
   "source": [
    "#### Use a visualization to detect whether there is a relationship between duration and star rating."
   ]
  },
  {
   "cell_type": "code",
   "execution_count": 456,
   "metadata": {
    "tags": []
   },
   "outputs": [
    {
     "data": {
      "image/png": "[encoded data removed]",
      "text/plain": [
       "<Figure size 640x480 with 1 Axes>"
      ]
     },
     "metadata": {},
     "output_type": "display_data"
    }
   ],
   "source": [
    "# Answer:\n",
    "\n",
    "#correlation = movies['duration'].corr(movies['star_rating'])\n",
    "\n",
    "plt.scatter(movies['duration'], movies['star_rating'])\n",
    "plt.xlabel('Duration')\n",
    "plt.ylabel('Star Rating')\n",
    "plt.title('Duration vs. Star Rating')\n",
    "\n",
    "x = movies['duration']\n",
    "y = movies['star_rating']\n",
    "\n",
    "#trendline\n",
    "\n",
    "coefficients = np.polyfit(x, y, 1)\n",
    "slope = coefficients[0]\n",
    "intercept = coefficients[1]\n",
    "regression_line = intercept + slope * x\n",
    "\n",
    "\n",
    "plt.plot(x, regression_line, color='red')\n",
    "\n",
    "\n",
    "plt.show()"
   ]
  },
  {
   "cell_type": "markdown",
   "metadata": {},
   "source": [
    "#### Calculate the average duration for each genre."
   ]
  },
  {
   "cell_type": "code",
   "execution_count": 457,
   "metadata": {
    "tags": []
   },
   "outputs": [
    {
     "data": {
      "text/html": [
       "<div>\n",
       "<style scoped>\n",
       "    .dataframe tbody tr th:only-of-type {\n",
       "        vertical-align: middle;\n",
       "    }\n",
       "\n",
       "    .dataframe tbody tr th {\n",
       "        vertical-align: top;\n",
       "    }\n",
       "\n",
       "    .dataframe thead th {\n",
       "        text-align: right;\n",
       "    }\n",
       "</style>\n",
       "<table border=\"1\" class=\"dataframe\">\n",
       "  <thead>\n",
       "    <tr style=\"text-align: right;\">\n",
       "      <th></th>\n",
       "      <th>genre</th>\n",
       "      <th>average duration</th>\n",
       "    </tr>\n",
       "  </thead>\n",
       "  <tbody>\n",
       "    <tr>\n",
       "      <th>0</th>\n",
       "      <td>Action</td>\n",
       "      <td>126.485294</td>\n",
       "    </tr>\n",
       "    <tr>\n",
       "      <th>1</th>\n",
       "      <td>Adventure</td>\n",
       "      <td>134.840000</td>\n",
       "    </tr>\n",
       "    <tr>\n",
       "      <th>2</th>\n",
       "      <td>Animation</td>\n",
       "      <td>96.596774</td>\n",
       "    </tr>\n",
       "    <tr>\n",
       "      <th>3</th>\n",
       "      <td>Biography</td>\n",
       "      <td>131.844156</td>\n",
       "    </tr>\n",
       "    <tr>\n",
       "      <th>4</th>\n",
       "      <td>Comedy</td>\n",
       "      <td>107.602564</td>\n",
       "    </tr>\n",
       "    <tr>\n",
       "      <th>5</th>\n",
       "      <td>Crime</td>\n",
       "      <td>122.298387</td>\n",
       "    </tr>\n",
       "    <tr>\n",
       "      <th>6</th>\n",
       "      <td>Drama</td>\n",
       "      <td>126.539568</td>\n",
       "    </tr>\n",
       "    <tr>\n",
       "      <th>7</th>\n",
       "      <td>Family</td>\n",
       "      <td>107.500000</td>\n",
       "    </tr>\n",
       "    <tr>\n",
       "      <th>8</th>\n",
       "      <td>Fantasy</td>\n",
       "      <td>112.000000</td>\n",
       "    </tr>\n",
       "    <tr>\n",
       "      <th>9</th>\n",
       "      <td>Film-Noir</td>\n",
       "      <td>97.333333</td>\n",
       "    </tr>\n",
       "    <tr>\n",
       "      <th>10</th>\n",
       "      <td>History</td>\n",
       "      <td>66.000000</td>\n",
       "    </tr>\n",
       "    <tr>\n",
       "      <th>11</th>\n",
       "      <td>Horror</td>\n",
       "      <td>102.517241</td>\n",
       "    </tr>\n",
       "    <tr>\n",
       "      <th>12</th>\n",
       "      <td>Mystery</td>\n",
       "      <td>115.625000</td>\n",
       "    </tr>\n",
       "    <tr>\n",
       "      <th>13</th>\n",
       "      <td>Sci-Fi</td>\n",
       "      <td>109.000000</td>\n",
       "    </tr>\n",
       "    <tr>\n",
       "      <th>14</th>\n",
       "      <td>Thriller</td>\n",
       "      <td>114.200000</td>\n",
       "    </tr>\n",
       "    <tr>\n",
       "      <th>15</th>\n",
       "      <td>Western</td>\n",
       "      <td>136.666667</td>\n",
       "    </tr>\n",
       "  </tbody>\n",
       "</table>\n",
       "</div>"
      ],
      "text/plain": [
       "        genre  average duration\n",
       "0      Action        126.485294\n",
       "1   Adventure        134.840000\n",
       "2   Animation         96.596774\n",
       "3   Biography        131.844156\n",
       "4      Comedy        107.602564\n",
       "5       Crime        122.298387\n",
       "6       Drama        126.539568\n",
       "7      Family        107.500000\n",
       "8     Fantasy        112.000000\n",
       "9   Film-Noir         97.333333\n",
       "10    History         66.000000\n",
       "11     Horror        102.517241\n",
       "12    Mystery        115.625000\n",
       "13     Sci-Fi        109.000000\n",
       "14   Thriller        114.200000\n",
       "15    Western        136.666667"
      ]
     },
     "execution_count": 457,
     "metadata": {},
     "output_type": "execute_result"
    }
   ],
   "source": [
    "# Answer:\n",
    "\n",
    "av_dur = movies.groupby('genre')['duration'].mean().reset_index().rename(\n",
    "    columns={'duration':'average duration'})\n",
    "av_dur"
   ]
  },
  {
   "cell_type": "markdown",
   "metadata": {},
   "source": [
    "## Advanced level"
   ]
  },
  {
   "cell_type": "markdown",
   "metadata": {},
   "source": [
    "#### Visualize the relationship between content rating and duration."
   ]
  },
  {
   "cell_type": "code",
   "execution_count": 458,
   "metadata": {
    "tags": []
   },
   "outputs": [
    {
     "data": {
      "application/vnd.plotly.v1+json": {
       "config": {
        "plotlyServerURL": "https://plot.ly"
       },
       "data": [
        {
         "alignmentgroup": "True",
         "hovertemplate": "content_rating=%{x}<br>duration=%{y}<extra></extra>",
         "legendgroup": "R",
         "marker": {
          "color": "#636efa"
         },
         "name": "R",
         "notched": false,
         "offsetgroup": "R",
         "orientation": "v",
         "showlegend": true,
         "type": "box",
         "x": [
          "R",
          "R",
          "R",
          "R",
          "R",
          "R",
          "R",
          "R",
          "R",
          "R",
          "R",
          "R",
          "R",
          "R",
          "R",
          "R",
          "R",
          "R",
          "R",
          "R",
          "R",
          "R",
          "R",
          "R",
          "R",
          "R",
          "R",
          "R",
          "R",
          "R",
          "R",
          "R",
          "R",
          "R",
          "R",
          "R",
          "R",
          "R",
          "R",
          "R",
          "R",
          "R",
          "R",
          "R",
          "R",
          "R",
          "R",
          "R",
          "R",
          "R",
          "R",
          "R",
          "R",
          "R",
          "R",
          "R",
          "R",
          "R",
          "R",
          "R",
          "R",
          "R",
          "R",
          "R",
          "R",
          "R",
          "R",
          "R",
          "R",
          "R",
          "R",
          "R",
          "R",
          "R",
          "R",
          "R",
          "R",
          "R",
          "R",
          "R",
          "R",
          "R",
          "R",
          "R",
          "R",
          "R",
          "R",
          "R",
          "R",
          "R",
          "R",
          "R",
          "R",
          "R",
          "R",
          "R",
          "R",
          "R",
          "R",
          "R",
          "R",
          "R",
          "R",
          "R",
          "R",
          "R",
          "R",
          "R",
          "R",
          "R",
          "R",
          "R",
          "R",
          "R",
          "R",
          "R",
          "R",
          "R",
          "R",
          "R",
          "R",
          "R",
          "R",
          "R",
          "R",
          "R",
          "R",
          "R",
          "R",
          "R",
          "R",
          "R",
          "R",
          "R",
          "R",
          "R",
          "R",
          "R",
          "R",
          "R",
          "R",
          "R",
          "R",
          "R",
          "R",
          "R",
          "R",
          "R",
          "R",
          "R",
          "R",
          "R",
          "R",
          "R",
          "R",
          "R",
          "R",
          "R",
          "R",
          "R",
          "R",
          "R",
          "R",
          "R",
          "R",
          "R",
          "R",
          "R",
          "R",
          "R",
          "R",
          "R",
          "R",
          "R",
          "R",
          "R",
          "R",
          "R",
          "R",
          "R",
          "R",
          "R",
          "R",
          "R",
          "R",
          "R",
          "R",
          "R",
          "R",
          "R",
          "R",
          "R",
          "R",
          "R",
          "R",
          "R",
          "R",
          "R",
          "R",
          "R",
          "R",
          "R",
          "R",
          "R",
          "R",
          "R",
          "R",
          "R",
          "R",
          "R",
          "R",
          "R",
          "R",
          "R",
          "R",
          "R",
          "R",
          "R",
          "R",
          "R",
          "R",
          "R",
          "R",
          "R",
          "R",
          "R",
          "R",
          "R",
          "R",
          "R",
          "R",
          "R",
          "R",
          "R",
          "R",
          "R",
          "R",
          "R",
          "R",
          "R",
          "R",
          "R",
          "R",
          "R",
          "R",
          "R",
          "R",
          "R",
          "R",
          "R",
          "R",
          "R",
          "R",
          "R",
          "R",
          "R",
          "R",
          "R",
          "R",
          "R",
          "R",
          "R",
          "R",
          "R",
          "R",
          "R",
          "R",
          "R",
          "R",
          "R",
          "R",
          "R",
          "R",
          "R",
          "R",
          "R",
          "R",
          "R",
          "R",
          "R",
          "R",
          "R",
          "R",
          "R",
          "R",
          "R",
          "R",
          "R",
          "R",
          "R",
          "R",
          "R",
          "R",
          "R",
          "R",
          "R",
          "R",
          "R",
          "R",
          "R",
          "R",
          "R",
          "R",
          "R",
          "R",
          "R",
          "R",
          "R",
          "R",
          "R",
          "R",
          "R",
          "R",
          "R",
          "R",
          "R",
          "R",
          "R",
          "R",
          "R",
          "R",
          "R",
          "R",
          "R",
          "R",
          "R",
          "R",
          "R",
          "R",
          "R",
          "R",
          "R",
          "R",
          "R",
          "R",
          "R",
          "R",
          "R",
          "R",
          "R",
          "R",
          "R",
          "R",
          "R",
          "R",
          "R",
          "R",
          "R",
          "R",
          "R",
          "R",
          "R",
          "R",
          "R",
          "R",
          "R",
          "R",
          "R",
          "R",
          "R",
          "R",
          "R",
          "R",
          "R",
          "R",
          "R",
          "R",
          "R",
          "R",
          "R",
          "R",
          "R",
          "R",
          "R",
          "R",
          "R",
          "R",
          "R",
          "R",
          "R",
          "R",
          "R",
          "R",
          "R",
          "R",
          "R",
          "R",
          "R",
          "R",
          "R",
          "R",
          "R",
          "R",
          "R",
          "R",
          "R",
          "R",
          "R",
          "R",
          "R",
          "R",
          "R",
          "R",
          "R",
          "R",
          "R",
          "R",
          "R",
          "R",
          "R",
          "R",
          "R",
          "R",
          "R",
          "R",
          "R",
          "R",
          "R",
          "R",
          "R",
          "R",
          "R",
          "R",
          "R",
          "R",
          "R",
          "R",
          "R",
          "R",
          "R",
          "R",
          "R",
          "R",
          "R",
          "R",
          "R",
          "R",
          "R",
          "R",
          "R",
          "R",
          "R",
          "R",
          "R",
          "R",
          "R",
          "R",
          "R",
          "R",
          "R",
          "R",
          "R",
          "R",
          "R",
          "R",
          "R",
          "R",
          "R",
          "R",
          "R"
         ],
         "x0": " ",
         "xaxis": "x",
         "y": [
          142,
          175,
          200,
          154,
          195,
          139,
          133,
          146,
          136,
          130,
          106,
          127,
          118,
          110,
          112,
          107,
          119,
          169,
          109,
          189,
          150,
          155,
          137,
          113,
          151,
          155,
          153,
          137,
          117,
          165,
          146,
          122,
          149,
          122,
          137,
          120,
          229,
          177,
          102,
          99,
          108,
          113,
          160,
          116,
          102,
          138,
          153,
          170,
          131,
          115,
          129,
          156,
          162,
          130,
          170,
          118,
          131,
          126,
          129,
          180,
          117,
          139,
          107,
          132,
          117,
          122,
          178,
          149,
          116,
          123,
          148,
          182,
          94,
          140,
          98,
          188,
          121,
          109,
          127,
          94,
          129,
          120,
          133,
          111,
          122,
          134,
          165,
          154,
          89,
          101,
          158,
          99,
          124,
          113,
          147,
          88,
          165,
          118,
          106,
          105,
          105,
          103,
          138,
          99,
          124,
          115,
          129,
          150,
          151,
          118,
          99,
          125,
          107,
          80,
          135,
          153,
          145,
          178,
          82,
          95,
          143,
          120,
          189,
          188,
          96,
          113,
          132,
          122,
          126,
          140,
          133,
          112,
          108,
          96,
          138,
          121,
          98,
          117,
          112,
          99,
          137,
          136,
          115,
          98,
          136,
          138,
          123,
          120,
          97,
          109,
          156,
          147,
          107,
          119,
          133,
          141,
          122,
          119,
          122,
          97,
          111,
          85,
          109,
          117,
          128,
          114,
          141,
          101,
          115,
          127,
          109,
          157,
          193,
          155,
          117,
          159,
          141,
          112,
          120,
          144,
          109,
          108,
          115,
          116,
          91,
          103,
          119,
          101,
          155,
          121,
          107,
          100,
          92,
          94,
          158,
          130,
          107,
          124,
          131,
          122,
          126,
          89,
          152,
          107,
          145,
          117,
          100,
          128,
          107,
          157,
          104,
          123,
          120,
          112,
          102,
          100,
          129,
          139,
          123,
          80,
          144,
          81,
          101,
          120,
          93,
          120,
          110,
          99,
          112,
          122,
          130,
          129,
          141,
          127,
          130,
          115,
          112,
          117,
          121,
          122,
          110,
          146,
          100,
          121,
          117,
          93,
          101,
          93,
          121,
          124,
          100,
          117,
          99,
          116,
          123,
          114,
          133,
          144,
          90,
          118,
          122,
          102,
          187,
          154,
          89,
          88,
          129,
          114,
          135,
          134,
          106,
          92,
          124,
          122,
          113,
          112,
          135,
          91,
          129,
          102,
          99,
          119,
          103,
          150,
          97,
          100,
          112,
          191,
          119,
          103,
          134,
          157,
          109,
          134,
          93,
          88,
          121,
          116,
          124,
          147,
          106,
          129,
          94,
          128,
          111,
          146,
          105,
          162,
          113,
          113,
          162,
          110,
          92,
          138,
          102,
          96,
          164,
          126,
          110,
          109,
          122,
          124,
          120,
          102,
          170,
          102,
          116,
          164,
          81,
          131,
          101,
          121,
          69,
          94,
          141,
          116,
          98,
          121,
          108,
          102,
          131,
          113,
          136,
          108,
          124,
          111,
          137,
          104,
          115,
          99,
          131,
          123,
          126,
          97,
          89,
          122,
          121,
          125,
          118,
          126,
          113,
          107,
          111,
          120,
          93,
          100,
          116,
          160,
          137,
          98,
          107,
          146,
          113,
          147,
          167,
          124,
          109,
          124,
          102,
          130,
          125,
          154,
          97,
          98,
          101,
          147,
          172,
          125,
          121,
          112,
          101,
          96,
          105,
          109,
          117,
          78,
          91,
          112,
          112,
          104,
          120,
          133,
          110,
          129,
          120,
          83,
          96,
          139,
          113,
          84,
          106,
          144,
          104,
          85,
          130,
          148,
          102,
          121,
          143,
          116,
          99,
          116,
          128,
          119,
          104,
          129,
          103,
          112,
          141,
          109,
          104,
          122,
          111,
          112,
          116,
          92,
          104,
          110,
          97,
          118,
          112,
          140,
          97,
          132,
          120,
          86,
          108,
          105,
          117,
          157,
          98,
          96,
          114,
          118,
          136,
          162,
          109,
          107,
          90,
          126
         ],
         "y0": " ",
         "yaxis": "y"
        },
        {
         "alignmentgroup": "True",
         "hovertemplate": "content_rating=%{x}<br>duration=%{y}<extra></extra>",
         "legendgroup": "PG-13",
         "marker": {
          "color": "#EF553B"
         },
         "name": "PG-13",
         "notched": false,
         "offsetgroup": "PG-13",
         "orientation": "v",
         "showlegend": true,
         "type": "box",
         "x": [
          "PG-13",
          "PG-13",
          "PG-13",
          "PG-13",
          "PG-13",
          "PG-13",
          "PG-13",
          "PG-13",
          "PG-13",
          "PG-13",
          "PG-13",
          "PG-13",
          "PG-13",
          "PG-13",
          "PG-13",
          "PG-13",
          "PG-13",
          "PG-13",
          "PG-13",
          "PG-13",
          "PG-13",
          "PG-13",
          "PG-13",
          "PG-13",
          "PG-13",
          "PG-13",
          "PG-13",
          "PG-13",
          "PG-13",
          "PG-13",
          "PG-13",
          "PG-13",
          "PG-13",
          "PG-13",
          "PG-13",
          "PG-13",
          "PG-13",
          "PG-13",
          "PG-13",
          "PG-13",
          "PG-13",
          "PG-13",
          "PG-13",
          "PG-13",
          "PG-13",
          "PG-13",
          "PG-13",
          "PG-13",
          "PG-13",
          "PG-13",
          "PG-13",
          "PG-13",
          "PG-13",
          "PG-13",
          "PG-13",
          "PG-13",
          "PG-13",
          "PG-13",
          "PG-13",
          "PG-13",
          "PG-13",
          "PG-13",
          "PG-13",
          "PG-13",
          "PG-13",
          "PG-13",
          "PG-13",
          "PG-13",
          "PG-13",
          "PG-13",
          "PG-13",
          "PG-13",
          "PG-13",
          "PG-13",
          "PG-13",
          "PG-13",
          "PG-13",
          "PG-13",
          "PG-13",
          "PG-13",
          "PG-13",
          "PG-13",
          "PG-13",
          "PG-13",
          "PG-13",
          "PG-13",
          "PG-13",
          "PG-13",
          "PG-13",
          "PG-13",
          "PG-13",
          "PG-13",
          "PG-13",
          "PG-13",
          "PG-13",
          "PG-13",
          "PG-13",
          "PG-13",
          "PG-13",
          "PG-13",
          "PG-13",
          "PG-13",
          "PG-13",
          "PG-13",
          "PG-13",
          "PG-13",
          "PG-13",
          "PG-13",
          "PG-13",
          "PG-13",
          "PG-13",
          "PG-13",
          "PG-13",
          "PG-13",
          "PG-13",
          "PG-13",
          "PG-13",
          "PG-13",
          "PG-13",
          "PG-13",
          "PG-13",
          "PG-13",
          "PG-13",
          "PG-13",
          "PG-13",
          "PG-13",
          "PG-13",
          "PG-13",
          "PG-13",
          "PG-13",
          "PG-13",
          "PG-13",
          "PG-13",
          "PG-13",
          "PG-13",
          "PG-13",
          "PG-13",
          "PG-13",
          "PG-13",
          "PG-13",
          "PG-13",
          "PG-13",
          "PG-13",
          "PG-13",
          "PG-13",
          "PG-13",
          "PG-13",
          "PG-13",
          "PG-13",
          "PG-13",
          "PG-13",
          "PG-13",
          "PG-13",
          "PG-13",
          "PG-13",
          "PG-13",
          "PG-13",
          "PG-13",
          "PG-13",
          "PG-13",
          "PG-13",
          "PG-13",
          "PG-13",
          "PG-13",
          "PG-13",
          "PG-13",
          "PG-13",
          "PG-13",
          "PG-13",
          "PG-13",
          "PG-13",
          "PG-13",
          "PG-13",
          "PG-13",
          "PG-13",
          "PG-13",
          "PG-13",
          "PG-13",
          "PG-13",
          "PG-13",
          "PG-13",
          "PG-13",
          "PG-13",
          "PG-13",
          "PG-13",
          "PG-13",
          "PG-13",
          "PG-13",
          "PG-13"
         ],
         "x0": " ",
         "xaxis": "x",
         "y": [
          152,
          201,
          178,
          148,
          142,
          179,
          169,
          116,
          175,
          165,
          130,
          170,
          134,
          123,
          140,
          127,
          140,
          135,
          95,
          143,
          121,
          107,
          121,
          114,
          130,
          130,
          132,
          98,
          115,
          131,
          146,
          125,
          128,
          143,
          102,
          112,
          127,
          137,
          96,
          125,
          127,
          104,
          197,
          181,
          141,
          144,
          100,
          161,
          169,
          119,
          103,
          165,
          126,
          105,
          144,
          197,
          113,
          123,
          117,
          99,
          91,
          119,
          130,
          162,
          126,
          120,
          97,
          136,
          134,
          93,
          103,
          127,
          242,
          127,
          126,
          132,
          78,
          106,
          94,
          105,
          166,
          94,
          111,
          136,
          106,
          132,
          163,
          130,
          154,
          95,
          123,
          120,
          118,
          108,
          143,
          152,
          119,
          116,
          139,
          121,
          131,
          127,
          194,
          80,
          130,
          105,
          129,
          143,
          202,
          110,
          146,
          104,
          125,
          104,
          146,
          140,
          140,
          110,
          94,
          158,
          127,
          101,
          98,
          168,
          145,
          123,
          113,
          126,
          132,
          130,
          110,
          128,
          128,
          157,
          85,
          104,
          114,
          128,
          139,
          133,
          131,
          126,
          105,
          115,
          126,
          143,
          93,
          96,
          119,
          114,
          111,
          144,
          125,
          97,
          128,
          128,
          125,
          133,
          135,
          112,
          124,
          129,
          104,
          138,
          90,
          106,
          134,
          101,
          123,
          170,
          93,
          130,
          133,
          134,
          100,
          138,
          118,
          111,
          94,
          97,
          107,
          104,
          109,
          103,
          150,
          105,
          87,
          126,
          138
         ],
         "y0": " ",
         "yaxis": "y"
        },
        {
         "alignmentgroup": "True",
         "hovertemplate": "content_rating=%{x}<br>duration=%{y}<extra></extra>",
         "legendgroup": "UNRATED",
         "marker": {
          "color": "#00cc96"
         },
         "name": "UNRATED",
         "notched": false,
         "offsetgroup": "UNRATED",
         "orientation": "v",
         "showlegend": true,
         "type": "box",
         "x": [
          "UNRATED",
          "UNRATED",
          "UNRATED",
          "UNRATED",
          "UNRATED",
          "UNRATED",
          "UNRATED",
          "UNRATED",
          "UNRATED",
          "UNRATED",
          "UNRATED",
          "UNRATED",
          "UNRATED",
          "UNRATED",
          "UNRATED",
          "UNRATED",
          "UNRATED",
          "UNRATED",
          "UNRATED",
          "UNRATED",
          "UNRATED",
          "UNRATED",
          "UNRATED",
          "UNRATED",
          "UNRATED",
          "UNRATED",
          "UNRATED",
          "UNRATED",
          "UNRATED",
          "UNRATED",
          "UNRATED",
          "UNRATED",
          "UNRATED",
          "UNRATED",
          "UNRATED",
          "UNRATED",
          "UNRATED",
          "UNRATED",
          "UNRATED",
          "UNRATED",
          "UNRATED",
          "UNRATED",
          "UNRATED",
          "UNRATED",
          "UNRATED",
          "UNRATED",
          "UNRATED",
          "UNRATED",
          "UNRATED",
          "UNRATED",
          "UNRATED",
          "UNRATED",
          "UNRATED",
          "UNRATED",
          "UNRATED",
          "UNRATED",
          "UNRATED",
          "UNRATED",
          "UNRATED",
          "UNRATED",
          "UNRATED",
          "UNRATED",
          "UNRATED",
          "UNRATED",
          "UNRATED",
          "UNRATED",
          "UNRATED",
          "UNRATED",
          "UNRATED",
          "UNRATED",
          "UNRATED",
          "UNRATED",
          "UNRATED",
          "UNRATED",
          "UNRATED",
          "UNRATED",
          "UNRATED",
          "UNRATED",
          "UNRATED",
          "UNRATED",
          "UNRATED",
          "UNRATED",
          "UNRATED",
          "UNRATED",
          "UNRATED",
          "UNRATED",
          "UNRATED",
          "UNRATED",
          "UNRATED",
          "UNRATED",
          "UNRATED",
          "UNRATED",
          "UNRATED",
          "UNRATED",
          "UNRATED",
          "UNRATED",
          "UNRATED",
          "UNRATED",
          "UNRATED",
          "UNRATED",
          "UNRATED",
          "UNRATED",
          "UNRATED",
          "UNRATED",
          "UNRATED",
          "UNRATED",
          "UNRATED",
          "UNRATED",
          "UNRATED",
          "UNRATED",
          "UNRATED",
          "UNRATED",
          "UNRATED",
          "UNRATED",
          "UNRATED",
          "UNRATED",
          "UNRATED",
          "UNRATED",
          "UNRATED",
          "UNRATED",
          "UNRATED",
          "UNRATED",
          "UNRATED",
          "UNRATED",
          "UNRATED",
          "UNRATED",
          "UNRATED",
          "UNRATED",
          "UNRATED",
          "UNRATED",
          "UNRATED",
          "UNRATED",
          "UNRATED",
          "UNRATED",
          "UNRATED",
          "UNRATED",
          "UNRATED",
          "UNRATED",
          "UNRATED",
          "UNRATED",
          "UNRATED",
          "UNRATED",
          "UNRATED",
          "UNRATED",
          "UNRATED",
          "UNRATED",
          "UNRATED",
          "UNRATED",
          "UNRATED",
          "UNRATED",
          "UNRATED",
          "UNRATED",
          "UNRATED",
          "UNRATED",
          "UNRATED",
          "UNRATED",
          "UNRATED",
          "UNRATED",
          "UNRATED",
          "UNRATED",
          "UNRATED",
          "UNRATED",
          "UNRATED"
         ],
         "x0": " ",
         "xaxis": "x",
         "y": [
          96,
          161,
          207,
          130,
          87,
          112,
          110,
          125,
          88,
          89,
          99,
          116,
          156,
          136,
          157,
          119,
          128,
          107,
          129,
          93,
          68,
          189,
          181,
          103,
          138,
          110,
          88,
          126,
          125,
          143,
          93,
          132,
          153,
          183,
          120,
          129,
          172,
          108,
          107,
          91,
          95,
          186,
          151,
          96,
          131,
          105,
          130,
          172,
          116,
          123,
          92,
          100,
          83,
          99,
          163,
          121,
          167,
          110,
          129,
          138,
          134,
          88,
          108,
          132,
          102,
          101,
          108,
          174,
          92,
          98,
          101,
          115,
          120,
          123,
          118,
          114,
          118,
          112,
          160,
          67,
          134,
          141,
          104,
          85,
          91,
          102,
          92,
          136,
          105,
          126,
          68,
          106,
          172,
          113,
          127,
          93,
          109,
          81,
          119,
          66,
          83,
          108,
          70,
          96,
          96,
          100,
          90,
          64,
          75,
          111,
          100,
          96,
          113,
          170,
          220,
          96,
          98,
          86,
          108,
          141,
          113,
          92,
          128,
          80,
          101,
          105,
          138,
          118,
          150,
          115,
          139,
          110,
          114,
          105,
          113,
          98,
          87,
          118,
          98,
          89,
          142,
          158,
          101,
          88,
          152,
          111,
          111,
          144,
          85,
          78,
          152,
          108,
          96,
          205,
          131,
          113,
          127,
          88,
          106,
          115,
          106,
          128,
          89
         ],
         "y0": " ",
         "yaxis": "y"
        },
        {
         "alignmentgroup": "True",
         "hovertemplate": "content_rating=%{x}<br>duration=%{y}<extra></extra>",
         "legendgroup": "PG",
         "marker": {
          "color": "#ab63fa"
         },
         "name": "PG",
         "notched": false,
         "offsetgroup": "PG",
         "orientation": "v",
         "showlegend": true,
         "type": "box",
         "x": [
          "PG",
          "PG",
          "PG",
          "PG",
          "PG",
          "PG",
          "PG",
          "PG",
          "PG",
          "PG",
          "PG",
          "PG",
          "PG",
          "PG",
          "PG",
          "PG",
          "PG",
          "PG",
          "PG",
          "PG",
          "PG",
          "PG",
          "PG",
          "PG",
          "PG",
          "PG",
          "PG",
          "PG",
          "PG",
          "PG",
          "PG",
          "PG",
          "PG",
          "PG",
          "PG",
          "PG",
          "PG",
          "PG",
          "PG",
          "PG",
          "PG",
          "PG",
          "PG",
          "PG",
          "PG",
          "PG",
          "PG",
          "PG",
          "PG",
          "PG",
          "PG",
          "PG",
          "PG",
          "PG",
          "PG",
          "PG",
          "PG",
          "PG",
          "PG",
          "PG",
          "PG",
          "PG",
          "PG",
          "PG",
          "PG",
          "PG",
          "PG",
          "PG",
          "PG",
          "PG",
          "PG",
          "PG",
          "PG",
          "PG",
          "PG",
          "PG",
          "PG",
          "PG",
          "PG",
          "PG",
          "PG",
          "PG",
          "PG",
          "PG",
          "PG",
          "PG",
          "PG",
          "PG",
          "PG",
          "PG",
          "PG",
          "PG",
          "PG",
          "PG",
          "PG",
          "PG",
          "PG",
          "PG",
          "PG",
          "PG",
          "PG",
          "PG",
          "PG",
          "PG",
          "PG",
          "PG",
          "PG",
          "PG",
          "PG",
          "PG",
          "PG",
          "PG",
          "PG",
          "PG",
          "PG",
          "PG",
          "PG",
          "PG",
          "PG",
          "PG",
          "PG",
          "PG",
          "PG"
         ],
         "x0": " ",
         "xaxis": "x",
         "y": [
          124,
          121,
          125,
          102,
          115,
          165,
          95,
          116,
          134,
          216,
          129,
          91,
          96,
          161,
          224,
          119,
          124,
          126,
          98,
          105,
          98,
          117,
          101,
          93,
          191,
          167,
          85,
          124,
          184,
          138,
          98,
          94,
          124,
          119,
          101,
          106,
          122,
          103,
          80,
          76,
          130,
          115,
          102,
          127,
          128,
          94,
          115,
          102,
          86,
          105,
          102,
          113,
          134,
          129,
          135,
          94,
          90,
          124,
          115,
          100,
          100,
          143,
          94,
          153,
          87,
          108,
          105,
          101,
          108,
          88,
          129,
          79,
          114,
          106,
          142,
          101,
          109,
          113,
          113,
          90,
          82,
          95,
          137,
          88,
          131,
          100,
          102,
          104,
          99,
          92,
          135,
          112,
          140,
          118,
          109,
          114,
          81,
          126,
          107,
          138,
          114,
          93,
          114,
          98,
          120,
          110,
          110,
          80,
          135,
          153,
          125,
          114,
          152,
          92,
          101,
          175,
          103,
          102,
          104,
          99,
          116,
          118,
          114
         ],
         "y0": " ",
         "yaxis": "y"
        },
        {
         "alignmentgroup": "True",
         "hovertemplate": "content_rating=%{x}<br>duration=%{y}<extra></extra>",
         "legendgroup": "G",
         "marker": {
          "color": "#FFA15A"
         },
         "name": "G",
         "notched": false,
         "offsetgroup": "G",
         "orientation": "v",
         "showlegend": true,
         "type": "box",
         "x": [
          "G",
          "G",
          "G",
          "G",
          "G",
          "G",
          "G",
          "G",
          "G",
          "G",
          "G",
          "G",
          "G",
          "G",
          "G",
          "G",
          "G",
          "G",
          "G",
          "G",
          "G",
          "G",
          "G",
          "G",
          "G",
          "G",
          "G",
          "G",
          "G",
          "G",
          "G",
          "G"
         ],
         "x0": " ",
         "xaxis": "x",
         "y": [
          87,
          89,
          98,
          103,
          160,
          81,
          86,
          238,
          93,
          100,
          212,
          92,
          84,
          112,
          111,
          174,
          90,
          181,
          112,
          92,
          103,
          100,
          125,
          178,
          101,
          85,
          94,
          83,
          83,
          85,
          88,
          75
         ],
         "y0": " ",
         "yaxis": "y"
        },
        {
         "alignmentgroup": "True",
         "hovertemplate": "content_rating=%{x}<br>duration=%{y}<extra></extra>",
         "legendgroup": "NC-17",
         "marker": {
          "color": "#19d3f3"
         },
         "name": "NC-17",
         "notched": false,
         "offsetgroup": "NC-17",
         "orientation": "v",
         "showlegend": true,
         "type": "box",
         "x": [
          "NC-17",
          "NC-17",
          "NC-17",
          "NC-17",
          "NC-17",
          "NC-17",
          "NC-17",
          "NC-17",
          "NC-17",
          "NC-17",
          "NC-17",
          "NC-17"
         ],
         "x0": " ",
         "xaxis": "x",
         "y": [
          136,
          131,
          113,
          179,
          84,
          105,
          95,
          157,
          85,
          92,
          106,
          112
         ],
         "y0": " ",
         "yaxis": "y"
        }
       ],
       "layout": {
        "autosize": true,
        "boxmode": "overlay",
        "legend": {
         "title": {
          "text": "content_rating"
         },
         "tracegroupgap": 0
        },
        "margin": {
         "t": 60
        },
        "plot_bgcolor": "white",
        "template": {
         "data": {
          "bar": [
           {
            "error_x": {
             "color": "#2a3f5f"
            },
            "error_y": {
             "color": "#2a3f5f"
            },
            "marker": {
             "line": {
              "color": "#E5ECF6",
              "width": 0.5
             },
             "pattern": {
              "fillmode": "overlay",
              "size": 10,
              "solidity": 0.2
             }
            },
            "type": "bar"
           }
          ],
          "barpolar": [
           {
            "marker": {
             "line": {
              "color": "#E5ECF6",
              "width": 0.5
             },
             "pattern": {
              "fillmode": "overlay",
              "size": 10,
              "solidity": 0.2
             }
            },
            "type": "barpolar"
           }
          ],
          "carpet": [
           {
            "aaxis": {
             "endlinecolor": "#2a3f5f",
             "gridcolor": "white",
             "linecolor": "white",
             "minorgridcolor": "white",
             "startlinecolor": "#2a3f5f"
            },
            "baxis": {
             "endlinecolor": "#2a3f5f",
             "gridcolor": "white",
             "linecolor": "white",
             "minorgridcolor": "white",
             "startlinecolor": "#2a3f5f"
            },
            "type": "carpet"
           }
          ],
          "choropleth": [
           {
            "colorbar": {
             "outlinewidth": 0,
             "ticks": ""
            },
            "type": "choropleth"
           }
          ],
          "contour": [
           {
            "colorbar": {
             "outlinewidth": 0,
             "ticks": ""
            },
            "colorscale": [
             [
              0,
              "#0d0887"
             ],
             [
              0.1111111111111111,
              "#46039f"
             ],
             [
              0.2222222222222222,
              "#7201a8"
             ],
             [
              0.3333333333333333,
              "#9c179e"
             ],
             [
              0.4444444444444444,
              "#bd3786"
             ],
             [
              0.5555555555555556,
              "#d8576b"
             ],
             [
              0.6666666666666666,
              "#ed7953"
             ],
             [
              0.7777777777777778,
              "#fb9f3a"
             ],
             [
              0.8888888888888888,
              "#fdca26"
             ],
             [
              1,
              "#f0f921"
             ]
            ],
            "type": "contour"
           }
          ],
          "contourcarpet": [
           {
            "colorbar": {
             "outlinewidth": 0,
             "ticks": ""
            },
            "type": "contourcarpet"
           }
          ],
          "heatmap": [
           {
            "colorbar": {
             "outlinewidth": 0,
             "ticks": ""
            },
            "colorscale": [
             [
              0,
              "#0d0887"
             ],
             [
              0.1111111111111111,
              "#46039f"
             ],
             [
              0.2222222222222222,
              "#7201a8"
             ],
             [
              0.3333333333333333,
              "#9c179e"
             ],
             [
              0.4444444444444444,
              "#bd3786"
             ],
             [
              0.5555555555555556,
              "#d8576b"
             ],
             [
              0.6666666666666666,
              "#ed7953"
             ],
             [
              0.7777777777777778,
              "#fb9f3a"
             ],
             [
              0.8888888888888888,
              "#fdca26"
             ],
             [
              1,
              "#f0f921"
             ]
            ],
            "type": "heatmap"
           }
          ],
          "heatmapgl": [
           {
            "colorbar": {
             "outlinewidth": 0,
             "ticks": ""
            },
            "colorscale": [
             [
              0,
              "#0d0887"
             ],
             [
              0.1111111111111111,
              "#46039f"
             ],
             [
              0.2222222222222222,
              "#7201a8"
             ],
             [
              0.3333333333333333,
              "#9c179e"
             ],
             [
              0.4444444444444444,
              "#bd3786"
             ],
             [
              0.5555555555555556,
              "#d8576b"
             ],
             [
              0.6666666666666666,
              "#ed7953"
             ],
             [
              0.7777777777777778,
              "#fb9f3a"
             ],
             [
              0.8888888888888888,
              "#fdca26"
             ],
             [
              1,
              "#f0f921"
             ]
            ],
            "type": "heatmapgl"
           }
          ],
          "histogram": [
           {
            "marker": {
             "pattern": {
              "fillmode": "overlay",
              "size": 10,
              "solidity": 0.2
             }
            },
            "type": "histogram"
           }
          ],
          "histogram2d": [
           {
            "colorbar": {
             "outlinewidth": 0,
             "ticks": ""
            },
            "colorscale": [
             [
              0,
              "#0d0887"
             ],
             [
              0.1111111111111111,
              "#46039f"
             ],
             [
              0.2222222222222222,
              "#7201a8"
             ],
             [
              0.3333333333333333,
              "#9c179e"
             ],
             [
              0.4444444444444444,
              "#bd3786"
             ],
             [
              0.5555555555555556,
              "#d8576b"
             ],
             [
              0.6666666666666666,
              "#ed7953"
             ],
             [
              0.7777777777777778,
              "#fb9f3a"
             ],
             [
              0.8888888888888888,
              "#fdca26"
             ],
             [
              1,
              "#f0f921"
             ]
            ],
            "type": "histogram2d"
           }
          ],
          "histogram2dcontour": [
           {
            "colorbar": {
             "outlinewidth": 0,
             "ticks": ""
            },
            "colorscale": [
             [
              0,
              "#0d0887"
             ],
             [
              0.1111111111111111,
              "#46039f"
             ],
             [
              0.2222222222222222,
              "#7201a8"
             ],
             [
              0.3333333333333333,
              "#9c179e"
             ],
             [
              0.4444444444444444,
              "#bd3786"
             ],
             [
              0.5555555555555556,
              "#d8576b"
             ],
             [
              0.6666666666666666,
              "#ed7953"
             ],
             [
              0.7777777777777778,
              "#fb9f3a"
             ],
             [
              0.8888888888888888,
              "#fdca26"
             ],
             [
              1,
              "#f0f921"
             ]
            ],
            "type": "histogram2dcontour"
           }
          ],
          "mesh3d": [
           {
            "colorbar": {
             "outlinewidth": 0,
             "ticks": ""
            },
            "type": "mesh3d"
           }
          ],
          "parcoords": [
           {
            "line": {
             "colorbar": {
              "outlinewidth": 0,
              "ticks": ""
             }
            },
            "type": "parcoords"
           }
          ],
          "pie": [
           {
            "automargin": true,
            "type": "pie"
           }
          ],
          "scatter": [
           {
            "fillpattern": {
             "fillmode": "overlay",
             "size": 10,
             "solidity": 0.2
            },
            "type": "scatter"
           }
          ],
          "scatter3d": [
           {
            "line": {
             "colorbar": {
              "outlinewidth": 0,
              "ticks": ""
             }
            },
            "marker": {
             "colorbar": {
              "outlinewidth": 0,
              "ticks": ""
             }
            },
            "type": "scatter3d"
           }
          ],
          "scattercarpet": [
           {
            "marker": {
             "colorbar": {
              "outlinewidth": 0,
              "ticks": ""
             }
            },
            "type": "scattercarpet"
           }
          ],
          "scattergeo": [
           {
            "marker": {
             "colorbar": {
              "outlinewidth": 0,
              "ticks": ""
             }
            },
            "type": "scattergeo"
           }
          ],
          "scattergl": [
           {
            "marker": {
             "colorbar": {
              "outlinewidth": 0,
              "ticks": ""
             }
            },
            "type": "scattergl"
           }
          ],
          "scattermapbox": [
           {
            "marker": {
             "colorbar": {
              "outlinewidth": 0,
              "ticks": ""
             }
            },
            "type": "scattermapbox"
           }
          ],
          "scatterpolar": [
           {
            "marker": {
             "colorbar": {
              "outlinewidth": 0,
              "ticks": ""
             }
            },
            "type": "scatterpolar"
           }
          ],
          "scatterpolargl": [
           {
            "marker": {
             "colorbar": {
              "outlinewidth": 0,
              "ticks": ""
             }
            },
            "type": "scatterpolargl"
           }
          ],
          "scatterternary": [
           {
            "marker": {
             "colorbar": {
              "outlinewidth": 0,
              "ticks": ""
             }
            },
            "type": "scatterternary"
           }
          ],
          "surface": [
           {
            "colorbar": {
             "outlinewidth": 0,
             "ticks": ""
            },
            "colorscale": [
             [
              0,
              "#0d0887"
             ],
             [
              0.1111111111111111,
              "#46039f"
             ],
             [
              0.2222222222222222,
              "#7201a8"
             ],
             [
              0.3333333333333333,
              "#9c179e"
             ],
             [
              0.4444444444444444,
              "#bd3786"
             ],
             [
              0.5555555555555556,
              "#d8576b"
             ],
             [
              0.6666666666666666,
              "#ed7953"
             ],
             [
              0.7777777777777778,
              "#fb9f3a"
             ],
             [
              0.8888888888888888,
              "#fdca26"
             ],
             [
              1,
              "#f0f921"
             ]
            ],
            "type": "surface"
           }
          ],
          "table": [
           {
            "cells": {
             "fill": {
              "color": "#EBF0F8"
             },
             "line": {
              "color": "white"
             }
            },
            "header": {
             "fill": {
              "color": "#C8D4E3"
             },
             "line": {
              "color": "white"
             }
            },
            "type": "table"
           }
          ]
         },
         "layout": {
          "annotationdefaults": {
           "arrowcolor": "#2a3f5f",
           "arrowhead": 0,
           "arrowwidth": 1
          },
          "autotypenumbers": "strict",
          "coloraxis": {
           "colorbar": {
            "outlinewidth": 0,
            "ticks": ""
           }
          },
          "colorscale": {
           "diverging": [
            [
             0,
             "#8e0152"
            ],
            [
             0.1,
             "#c51b7d"
            ],
            [
             0.2,
             "#de77ae"
            ],
            [
             0.3,
             "#f1b6da"
            ],
            [
             0.4,
             "#fde0ef"
            ],
            [
             0.5,
             "#f7f7f7"
            ],
            [
             0.6,
             "#e6f5d0"
            ],
            [
             0.7,
             "#b8e186"
            ],
            [
             0.8,
             "#7fbc41"
            ],
            [
             0.9,
             "#4d9221"
            ],
            [
             1,
             "#276419"
            ]
           ],
           "sequential": [
            [
             0,
             "#0d0887"
            ],
            [
             0.1111111111111111,
             "#46039f"
            ],
            [
             0.2222222222222222,
             "#7201a8"
            ],
            [
             0.3333333333333333,
             "#9c179e"
            ],
            [
             0.4444444444444444,
             "#bd3786"
            ],
            [
             0.5555555555555556,
             "#d8576b"
            ],
            [
             0.6666666666666666,
             "#ed7953"
            ],
            [
             0.7777777777777778,
             "#fb9f3a"
            ],
            [
             0.8888888888888888,
             "#fdca26"
            ],
            [
             1,
             "#f0f921"
            ]
           ],
           "sequentialminus": [
            [
             0,
             "#0d0887"
            ],
            [
             0.1111111111111111,
             "#46039f"
            ],
            [
             0.2222222222222222,
             "#7201a8"
            ],
            [
             0.3333333333333333,
             "#9c179e"
            ],
            [
             0.4444444444444444,
             "#bd3786"
            ],
            [
             0.5555555555555556,
             "#d8576b"
            ],
            [
             0.6666666666666666,
             "#ed7953"
            ],
            [
             0.7777777777777778,
             "#fb9f3a"
            ],
            [
             0.8888888888888888,
             "#fdca26"
            ],
            [
             1,
             "#f0f921"
            ]
           ]
          },
          "colorway": [
           "#636efa",
           "#EF553B",
           "#00cc96",
           "#ab63fa",
           "#FFA15A",
           "#19d3f3",
           "#FF6692",
           "#B6E880",
           "#FF97FF",
           "#FECB52"
          ],
          "font": {
           "color": "#2a3f5f"
          },
          "geo": {
           "bgcolor": "white",
           "lakecolor": "white",
           "landcolor": "#E5ECF6",
           "showlakes": true,
           "showland": true,
           "subunitcolor": "white"
          },
          "hoverlabel": {
           "align": "left"
          },
          "hovermode": "closest",
          "mapbox": {
           "style": "light"
          },
          "paper_bgcolor": "white",
          "plot_bgcolor": "#E5ECF6",
          "polar": {
           "angularaxis": {
            "gridcolor": "white",
            "linecolor": "white",
            "ticks": ""
           },
           "bgcolor": "#E5ECF6",
           "radialaxis": {
            "gridcolor": "white",
            "linecolor": "white",
            "ticks": ""
           }
          },
          "scene": {
           "xaxis": {
            "backgroundcolor": "#E5ECF6",
            "gridcolor": "white",
            "gridwidth": 2,
            "linecolor": "white",
            "showbackground": true,
            "ticks": "",
            "zerolinecolor": "white"
           },
           "yaxis": {
            "backgroundcolor": "#E5ECF6",
            "gridcolor": "white",
            "gridwidth": 2,
            "linecolor": "white",
            "showbackground": true,
            "ticks": "",
            "zerolinecolor": "white"
           },
           "zaxis": {
            "backgroundcolor": "#E5ECF6",
            "gridcolor": "white",
            "gridwidth": 2,
            "linecolor": "white",
            "showbackground": true,
            "ticks": "",
            "zerolinecolor": "white"
           }
          },
          "shapedefaults": {
           "line": {
            "color": "#2a3f5f"
           }
          },
          "ternary": {
           "aaxis": {
            "gridcolor": "white",
            "linecolor": "white",
            "ticks": ""
           },
           "baxis": {
            "gridcolor": "white",
            "linecolor": "white",
            "ticks": ""
           },
           "bgcolor": "#E5ECF6",
           "caxis": {
            "gridcolor": "white",
            "linecolor": "white",
            "ticks": ""
           }
          },
          "title": {
           "x": 0.05
          },
          "xaxis": {
           "automargin": true,
           "gridcolor": "white",
           "linecolor": "white",
           "ticks": "",
           "title": {
            "standoff": 15
           },
           "zerolinecolor": "white",
           "zerolinewidth": 2
          },
          "yaxis": {
           "automargin": true,
           "gridcolor": "white",
           "linecolor": "white",
           "ticks": "",
           "title": {
            "standoff": 15
           },
           "zerolinecolor": "white",
           "zerolinewidth": 2
          }
         }
        },
        "title": {
         "text": "Duration by Content Rating",
         "x": 0.5
        },
        "xaxis": {
         "anchor": "y",
         "autorange": true,
         "categoryarray": [
          "R",
          "PG-13",
          "UNRATED",
          "PG",
          "G",
          "NC-17"
         ],
         "categoryorder": "array",
         "domain": [
          0,
          1
         ],
         "range": [
          -0.5,
          5.5
         ],
         "title": {
          "text": "Content Rating"
         },
         "type": "category"
        },
        "yaxis": {
         "anchor": "x",
         "autorange": true,
         "domain": [
          0,
          1
         ],
         "range": [
          54.111111111111114,
          251.88888888888889
         ],
         "title": {
          "text": "Duration"
         },
         "type": "linear"
        }
       }
      },
      "image/png": "[encoded data removed]",
      "text/html": [
       "<div>                            <div id=\"ae9d50e6-6dda-4982-a7d7-614a849f4d5c\" class=\"plotly-graph-div\" style=\"height:525px; width:100%;\"></div>            <script type=\"text/javascript\">                require([\"plotly\"], function(Plotly) {                    window.PLOTLYENV=window.PLOTLYENV || {};                                    if (document.getElementById(\"ae9d50e6-6dda-4982-a7d7-614a849f4d5c\")) {                    Plotly.newPlot(                        \"ae9d50e6-6dda-4982-a7d7-614a849f4d5c\",                        [{\"alignmentgroup\":\"True\",\"hovertemplate\":\"content_rating=%{x}<br>duration=%{y}<extra></extra>\",\"legendgroup\":\"R\",\"marker\":{\"color\":\"#636efa\"},\"name\":\"R\",\"notched\":false,\"offsetgroup\":\"R\",\"orientation\":\"v\",\"showlegend\":true,\"x\":[\"R\",\"R\",\"R\",\"R\",\"R\",\"R\",\"R\",\"R\",\"R\",\"R\",\"R\",\"R\",\"R\",\"R\",\"R\",\"R\",\"R\",\"R\",\"R\",\"R\",\"R\",\"R\",\"R\",\"R\",\"R\",\"R\",\"R\",\"R\",\"R\",\"R\",\"R\",\"R\",\"R\",\"R\",\"R\",\"R\",\"R\",\"R\",\"R\",\"R\",\"R\",\"R\",\"R\",\"R\",\"R\",\"R\",\"R\",\"R\",\"R\",\"R\",\"R\",\"R\",\"R\",\"R\",\"R\",\"R\",\"R\",\"R\",\"R\",\"R\",\"R\",\"R\",\"R\",\"R\",\"R\",\"R\",\"R\",\"R\",\"R\",\"R\",\"R\",\"R\",\"R\",\"R\",\"R\",\"R\",\"R\",\"R\",\"R\",\"R\",\"R\",\"R\",\"R\",\"R\",\"R\",\"R\",\"R\",\"R\",\"R\",\"R\",\"R\",\"R\",\"R\",\"R\",\"R\",\"R\",\"R\",\"R\",\"R\",\"R\",\"R\",\"R\",\"R\",\"R\",\"R\",\"R\",\"R\",\"R\",\"R\",\"R\",\"R\",\"R\",\"R\",\"R\",\"R\",\"R\",\"R\",\"R\",\"R\",\"R\",\"R\",\"R\",\"R\",\"R\",\"R\",\"R\",\"R\",\"R\",\"R\",\"R\",\"R\",\"R\",\"R\",\"R\",\"R\",\"R\",\"R\",\"R\",\"R\",\"R\",\"R\",\"R\",\"R\",\"R\",\"R\",\"R\",\"R\",\"R\",\"R\",\"R\",\"R\",\"R\",\"R\",\"R\",\"R\",\"R\",\"R\",\"R\",\"R\",\"R\",\"R\",\"R\",\"R\",\"R\",\"R\",\"R\",\"R\",\"R\",\"R\",\"R\",\"R\",\"R\",\"R\",\"R\",\"R\",\"R\",\"R\",\"R\",\"R\",\"R\",\"R\",\"R\",\"R\",\"R\",\"R\",\"R\",\"R\",\"R\",\"R\",\"R\",\"R\",\"R\",\"R\",\"R\",\"R\",\"R\",\"R\",\"R\",\"R\",\"R\",\"R\",\"R\",\"R\",\"R\",\"R\",\"R\",\"R\",\"R\",\"R\",\"R\",\"R\",\"R\",\"R\",\"R\",\"R\",\"R\",\"R\",\"R\",\"R\",\"R\",\"R\",\"R\",\"R\",\"R\",\"R\",\"R\",\"R\",\"R\",\"R\",\"R\",\"R\",\"R\",\"R\",\"R\",\"R\",\"R\",\"R\",\"R\",\"R\",\"R\",\"R\",\"R\",\"R\",\"R\",\"R\",\"R\",\"R\",\"R\",\"R\",\"R\",\"R\",\"R\",\"R\",\"R\",\"R\",\"R\",\"R\",\"R\",\"R\",\"R\",\"R\",\"R\",\"R\",\"R\",\"R\",\"R\",\"R\",\"R\",\"R\",\"R\",\"R\",\"R\",\"R\",\"R\",\"R\",\"R\",\"R\",\"R\",\"R\",\"R\",\"R\",\"R\",\"R\",\"R\",\"R\",\"R\",\"R\",\"R\",\"R\",\"R\",\"R\",\"R\",\"R\",\"R\",\"R\",\"R\",\"R\",\"R\",\"R\",\"R\",\"R\",\"R\",\"R\",\"R\",\"R\",\"R\",\"R\",\"R\",\"R\",\"R\",\"R\",\"R\",\"R\",\"R\",\"R\",\"R\",\"R\",\"R\",\"R\",\"R\",\"R\",\"R\",\"R\",\"R\",\"R\",\"R\",\"R\",\"R\",\"R\",\"R\",\"R\",\"R\",\"R\",\"R\",\"R\",\"R\",\"R\",\"R\",\"R\",\"R\",\"R\",\"R\",\"R\",\"R\",\"R\",\"R\",\"R\",\"R\",\"R\",\"R\",\"R\",\"R\",\"R\",\"R\",\"R\",\"R\",\"R\",\"R\",\"R\",\"R\",\"R\",\"R\",\"R\",\"R\",\"R\",\"R\",\"R\",\"R\",\"R\",\"R\",\"R\",\"R\",\"R\",\"R\",\"R\",\"R\",\"R\",\"R\",\"R\",\"R\",\"R\",\"R\",\"R\",\"R\",\"R\",\"R\",\"R\",\"R\",\"R\",\"R\",\"R\",\"R\",\"R\",\"R\",\"R\",\"R\",\"R\",\"R\",\"R\",\"R\",\"R\",\"R\",\"R\",\"R\",\"R\",\"R\",\"R\",\"R\",\"R\",\"R\",\"R\",\"R\",\"R\",\"R\",\"R\",\"R\",\"R\",\"R\",\"R\",\"R\",\"R\",\"R\",\"R\",\"R\",\"R\",\"R\",\"R\",\"R\",\"R\",\"R\",\"R\",\"R\",\"R\",\"R\",\"R\",\"R\",\"R\",\"R\",\"R\",\"R\",\"R\",\"R\",\"R\",\"R\",\"R\",\"R\",\"R\",\"R\",\"R\",\"R\",\"R\",\"R\",\"R\",\"R\",\"R\",\"R\",\"R\",\"R\",\"R\",\"R\"],\"x0\":\" \",\"xaxis\":\"x\",\"y\":[142,175,200,154,195,139,133,146,136,130,106,127,118,110,112,107,119,169,109,189,150,155,137,113,151,155,153,137,117,165,146,122,149,122,137,120,229,177,102,99,108,113,160,116,102,138,153,170,131,115,129,156,162,130,170,118,131,126,129,180,117,139,107,132,117,122,178,149,116,123,148,182,94,140,98,188,121,109,127,94,129,120,133,111,122,134,165,154,89,101,158,99,124,113,147,88,165,118,106,105,105,103,138,99,124,115,129,150,151,118,99,125,107,80,135,153,145,178,82,95,143,120,189,188,96,113,132,122,126,140,133,112,108,96,138,121,98,117,112,99,137,136,115,98,136,138,123,120,97,109,156,147,107,119,133,141,122,119,122,97,111,85,109,117,128,114,141,101,115,127,109,157,193,155,117,159,141,112,120,144,109,108,115,116,91,103,119,101,155,121,107,100,92,94,158,130,107,124,131,122,126,89,152,107,145,117,100,128,107,157,104,123,120,112,102,100,129,139,123,80,144,81,101,120,93,120,110,99,112,122,130,129,141,127,130,115,112,117,121,122,110,146,100,121,117,93,101,93,121,124,100,117,99,116,123,114,133,144,90,118,122,102,187,154,89,88,129,114,135,134,106,92,124,122,113,112,135,91,129,102,99,119,103,150,97,100,112,191,119,103,134,157,109,134,93,88,121,116,124,147,106,129,94,128,111,146,105,162,113,113,162,110,92,138,102,96,164,126,110,109,122,124,120,102,170,102,116,164,81,131,101,121,69,94,141,116,98,121,108,102,131,113,136,108,124,111,137,104,115,99,131,123,126,97,89,122,121,125,118,126,113,107,111,120,93,100,116,160,137,98,107,146,113,147,167,124,109,124,102,130,125,154,97,98,101,147,172,125,121,112,101,96,105,109,117,78,91,112,112,104,120,133,110,129,120,83,96,139,113,84,106,144,104,85,130,148,102,121,143,116,99,116,128,119,104,129,103,112,141,109,104,122,111,112,116,92,104,110,97,118,112,140,97,132,120,86,108,105,117,157,98,96,114,118,136,162,109,107,90,126],\"y0\":\" \",\"yaxis\":\"y\",\"type\":\"box\"},{\"alignmentgroup\":\"True\",\"hovertemplate\":\"content_rating=%{x}<br>duration=%{y}<extra></extra>\",\"legendgroup\":\"PG-13\",\"marker\":{\"color\":\"#EF553B\"},\"name\":\"PG-13\",\"notched\":false,\"offsetgroup\":\"PG-13\",\"orientation\":\"v\",\"showlegend\":true,\"x\":[\"PG-13\",\"PG-13\",\"PG-13\",\"PG-13\",\"PG-13\",\"PG-13\",\"PG-13\",\"PG-13\",\"PG-13\",\"PG-13\",\"PG-13\",\"PG-13\",\"PG-13\",\"PG-13\",\"PG-13\",\"PG-13\",\"PG-13\",\"PG-13\",\"PG-13\",\"PG-13\",\"PG-13\",\"PG-13\",\"PG-13\",\"PG-13\",\"PG-13\",\"PG-13\",\"PG-13\",\"PG-13\",\"PG-13\",\"PG-13\",\"PG-13\",\"PG-13\",\"PG-13\",\"PG-13\",\"PG-13\",\"PG-13\",\"PG-13\",\"PG-13\",\"PG-13\",\"PG-13\",\"PG-13\",\"PG-13\",\"PG-13\",\"PG-13\",\"PG-13\",\"PG-13\",\"PG-13\",\"PG-13\",\"PG-13\",\"PG-13\",\"PG-13\",\"PG-13\",\"PG-13\",\"PG-13\",\"PG-13\",\"PG-13\",\"PG-13\",\"PG-13\",\"PG-13\",\"PG-13\",\"PG-13\",\"PG-13\",\"PG-13\",\"PG-13\",\"PG-13\",\"PG-13\",\"PG-13\",\"PG-13\",\"PG-13\",\"PG-13\",\"PG-13\",\"PG-13\",\"PG-13\",\"PG-13\",\"PG-13\",\"PG-13\",\"PG-13\",\"PG-13\",\"PG-13\",\"PG-13\",\"PG-13\",\"PG-13\",\"PG-13\",\"PG-13\",\"PG-13\",\"PG-13\",\"PG-13\",\"PG-13\",\"PG-13\",\"PG-13\",\"PG-13\",\"PG-13\",\"PG-13\",\"PG-13\",\"PG-13\",\"PG-13\",\"PG-13\",\"PG-13\",\"PG-13\",\"PG-13\",\"PG-13\",\"PG-13\",\"PG-13\",\"PG-13\",\"PG-13\",\"PG-13\",\"PG-13\",\"PG-13\",\"PG-13\",\"PG-13\",\"PG-13\",\"PG-13\",\"PG-13\",\"PG-13\",\"PG-13\",\"PG-13\",\"PG-13\",\"PG-13\",\"PG-13\",\"PG-13\",\"PG-13\",\"PG-13\",\"PG-13\",\"PG-13\",\"PG-13\",\"PG-13\",\"PG-13\",\"PG-13\",\"PG-13\",\"PG-13\",\"PG-13\",\"PG-13\",\"PG-13\",\"PG-13\",\"PG-13\",\"PG-13\",\"PG-13\",\"PG-13\",\"PG-13\",\"PG-13\",\"PG-13\",\"PG-13\",\"PG-13\",\"PG-13\",\"PG-13\",\"PG-13\",\"PG-13\",\"PG-13\",\"PG-13\",\"PG-13\",\"PG-13\",\"PG-13\",\"PG-13\",\"PG-13\",\"PG-13\",\"PG-13\",\"PG-13\",\"PG-13\",\"PG-13\",\"PG-13\",\"PG-13\",\"PG-13\",\"PG-13\",\"PG-13\",\"PG-13\",\"PG-13\",\"PG-13\",\"PG-13\",\"PG-13\",\"PG-13\",\"PG-13\",\"PG-13\",\"PG-13\",\"PG-13\",\"PG-13\",\"PG-13\",\"PG-13\",\"PG-13\",\"PG-13\",\"PG-13\",\"PG-13\",\"PG-13\",\"PG-13\",\"PG-13\",\"PG-13\",\"PG-13\",\"PG-13\",\"PG-13\",\"PG-13\"],\"x0\":\" \",\"xaxis\":\"x\",\"y\":[152,201,178,148,142,179,169,116,175,165,130,170,134,123,140,127,140,135,95,143,121,107,121,114,130,130,132,98,115,131,146,125,128,143,102,112,127,137,96,125,127,104,197,181,141,144,100,161,169,119,103,165,126,105,144,197,113,123,117,99,91,119,130,162,126,120,97,136,134,93,103,127,242,127,126,132,78,106,94,105,166,94,111,136,106,132,163,130,154,95,123,120,118,108,143,152,119,116,139,121,131,127,194,80,130,105,129,143,202,110,146,104,125,104,146,140,140,110,94,158,127,101,98,168,145,123,113,126,132,130,110,128,128,157,85,104,114,128,139,133,131,126,105,115,126,143,93,96,119,114,111,144,125,97,128,128,125,133,135,112,124,129,104,138,90,106,134,101,123,170,93,130,133,134,100,138,118,111,94,97,107,104,109,103,150,105,87,126,138],\"y0\":\" \",\"yaxis\":\"y\",\"type\":\"box\"},{\"alignmentgroup\":\"True\",\"hovertemplate\":\"content_rating=%{x}<br>duration=%{y}<extra></extra>\",\"legendgroup\":\"UNRATED\",\"marker\":{\"color\":\"#00cc96\"},\"name\":\"UNRATED\",\"notched\":false,\"offsetgroup\":\"UNRATED\",\"orientation\":\"v\",\"showlegend\":true,\"x\":[\"UNRATED\",\"UNRATED\",\"UNRATED\",\"UNRATED\",\"UNRATED\",\"UNRATED\",\"UNRATED\",\"UNRATED\",\"UNRATED\",\"UNRATED\",\"UNRATED\",\"UNRATED\",\"UNRATED\",\"UNRATED\",\"UNRATED\",\"UNRATED\",\"UNRATED\",\"UNRATED\",\"UNRATED\",\"UNRATED\",\"UNRATED\",\"UNRATED\",\"UNRATED\",\"UNRATED\",\"UNRATED\",\"UNRATED\",\"UNRATED\",\"UNRATED\",\"UNRATED\",\"UNRATED\",\"UNRATED\",\"UNRATED\",\"UNRATED\",\"UNRATED\",\"UNRATED\",\"UNRATED\",\"UNRATED\",\"UNRATED\",\"UNRATED\",\"UNRATED\",\"UNRATED\",\"UNRATED\",\"UNRATED\",\"UNRATED\",\"UNRATED\",\"UNRATED\",\"UNRATED\",\"UNRATED\",\"UNRATED\",\"UNRATED\",\"UNRATED\",\"UNRATED\",\"UNRATED\",\"UNRATED\",\"UNRATED\",\"UNRATED\",\"UNRATED\",\"UNRATED\",\"UNRATED\",\"UNRATED\",\"UNRATED\",\"UNRATED\",\"UNRATED\",\"UNRATED\",\"UNRATED\",\"UNRATED\",\"UNRATED\",\"UNRATED\",\"UNRATED\",\"UNRATED\",\"UNRATED\",\"UNRATED\",\"UNRATED\",\"UNRATED\",\"UNRATED\",\"UNRATED\",\"UNRATED\",\"UNRATED\",\"UNRATED\",\"UNRATED\",\"UNRATED\",\"UNRATED\",\"UNRATED\",\"UNRATED\",\"UNRATED\",\"UNRATED\",\"UNRATED\",\"UNRATED\",\"UNRATED\",\"UNRATED\",\"UNRATED\",\"UNRATED\",\"UNRATED\",\"UNRATED\",\"UNRATED\",\"UNRATED\",\"UNRATED\",\"UNRATED\",\"UNRATED\",\"UNRATED\",\"UNRATED\",\"UNRATED\",\"UNRATED\",\"UNRATED\",\"UNRATED\",\"UNRATED\",\"UNRATED\",\"UNRATED\",\"UNRATED\",\"UNRATED\",\"UNRATED\",\"UNRATED\",\"UNRATED\",\"UNRATED\",\"UNRATED\",\"UNRATED\",\"UNRATED\",\"UNRATED\",\"UNRATED\",\"UNRATED\",\"UNRATED\",\"UNRATED\",\"UNRATED\",\"UNRATED\",\"UNRATED\",\"UNRATED\",\"UNRATED\",\"UNRATED\",\"UNRATED\",\"UNRATED\",\"UNRATED\",\"UNRATED\",\"UNRATED\",\"UNRATED\",\"UNRATED\",\"UNRATED\",\"UNRATED\",\"UNRATED\",\"UNRATED\",\"UNRATED\",\"UNRATED\",\"UNRATED\",\"UNRATED\",\"UNRATED\",\"UNRATED\",\"UNRATED\",\"UNRATED\",\"UNRATED\",\"UNRATED\",\"UNRATED\",\"UNRATED\",\"UNRATED\",\"UNRATED\",\"UNRATED\",\"UNRATED\",\"UNRATED\",\"UNRATED\",\"UNRATED\",\"UNRATED\",\"UNRATED\",\"UNRATED\",\"UNRATED\",\"UNRATED\"],\"x0\":\" \",\"xaxis\":\"x\",\"y\":[96,161,207,130,87,112,110,125,88,89,99,116,156,136,157,119,128,107,129,93,68,189,181,103,138,110,88,126,125,143,93,132,153,183,120,129,172,108,107,91,95,186,151,96,131,105,130,172,116,123,92,100,83,99,163,121,167,110,129,138,134,88,108,132,102,101,108,174,92,98,101,115,120,123,118,114,118,112,160,67,134,141,104,85,91,102,92,136,105,126,68,106,172,113,127,93,109,81,119,66,83,108,70,96,96,100,90,64,75,111,100,96,113,170,220,96,98,86,108,141,113,92,128,80,101,105,138,118,150,115,139,110,114,105,113,98,87,118,98,89,142,158,101,88,152,111,111,144,85,78,152,108,96,205,131,113,127,88,106,115,106,128,89],\"y0\":\" \",\"yaxis\":\"y\",\"type\":\"box\"},{\"alignmentgroup\":\"True\",\"hovertemplate\":\"content_rating=%{x}<br>duration=%{y}<extra></extra>\",\"legendgroup\":\"PG\",\"marker\":{\"color\":\"#ab63fa\"},\"name\":\"PG\",\"notched\":false,\"offsetgroup\":\"PG\",\"orientation\":\"v\",\"showlegend\":true,\"x\":[\"PG\",\"PG\",\"PG\",\"PG\",\"PG\",\"PG\",\"PG\",\"PG\",\"PG\",\"PG\",\"PG\",\"PG\",\"PG\",\"PG\",\"PG\",\"PG\",\"PG\",\"PG\",\"PG\",\"PG\",\"PG\",\"PG\",\"PG\",\"PG\",\"PG\",\"PG\",\"PG\",\"PG\",\"PG\",\"PG\",\"PG\",\"PG\",\"PG\",\"PG\",\"PG\",\"PG\",\"PG\",\"PG\",\"PG\",\"PG\",\"PG\",\"PG\",\"PG\",\"PG\",\"PG\",\"PG\",\"PG\",\"PG\",\"PG\",\"PG\",\"PG\",\"PG\",\"PG\",\"PG\",\"PG\",\"PG\",\"PG\",\"PG\",\"PG\",\"PG\",\"PG\",\"PG\",\"PG\",\"PG\",\"PG\",\"PG\",\"PG\",\"PG\",\"PG\",\"PG\",\"PG\",\"PG\",\"PG\",\"PG\",\"PG\",\"PG\",\"PG\",\"PG\",\"PG\",\"PG\",\"PG\",\"PG\",\"PG\",\"PG\",\"PG\",\"PG\",\"PG\",\"PG\",\"PG\",\"PG\",\"PG\",\"PG\",\"PG\",\"PG\",\"PG\",\"PG\",\"PG\",\"PG\",\"PG\",\"PG\",\"PG\",\"PG\",\"PG\",\"PG\",\"PG\",\"PG\",\"PG\",\"PG\",\"PG\",\"PG\",\"PG\",\"PG\",\"PG\",\"PG\",\"PG\",\"PG\",\"PG\",\"PG\",\"PG\",\"PG\",\"PG\",\"PG\",\"PG\"],\"x0\":\" \",\"xaxis\":\"x\",\"y\":[124,121,125,102,115,165,95,116,134,216,129,91,96,161,224,119,124,126,98,105,98,117,101,93,191,167,85,124,184,138,98,94,124,119,101,106,122,103,80,76,130,115,102,127,128,94,115,102,86,105,102,113,134,129,135,94,90,124,115,100,100,143,94,153,87,108,105,101,108,88,129,79,114,106,142,101,109,113,113,90,82,95,137,88,131,100,102,104,99,92,135,112,140,118,109,114,81,126,107,138,114,93,114,98,120,110,110,80,135,153,125,114,152,92,101,175,103,102,104,99,116,118,114],\"y0\":\" \",\"yaxis\":\"y\",\"type\":\"box\"},{\"alignmentgroup\":\"True\",\"hovertemplate\":\"content_rating=%{x}<br>duration=%{y}<extra></extra>\",\"legendgroup\":\"G\",\"marker\":{\"color\":\"#FFA15A\"},\"name\":\"G\",\"notched\":false,\"offsetgroup\":\"G\",\"orientation\":\"v\",\"showlegend\":true,\"x\":[\"G\",\"G\",\"G\",\"G\",\"G\",\"G\",\"G\",\"G\",\"G\",\"G\",\"G\",\"G\",\"G\",\"G\",\"G\",\"G\",\"G\",\"G\",\"G\",\"G\",\"G\",\"G\",\"G\",\"G\",\"G\",\"G\",\"G\",\"G\",\"G\",\"G\",\"G\",\"G\"],\"x0\":\" \",\"xaxis\":\"x\",\"y\":[87,89,98,103,160,81,86,238,93,100,212,92,84,112,111,174,90,181,112,92,103,100,125,178,101,85,94,83,83,85,88,75],\"y0\":\" \",\"yaxis\":\"y\",\"type\":\"box\"},{\"alignmentgroup\":\"True\",\"hovertemplate\":\"content_rating=%{x}<br>duration=%{y}<extra></extra>\",\"legendgroup\":\"NC-17\",\"marker\":{\"color\":\"#19d3f3\"},\"name\":\"NC-17\",\"notched\":false,\"offsetgroup\":\"NC-17\",\"orientation\":\"v\",\"showlegend\":true,\"x\":[\"NC-17\",\"NC-17\",\"NC-17\",\"NC-17\",\"NC-17\",\"NC-17\",\"NC-17\",\"NC-17\",\"NC-17\",\"NC-17\",\"NC-17\",\"NC-17\"],\"x0\":\" \",\"xaxis\":\"x\",\"y\":[136,131,113,179,84,105,95,157,85,92,106,112],\"y0\":\" \",\"yaxis\":\"y\",\"type\":\"box\"}],                        {\"template\":{\"data\":{\"histogram2dcontour\":[{\"type\":\"histogram2dcontour\",\"colorbar\":{\"outlinewidth\":0,\"ticks\":\"\"},\"colorscale\":[[0.0,\"#0d0887\"],[0.1111111111111111,\"#46039f\"],[0.2222222222222222,\"#7201a8\"],[0.3333333333333333,\"#9c179e\"],[0.4444444444444444,\"#bd3786\"],[0.5555555555555556,\"#d8576b\"],[0.6666666666666666,\"#ed7953\"],[0.7777777777777778,\"#fb9f3a\"],[0.8888888888888888,\"#fdca26\"],[1.0,\"#f0f921\"]]}],\"choropleth\":[{\"type\":\"choropleth\",\"colorbar\":{\"outlinewidth\":0,\"ticks\":\"\"}}],\"histogram2d\":[{\"type\":\"histogram2d\",\"colorbar\":{\"outlinewidth\":0,\"ticks\":\"\"},\"colorscale\":[[0.0,\"#0d0887\"],[0.1111111111111111,\"#46039f\"],[0.2222222222222222,\"#7201a8\"],[0.3333333333333333,\"#9c179e\"],[0.4444444444444444,\"#bd3786\"],[0.5555555555555556,\"#d8576b\"],[0.6666666666666666,\"#ed7953\"],[0.7777777777777778,\"#fb9f3a\"],[0.8888888888888888,\"#fdca26\"],[1.0,\"#f0f921\"]]}],\"heatmap\":[{\"type\":\"heatmap\",\"colorbar\":{\"outlinewidth\":0,\"ticks\":\"\"},\"colorscale\":[[0.0,\"#0d0887\"],[0.1111111111111111,\"#46039f\"],[0.2222222222222222,\"#7201a8\"],[0.3333333333333333,\"#9c179e\"],[0.4444444444444444,\"#bd3786\"],[0.5555555555555556,\"#d8576b\"],[0.6666666666666666,\"#ed7953\"],[0.7777777777777778,\"#fb9f3a\"],[0.8888888888888888,\"#fdca26\"],[1.0,\"#f0f921\"]]}],\"heatmapgl\":[{\"type\":\"heatmapgl\",\"colorbar\":{\"outlinewidth\":0,\"ticks\":\"\"},\"colorscale\":[[0.0,\"#0d0887\"],[0.1111111111111111,\"#46039f\"],[0.2222222222222222,\"#7201a8\"],[0.3333333333333333,\"#9c179e\"],[0.4444444444444444,\"#bd3786\"],[0.5555555555555556,\"#d8576b\"],[0.6666666666666666,\"#ed7953\"],[0.7777777777777778,\"#fb9f3a\"],[0.8888888888888888,\"#fdca26\"],[1.0,\"#f0f921\"]]}],\"contourcarpet\":[{\"type\":\"contourcarpet\",\"colorbar\":{\"outlinewidth\":0,\"ticks\":\"\"}}],\"contour\":[{\"type\":\"contour\",\"colorbar\":{\"outlinewidth\":0,\"ticks\":\"\"},\"colorscale\":[[0.0,\"#0d0887\"],[0.1111111111111111,\"#46039f\"],[0.2222222222222222,\"#7201a8\"],[0.3333333333333333,\"#9c179e\"],[0.4444444444444444,\"#bd3786\"],[0.5555555555555556,\"#d8576b\"],[0.6666666666666666,\"#ed7953\"],[0.7777777777777778,\"#fb9f3a\"],[0.8888888888888888,\"#fdca26\"],[1.0,\"#f0f921\"]]}],\"surface\":[{\"type\":\"surface\",\"colorbar\":{\"outlinewidth\":0,\"ticks\":\"\"},\"colorscale\":[[0.0,\"#0d0887\"],[0.1111111111111111,\"#46039f\"],[0.2222222222222222,\"#7201a8\"],[0.3333333333333333,\"#9c179e\"],[0.4444444444444444,\"#bd3786\"],[0.5555555555555556,\"#d8576b\"],[0.6666666666666666,\"#ed7953\"],[0.7777777777777778,\"#fb9f3a\"],[0.8888888888888888,\"#fdca26\"],[1.0,\"#f0f921\"]]}],\"mesh3d\":[{\"type\":\"mesh3d\",\"colorbar\":{\"outlinewidth\":0,\"ticks\":\"\"}}],\"scatter\":[{\"fillpattern\":{\"fillmode\":\"overlay\",\"size\":10,\"solidity\":0.2},\"type\":\"scatter\"}],\"parcoords\":[{\"type\":\"parcoords\",\"line\":{\"colorbar\":{\"outlinewidth\":0,\"ticks\":\"\"}}}],\"scatterpolargl\":[{\"type\":\"scatterpolargl\",\"marker\":{\"colorbar\":{\"outlinewidth\":0,\"ticks\":\"\"}}}],\"bar\":[{\"error_x\":{\"color\":\"#2a3f5f\"},\"error_y\":{\"color\":\"#2a3f5f\"},\"marker\":{\"line\":{\"color\":\"#E5ECF6\",\"width\":0.5},\"pattern\":{\"fillmode\":\"overlay\",\"size\":10,\"solidity\":0.2}},\"type\":\"bar\"}],\"scattergeo\":[{\"type\":\"scattergeo\",\"marker\":{\"colorbar\":{\"outlinewidth\":0,\"ticks\":\"\"}}}],\"scatterpolar\":[{\"type\":\"scatterpolar\",\"marker\":{\"colorbar\":{\"outlinewidth\":0,\"ticks\":\"\"}}}],\"histogram\":[{\"marker\":{\"pattern\":{\"fillmode\":\"overlay\",\"size\":10,\"solidity\":0.2}},\"type\":\"histogram\"}],\"scattergl\":[{\"type\":\"scattergl\",\"marker\":{\"colorbar\":{\"outlinewidth\":0,\"ticks\":\"\"}}}],\"scatter3d\":[{\"type\":\"scatter3d\",\"line\":{\"colorbar\":{\"outlinewidth\":0,\"ticks\":\"\"}},\"marker\":{\"colorbar\":{\"outlinewidth\":0,\"ticks\":\"\"}}}],\"scattermapbox\":[{\"type\":\"scattermapbox\",\"marker\":{\"colorbar\":{\"outlinewidth\":0,\"ticks\":\"\"}}}],\"scatterternary\":[{\"type\":\"scatterternary\",\"marker\":{\"colorbar\":{\"outlinewidth\":0,\"ticks\":\"\"}}}],\"scattercarpet\":[{\"type\":\"scattercarpet\",\"marker\":{\"colorbar\":{\"outlinewidth\":0,\"ticks\":\"\"}}}],\"carpet\":[{\"aaxis\":{\"endlinecolor\":\"#2a3f5f\",\"gridcolor\":\"white\",\"linecolor\":\"white\",\"minorgridcolor\":\"white\",\"startlinecolor\":\"#2a3f5f\"},\"baxis\":{\"endlinecolor\":\"#2a3f5f\",\"gridcolor\":\"white\",\"linecolor\":\"white\",\"minorgridcolor\":\"white\",\"startlinecolor\":\"#2a3f5f\"},\"type\":\"carpet\"}],\"table\":[{\"cells\":{\"fill\":{\"color\":\"#EBF0F8\"},\"line\":{\"color\":\"white\"}},\"header\":{\"fill\":{\"color\":\"#C8D4E3\"},\"line\":{\"color\":\"white\"}},\"type\":\"table\"}],\"barpolar\":[{\"marker\":{\"line\":{\"color\":\"#E5ECF6\",\"width\":0.5},\"pattern\":{\"fillmode\":\"overlay\",\"size\":10,\"solidity\":0.2}},\"type\":\"barpolar\"}],\"pie\":[{\"automargin\":true,\"type\":\"pie\"}]},\"layout\":{\"autotypenumbers\":\"strict\",\"colorway\":[\"#636efa\",\"#EF553B\",\"#00cc96\",\"#ab63fa\",\"#FFA15A\",\"#19d3f3\",\"#FF6692\",\"#B6E880\",\"#FF97FF\",\"#FECB52\"],\"font\":{\"color\":\"#2a3f5f\"},\"hovermode\":\"closest\",\"hoverlabel\":{\"align\":\"left\"},\"paper_bgcolor\":\"white\",\"plot_bgcolor\":\"#E5ECF6\",\"polar\":{\"bgcolor\":\"#E5ECF6\",\"angularaxis\":{\"gridcolor\":\"white\",\"linecolor\":\"white\",\"ticks\":\"\"},\"radialaxis\":{\"gridcolor\":\"white\",\"linecolor\":\"white\",\"ticks\":\"\"}},\"ternary\":{\"bgcolor\":\"#E5ECF6\",\"aaxis\":{\"gridcolor\":\"white\",\"linecolor\":\"white\",\"ticks\":\"\"},\"baxis\":{\"gridcolor\":\"white\",\"linecolor\":\"white\",\"ticks\":\"\"},\"caxis\":{\"gridcolor\":\"white\",\"linecolor\":\"white\",\"ticks\":\"\"}},\"coloraxis\":{\"colorbar\":{\"outlinewidth\":0,\"ticks\":\"\"}},\"colorscale\":{\"sequential\":[[0.0,\"#0d0887\"],[0.1111111111111111,\"#46039f\"],[0.2222222222222222,\"#7201a8\"],[0.3333333333333333,\"#9c179e\"],[0.4444444444444444,\"#bd3786\"],[0.5555555555555556,\"#d8576b\"],[0.6666666666666666,\"#ed7953\"],[0.7777777777777778,\"#fb9f3a\"],[0.8888888888888888,\"#fdca26\"],[1.0,\"#f0f921\"]],\"sequentialminus\":[[0.0,\"#0d0887\"],[0.1111111111111111,\"#46039f\"],[0.2222222222222222,\"#7201a8\"],[0.3333333333333333,\"#9c179e\"],[0.4444444444444444,\"#bd3786\"],[0.5555555555555556,\"#d8576b\"],[0.6666666666666666,\"#ed7953\"],[0.7777777777777778,\"#fb9f3a\"],[0.8888888888888888,\"#fdca26\"],[1.0,\"#f0f921\"]],\"diverging\":[[0,\"#8e0152\"],[0.1,\"#c51b7d\"],[0.2,\"#de77ae\"],[0.3,\"#f1b6da\"],[0.4,\"#fde0ef\"],[0.5,\"#f7f7f7\"],[0.6,\"#e6f5d0\"],[0.7,\"#b8e186\"],[0.8,\"#7fbc41\"],[0.9,\"#4d9221\"],[1,\"#276419\"]]},\"xaxis\":{\"gridcolor\":\"white\",\"linecolor\":\"white\",\"ticks\":\"\",\"title\":{\"standoff\":15},\"zerolinecolor\":\"white\",\"automargin\":true,\"zerolinewidth\":2},\"yaxis\":{\"gridcolor\":\"white\",\"linecolor\":\"white\",\"ticks\":\"\",\"title\":{\"standoff\":15},\"zerolinecolor\":\"white\",\"automargin\":true,\"zerolinewidth\":2},\"scene\":{\"xaxis\":{\"backgroundcolor\":\"#E5ECF6\",\"gridcolor\":\"white\",\"linecolor\":\"white\",\"showbackground\":true,\"ticks\":\"\",\"zerolinecolor\":\"white\",\"gridwidth\":2},\"yaxis\":{\"backgroundcolor\":\"#E5ECF6\",\"gridcolor\":\"white\",\"linecolor\":\"white\",\"showbackground\":true,\"ticks\":\"\",\"zerolinecolor\":\"white\",\"gridwidth\":2},\"zaxis\":{\"backgroundcolor\":\"#E5ECF6\",\"gridcolor\":\"white\",\"linecolor\":\"white\",\"showbackground\":true,\"ticks\":\"\",\"zerolinecolor\":\"white\",\"gridwidth\":2}},\"shapedefaults\":{\"line\":{\"color\":\"#2a3f5f\"}},\"annotationdefaults\":{\"arrowcolor\":\"#2a3f5f\",\"arrowhead\":0,\"arrowwidth\":1},\"geo\":{\"bgcolor\":\"white\",\"landcolor\":\"#E5ECF6\",\"subunitcolor\":\"white\",\"showland\":true,\"showlakes\":true,\"lakecolor\":\"white\"},\"title\":{\"x\":0.05},\"mapbox\":{\"style\":\"light\"}}},\"xaxis\":{\"anchor\":\"y\",\"domain\":[0.0,1.0],\"title\":{\"text\":\"Content Rating\"},\"categoryorder\":\"array\",\"categoryarray\":[\"R\",\"PG-13\",\"UNRATED\",\"PG\",\"G\",\"NC-17\"]},\"yaxis\":{\"anchor\":\"x\",\"domain\":[0.0,1.0],\"title\":{\"text\":\"Duration\"}},\"legend\":{\"title\":{\"text\":\"content_rating\"},\"tracegroupgap\":0},\"margin\":{\"t\":60},\"boxmode\":\"overlay\",\"title\":{\"text\":\"Duration by Content Rating\",\"x\":0.5},\"plot_bgcolor\":\"white\"},                        {\"responsive\": true}                    ).then(function(){\n",
       "                            \n",
       "var gd = document.getElementById('ae9d50e6-6dda-4982-a7d7-614a849f4d5c');\n",
       "var x = new MutationObserver(function (mutations, observer) {{\n",
       "        var display = window.getComputedStyle(gd).display;\n",
       "        if (!display || display === 'none') {{\n",
       "            console.log([gd, 'removed!']);\n",
       "            Plotly.purge(gd);\n",
       "            observer.disconnect();\n",
       "        }}\n",
       "}});\n",
       "\n",
       "// Listen for the removal of the full notebook cells\n",
       "var notebookContainer = gd.closest('#notebook-container');\n",
       "if (notebookContainer) {{\n",
       "    x.observe(notebookContainer, {childList: true});\n",
       "}}\n",
       "\n",
       "// Listen for the clearing of the current output cell\n",
       "var outputEl = gd.closest('.output');\n",
       "if (outputEl) {{\n",
       "    x.observe(outputEl, {childList: true});\n",
       "}}\n",
       "\n",
       "                        })                };                });            </script>        </div>"
      ]
     },
     "metadata": {},
     "output_type": "display_data"
    }
   ],
   "source": [
    "# Answer:\n",
    "\n",
    "fig = px.box(movies, x='content_rating', y='duration', color='content_rating')\n",
    "fig.update_layout(plot_bgcolor='white',title='Duration by Content Rating',title_x=0.5)\n",
    "\n",
    "fig.update_xaxes(title='Content Rating')\n",
    "fig.update_yaxes(title='Duration')\n",
    "\n",
    "fig.show()"
   ]
  },
  {
   "cell_type": "raw",
   "metadata": {},
   "source": [
    "#### Determine the top rated movie (by star rating) for each genre."
   ]
  },
  {
   "cell_type": "code",
   "execution_count": 459,
   "metadata": {
    "tags": []
   },
   "outputs": [
    {
     "data": {
      "text/html": [
       "<div>\n",
       "<style scoped>\n",
       "    .dataframe tbody tr th:only-of-type {\n",
       "        vertical-align: middle;\n",
       "    }\n",
       "\n",
       "    .dataframe tbody tr th {\n",
       "        vertical-align: top;\n",
       "    }\n",
       "\n",
       "    .dataframe thead th {\n",
       "        text-align: right;\n",
       "    }\n",
       "</style>\n",
       "<table border=\"1\" class=\"dataframe\">\n",
       "  <thead>\n",
       "    <tr style=\"text-align: right;\">\n",
       "      <th></th>\n",
       "      <th>genre</th>\n",
       "      <th>star_rating</th>\n",
       "      <th>title</th>\n",
       "    </tr>\n",
       "  </thead>\n",
       "  <tbody>\n",
       "    <tr>\n",
       "      <th>3</th>\n",
       "      <td>Action</td>\n",
       "      <td>9.0</td>\n",
       "      <td>The Dark Knight</td>\n",
       "    </tr>\n",
       "    <tr>\n",
       "      <th>7</th>\n",
       "      <td>Adventure</td>\n",
       "      <td>8.9</td>\n",
       "      <td>The Lord of the Rings: The Return of the King</td>\n",
       "    </tr>\n",
       "    <tr>\n",
       "      <th>30</th>\n",
       "      <td>Animation</td>\n",
       "      <td>8.6</td>\n",
       "      <td>Spirited Away</td>\n",
       "    </tr>\n",
       "    <tr>\n",
       "      <th>8</th>\n",
       "      <td>Biography</td>\n",
       "      <td>8.9</td>\n",
       "      <td>Schindler's List</td>\n",
       "    </tr>\n",
       "    <tr>\n",
       "      <th>25</th>\n",
       "      <td>Comedy</td>\n",
       "      <td>8.6</td>\n",
       "      <td>Life Is Beautiful</td>\n",
       "    </tr>\n",
       "    <tr>\n",
       "      <th>0</th>\n",
       "      <td>Crime</td>\n",
       "      <td>9.3</td>\n",
       "      <td>The Shawshank Redemption</td>\n",
       "    </tr>\n",
       "    <tr>\n",
       "      <th>5</th>\n",
       "      <td>Drama</td>\n",
       "      <td>8.9</td>\n",
       "      <td>12 Angry Men</td>\n",
       "    </tr>\n",
       "    <tr>\n",
       "      <th>468</th>\n",
       "      <td>Family</td>\n",
       "      <td>7.9</td>\n",
       "      <td>E.T. the Extra-Terrestrial</td>\n",
       "    </tr>\n",
       "    <tr>\n",
       "      <th>638</th>\n",
       "      <td>Fantasy</td>\n",
       "      <td>7.7</td>\n",
       "      <td>The City of Lost Children</td>\n",
       "    </tr>\n",
       "    <tr>\n",
       "      <th>105</th>\n",
       "      <td>Film-Noir</td>\n",
       "      <td>8.3</td>\n",
       "      <td>The Third Man</td>\n",
       "    </tr>\n",
       "    <tr>\n",
       "      <th>338</th>\n",
       "      <td>History</td>\n",
       "      <td>8.0</td>\n",
       "      <td>Battleship Potemkin</td>\n",
       "    </tr>\n",
       "    <tr>\n",
       "      <th>39</th>\n",
       "      <td>Horror</td>\n",
       "      <td>8.6</td>\n",
       "      <td>Psycho</td>\n",
       "    </tr>\n",
       "    <tr>\n",
       "      <th>38</th>\n",
       "      <td>Mystery</td>\n",
       "      <td>8.6</td>\n",
       "      <td>Rear Window</td>\n",
       "    </tr>\n",
       "    <tr>\n",
       "      <th>145</th>\n",
       "      <td>Sci-Fi</td>\n",
       "      <td>8.2</td>\n",
       "      <td>Blade Runner</td>\n",
       "    </tr>\n",
       "    <tr>\n",
       "      <th>350</th>\n",
       "      <td>Thriller</td>\n",
       "      <td>8.0</td>\n",
       "      <td>Shadow of a Doubt</td>\n",
       "    </tr>\n",
       "    <tr>\n",
       "      <th>6</th>\n",
       "      <td>Western</td>\n",
       "      <td>8.9</td>\n",
       "      <td>The Good, the Bad and the Ugly</td>\n",
       "    </tr>\n",
       "  </tbody>\n",
       "</table>\n",
       "</div>"
      ],
      "text/plain": [
       "         genre  star_rating                                          title\n",
       "3       Action          9.0                                The Dark Knight\n",
       "7    Adventure          8.9  The Lord of the Rings: The Return of the King\n",
       "30   Animation          8.6                                  Spirited Away\n",
       "8    Biography          8.9                               Schindler's List\n",
       "25      Comedy          8.6                              Life Is Beautiful\n",
       "0        Crime          9.3                       The Shawshank Redemption\n",
       "5        Drama          8.9                                   12 Angry Men\n",
       "468     Family          7.9                     E.T. the Extra-Terrestrial\n",
       "638    Fantasy          7.7                      The City of Lost Children\n",
       "105  Film-Noir          8.3                                  The Third Man\n",
       "338    History          8.0                            Battleship Potemkin\n",
       "39      Horror          8.6                                         Psycho\n",
       "38     Mystery          8.6                                    Rear Window\n",
       "145     Sci-Fi          8.2                                   Blade Runner\n",
       "350   Thriller          8.0                              Shadow of a Doubt\n",
       "6      Western          8.9                 The Good, the Bad and the Ugly"
      ]
     },
     "execution_count": 459,
     "metadata": {},
     "output_type": "execute_result"
    }
   ],
   "source": [
    "# Answer:\n",
    "\n",
    "#index of the maximum 'star_rating' within each group\n",
    "top_moviesid = movies.groupby('genre')['star_rating'].idxmax()\n",
    "top_movies = movies.loc[top_moviesid, ['genre', 'star_rating', 'title']]\n",
    "top_movies"
   ]
  },
  {
   "cell_type": "raw",
   "metadata": {},
   "source": [
    "#### Check if there are multiple movies with the same title, and if so, determine if they are actually duplicates.\n",
    "\n"
   ]
  },
  {
   "cell_type": "code",
   "execution_count": 460,
   "metadata": {
    "tags": []
   },
   "outputs": [
    {
     "name": "stdout",
     "output_type": "stream",
     "text": [
      "There are 4 duplicate titles\n",
      "The Girl with the Dragon Tattoo\n",
      "True Grit\n",
      "Les Miserables\n",
      "Dracula\n"
     ]
    }
   ],
   "source": [
    "# Answer:\n",
    "\n",
    "duplicate_sum = movies['title'].duplicated().sum()\n",
    "if duplicate_sum >0:\n",
    "    print ('There are ' + str(duplicate_sum) + ' duplicate titles')\n",
    "else:\n",
    "    print ('No duplicate titles')\n",
    "\n",
    "duplicate_titles = movies[movies['title'].duplicated(keep=False)]\n",
    "identical_titles = duplicated_titles['title'].unique()\n",
    "\n",
    "for title in identical_titles:\n",
    "        print(title)\n"
   ]
  },
  {
   "cell_type": "markdown",
   "metadata": {},
   "source": [
    "#### Calculate the average star rating for each genre, but only include genres with at least 10 movies\n"
   ]
  },
  {
   "cell_type": "markdown",
   "metadata": {},
   "source": [
    "#### Option 1: manually create a list of relevant genres, then filter using that list"
   ]
  },
  {
   "cell_type": "code",
   "execution_count": 461,
   "metadata": {
    "tags": []
   },
   "outputs": [],
   "source": [
    "# Answer:"
   ]
  },
  {
   "cell_type": "markdown",
   "metadata": {},
   "source": [
    "#### Option 2: automatically create a list of relevant genres by saving the value_counts and then filtering"
   ]
  },
  {
   "cell_type": "code",
   "execution_count": 462,
   "metadata": {
    "tags": []
   },
   "outputs": [
    {
     "name": "stdout",
     "output_type": "stream",
     "text": [
      "       genre  average star rating\n",
      "0     Action             7.884559\n",
      "1  Adventure             7.933333\n",
      "2  Animation             7.914516\n",
      "3  Biography             7.862338\n",
      "4     Comedy             7.822436\n",
      "5      Crime             7.916935\n",
      "6      Drama             7.902518\n",
      "7     Horror             7.806897\n",
      "8    Mystery             7.975000\n"
     ]
    }
   ],
   "source": [
    "# Answer:\n",
    "moviescount = movies['genre'].value_counts().reset_index()\n",
    "#print (moviescount)\n",
    "nums = movies[movies['genre'].isin(moviescount[moviescount['genre'] > 10]['index'])]\n",
    "average_rating = nums.groupby('genre')['star_rating'].mean().reset_index().rename(\n",
    "    columns={'star_rating':'average star rating'})\n",
    "\n",
    "print(average_rating)"
   ]
  },
  {
   "cell_type": "markdown",
   "metadata": {},
   "source": [
    "#### Option 3: calculate the average star rating for all genres, then filter using a boolean Series"
   ]
  },
  {
   "cell_type": "code",
   "execution_count": 463,
   "metadata": {
    "tags": []
   },
   "outputs": [],
   "source": [
    "# Answer:"
   ]
  },
  {
   "cell_type": "markdown",
   "metadata": {},
   "source": [
    "#### Option 4: aggregate by count and mean, then filter using the count"
   ]
  },
  {
   "cell_type": "code",
   "execution_count": 464,
   "metadata": {
    "tags": []
   },
   "outputs": [],
   "source": [
    "# Answer:"
   ]
  },
  {
   "cell_type": "markdown",
   "metadata": {},
   "source": [
    "## Bonus"
   ]
  },
  {
   "cell_type": "markdown",
   "metadata": {},
   "source": [
    "#### Figure out something \"interesting\" using the actors data!"
   ]
  },
  {
   "cell_type": "code",
   "execution_count": 465,
   "metadata": {
    "tags": []
   },
   "outputs": [
    {
     "data": {
      "text/plain": [
       "0      [u'Tim Robbins', u'Morgan Freeman', u'Bob Gunt...\n",
       "1        [u'Marlon Brando', u'Al Pacino', u'James Caan']\n",
       "2      [u'Al Pacino', u'Robert De Niro', u'Robert Duv...\n",
       "3      [u'Christian Bale', u'Heath Ledger', u'Aaron E...\n",
       "4      [u'John Travolta', u'Uma Thurman', u'Samuel L....\n",
       "                             ...                        \n",
       "974    [u'Dustin Hoffman', u'Jessica Lange', u'Teri G...\n",
       "975    [u'Michael J. Fox', u'Christopher Lloyd', u'Ma...\n",
       "976    [u'Russell Crowe', u'Paul Bettany', u'Billy Bo...\n",
       "977    [u'JoBeth Williams', u\"Heather O'Rourke\", u'Cr...\n",
       "978    [u'Charlie Sheen', u'Michael Douglas', u'Tamar...\n",
       "Name: actors_list, Length: 979, dtype: object"
      ]
     },
     "execution_count": 465,
     "metadata": {},
     "output_type": "execute_result"
    }
   ],
   "source": [
    "movies['actors_list']"
   ]
  },
  {
   "cell_type": "code",
   "execution_count": 466,
   "metadata": {},
   "outputs": [
    {
     "name": "stdout",
     "output_type": "stream",
     "text": [
      "Actor: [ Frequency: 979\n",
      "Actor: u Frequency: 3748\n",
      "Actor: ' Frequency: 5853\n",
      "Actor: T Frequency: 250\n",
      "Actor: i Frequency: 2381\n",
      "Actor: m Frequency: 717\n",
      "Actor:   Frequency: 5073\n",
      "Actor: R Frequency: 361\n",
      "Actor: o Frequency: 2189\n",
      "Actor: b Frequency: 283\n",
      "Actor: n Frequency: 2826\n",
      "Actor: s Frequency: 1244\n",
      "Actor: , Frequency: 1958\n",
      "Actor: M Frequency: 527\n",
      "Actor: r Frequency: 2513\n",
      "Actor: g Frequency: 474\n",
      "Actor: a Frequency: 3523\n",
      "Actor: F Frequency: 201\n",
      "Actor: e Frequency: 3714\n",
      "Actor: B Frequency: 434\n",
      "Actor: G Frequency: 312\n",
      "Actor: t Frequency: 1428\n",
      "Actor: ] Frequency: 979\n",
      "Actor: l Frequency: 1909\n",
      "Actor: d Frequency: 831\n",
      "Actor: A Frequency: 299\n",
      "Actor: P Frequency: 275\n",
      "Actor: c Frequency: 758\n",
      "Actor: J Frequency: 478\n",
      "Actor: C Frequency: 522\n",
      "Actor: D Frequency: 384\n",
      "Actor: N Frequency: 153\n",
      "Actor: v Frequency: 260\n",
      "Actor: h Frequency: 1100\n",
      "Actor: H Frequency: 338\n",
      "Actor: L Frequency: 272\n",
      "Actor: E Frequency: 202\n",
      "Actor: k Frequency: 426\n",
      "Actor: U Frequency: 19\n",
      "Actor: S Frequency: 412\n",
      "Actor: . Frequency: 50\n",
      "Actor: y Frequency: 752\n",
      "Actor: w Frequency: 265\n",
      "Actor: W Frequency: 235\n",
      "Actor: V Frequency: 76\n",
      "Actor: f Frequency: 286\n",
      "Actor: j Frequency: 52\n",
      "Actor: I Frequency: 52\n",
      "Actor: K Frequency: 251\n",
      "Actor: p Frequency: 271\n",
      "Actor: O Frequency: 66\n",
      "Actor: - Frequency: 78\n",
      "Actor: \\ Frequency: 141\n",
      "Actor: x Frequency: 190\n",
      "Actor: 4 Frequency: 17\n",
      "Actor: z Frequency: 115\n",
      "Actor: 7 Frequency: 7\n",
      "Actor: \" Frequency: 42\n",
      "Actor: q Frequency: 20\n",
      "Actor: Y Frequency: 37\n",
      "Actor: 6 Frequency: 11\n",
      "Actor: Q Frequency: 14\n",
      "Actor: 9 Frequency: 40\n",
      "Actor: 3 Frequency: 6\n",
      "Actor: 1 Frequency: 14\n",
      "Actor: 8 Frequency: 5\n",
      "Actor: Z Frequency: 27\n",
      "Actor: 5 Frequency: 3\n",
      "Actor: X Frequency: 2\n"
     ]
    }
   ],
   "source": [
    "#i tried... not sure why it's not working :(\n",
    "\n",
    "actor_counts = {}\n",
    "\n",
    "for actors_list in movies['actors_list']:\n",
    "    for actor in actors_list:\n",
    "        actor_counts[actor] = actor_counts.get(actor, 0) + 1\n",
    "\n",
    "for actor, count in actor_counts.items():\n",
    "    print(\"Actor:\", actor, \"Frequency:\", count)"
   ]
  },
  {
   "cell_type": "code",
   "execution_count": null,
   "metadata": {},
   "outputs": [],
   "source": []
  },
  {
   "cell_type": "code",
   "execution_count": null,
   "metadata": {},
   "outputs": [],
   "source": []
  }
 ],
 "metadata": {
  "kernelspec": {
   "display_name": "Python 3 (ipykernel)",
   "language": "python",
   "name": "python3"
  },
  "language_info": {
   "codemirror_mode": {
    "name": "ipython",
    "version": 3
   },
   "file_extension": ".py",
   "mimetype": "text/x-python",
   "name": "python",
   "nbconvert_exporter": "python",
   "pygments_lexer": "ipython3",
   "version": "3.10.9"
  }
 },
 "nbformat": 4,
 "nbformat_minor": 4
}
