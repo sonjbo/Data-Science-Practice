{
 "cells": [
  {
   "cell_type": "markdown",
   "id": "9da44281-6327-4c93-ae20-4164f7853def",
   "metadata": {
    "tags": []
   },
   "source": [
    "\n",
    "## 1. Given an array of integers nums and an integer target, return indices of the two numbers such that they add up to target.\n",
    "\n",
    "### Example\n",
    "Input: nums = [2,7,11,15], target = 9\n",
    "Output: [0,1]\n",
    "Explanation: Because nums[0] + nums[1] == 9, we return [0, 1].\n",
    "\n",
    "### Example\n",
    "Input: nums = [3,2,4], target = 6\n",
    "Output: [1,2]"
   ]
  },
  {
   "cell_type": "code",
   "execution_count": null,
   "id": "d7add067-8ba3-467c-8d8f-5b2cd1f60149",
   "metadata": {},
   "outputs": [
    {
     "data": {
      "text/plain": [
       "(1, 2)"
      ]
     },
     "execution_count": 2,
     "metadata": {},
     "output_type": "execute_result"
    }
   ],
   "source": [
    "def int_num (lst, target):\n",
    "    #numbers = []\n",
    "    #target = 15\n",
    "    for i, number in enumerate(lst):\n",
    "        #print (i, number)\n",
    "        number2 = target - number\n",
    "        #print (number2)\n",
    "        if number2 in lst:\n",
    "            #return [number,number2]\n",
    "            int1 = lst.index(number)\n",
    "            int2 = lst.index(number2)\n",
    "            return (int1, int2)\n",
    "int_num ([12,36,54,75,13,4,2], 90)"
   ]
  },
  {
   "cell_type": "markdown",
   "id": "af2bd5fa-e1b3-425e-9043-cbb093d4e120",
   "metadata": {},
   "source": [
    "\n",
    "## 2. Roman numerals are represented by seven different symbols: I, V, X, L, C, D and M.\n",
    "\n",
    "Symbol       Value\n",
    "I             1\n",
    "\n",
    "V             5\n",
    "\n",
    "X             10\n",
    "\n",
    "L             50\n",
    "\n",
    "C             100\n",
    "\n",
    "D             500\n",
    "\n",
    "M             1000\n",
    "\n",
    "For example, 2 is written as II in Roman numeral, just two ones added together. 12 is written as XII, which is simply X + II. The number 27 is written as XXVII, which is XX + V + II.\n",
    "\n",
    "Roman numerals are usually written largest to smallest from left to right. However, the numeral for four is not IIII. Instead, the number four is written as IV. Because the one is before the five we subtract it making four. The same principle applies to the number nine, which is written as IX. There are six instances where subtraction is used:\n",
    "\n",
    "I can be placed before V (5) and X (10) to make 4 and 9. \n",
    "\n",
    "X can be placed before L (50) and C (100) to make 40 and 90.\n",
    "\n",
    "C can be placed before D (500) and M (1000) to make 400 and 900.\n",
    "\n",
    "Given a roman numeral, convert it to an integer.\n",
    "\n",
    "### Example 1:\n",
    "\n",
    "Input: s = \"III\"\n",
    "Output: 3\n",
    "Explanation: III = 3.\n",
    "\n",
    "### Example 2: \n",
    "Input: s = \"LVIII\"\n",
    "Output: 58\n",
    "Explanation: L = 50, V= 5, III = 3.\n",
    "\n",
    "### Example 3: \n",
    "Input: s = \"MCMXCIV\"\n",
    "Output: 1994\n",
    "Explanation: M = 1000, CM = 900, XC = 90 and IV = 4."
   ]
  },
  {
   "cell_type": "code",
   "execution_count": 6,
   "id": "dad1eb30-d2a4-4757-99cd-c1da006102d4",
   "metadata": {
    "tags": []
   },
   "outputs": [
    {
     "data": {
      "text/plain": [
       "1094"
      ]
     },
     "execution_count": 6,
     "metadata": {},
     "output_type": "execute_result"
    }
   ],
   "source": [
    "#def roman_nums(s):\n",
    "\n",
    "def make_rom_num (s):\n",
    "    total = 0\n",
    "    i = 0  \n",
    "    roman_values = {\n",
    "    \"I\":1, \n",
    "    \"V\":5,\n",
    "    \"X\":10,  \n",
    "    \"L\":50, \n",
    "    \"C\":100, \n",
    "    \"D\":500, \n",
    "    \"M\":1000\n",
    "}\n",
    "    while i < len(s):\n",
    "    #check if the position is less than the end of the list if the value is less than the next value\n",
    "        if i + 1 < len(s) and roman_values[s[i]] < roman_values[s[i+1]]: \n",
    "            total += roman_values[s[i+1]] - roman_values[s[i]]\n",
    "            i += 2\n",
    "       \n",
    "        else:\n",
    "            total += roman_values[s[i]]\n",
    "\n",
    "            i += 1 \n",
    "\n",
    "  #  return (i)\n",
    "    return total\n",
    "ans = make_rom_num(\"MXCdefIV\")\n",
    "ans"
   ]
  },
  {
   "cell_type": "code",
   "execution_count": null,
   "id": "2000651f-41be-47d6-b9f0-667bc245179a",
   "metadata": {},
   "outputs": [],
   "source": []
  },
  {
   "cell_type": "markdown",
   "id": "cd013f20-2b33-4e09-8558-c200f11da670",
   "metadata": {},
   "source": [
    "## 3. You are given the heads of two sorted linked lists list1 and list2. Merge the two lists in a one sorted list.\n",
    "\n",
    "### Example:\n",
    "Input: list1 = [1,2,4], list2 = [1,3,4]\n",
    "Output: [1,1,2,3,4,4]\n",
    "\n",
    "### Example: \n",
    "Input: list1 = [], list2 = [0]\n",
    "Output: [0]\n",
    "\n",
    "### Example: \n",
    "Input: list1 = [], list2 = []\n",
    "Output: []"
   ]
  },
  {
   "cell_type": "code",
   "execution_count": 7,
   "id": "574c2d9a-de1d-44f6-8479-5ebfec2d6cc0",
   "metadata": {},
   "outputs": [],
   "source": [
    "def merge_lst (lst1, lst2):\n",
    "    return sorted(list1+lst2)"
   ]
  },
  {
   "cell_type": "markdown",
   "id": "5ebe05d3-7643-460c-82b0-7f66a1623695",
   "metadata": {},
   "source": [
    "## 4. Given a string s consisting of words and spaces, return the length of the last word in the string. \n",
    "\n",
    "### Example 1: \n",
    "Input: s = \"Hello World\"\n",
    "Output: 5\n",
    "Explanation: The last word is \"World\" with length 5.\n",
    "\n",
    "### Example 2:\n",
    "Input: s = \"   fly me   to   the moon  \"\n",
    "Output: 4\n",
    "Explanation: The last word is \"moon\" with length 4."
   ]
  },
  {
   "cell_type": "code",
   "execution_count": null,
   "id": "f4811839-75ce-4e55-be6e-090b8637c112",
   "metadata": {},
   "outputs": [],
   "source": []
  },
  {
   "cell_type": "markdown",
   "id": "ebf38c83-4a9c-431b-9edf-d9889213c1b6",
   "metadata": {},
   "source": [
    "## 5. You are climbing a staircase. It takes n steps to reach the top. Each time you can either climb 1 or 2 steps. In how many distinct ways can you climb to the top?\n",
    "\n",
    "### Example 1: Input: n = 2\n",
    "Output: 2\n",
    "Explanation: There are two ways to climb to the top.\n",
    "1. 1 step + 1 step\n",
    "2. 2 steps\n",
    "\n",
    "### Example 2: Input: n = 3\n",
    "Output: 3\n",
    "Explanation: There are three ways to climb to the top.\n",
    "1. 1 step + 1 step + 1 step\n",
    "2. 1 step + 2 steps\n",
    "3. 2 steps + 1 step"
   ]
  },
  {
   "cell_type": "code",
   "execution_count": null,
   "id": "46cd7cbe-388d-44a9-8f04-a089f01006f3",
   "metadata": {},
   "outputs": [],
   "source": []
  },
  {
   "cell_type": "code",
   "execution_count": null,
   "id": "d3083bee-cb1e-4caf-8ec3-da96d217d605",
   "metadata": {},
   "outputs": [],
   "source": []
  }
 ],
 "metadata": {
  "kernelspec": {
   "display_name": "Python 3 (ipykernel)",
   "language": "python",
   "name": "python3"
  },
  "language_info": {
   "codemirror_mode": {
    "name": "ipython",
    "version": 3
   },
   "file_extension": ".py",
   "mimetype": "text/x-python",
   "name": "python",
   "nbconvert_exporter": "python",
   "pygments_lexer": "ipython3",
   "version": "3.10.9"
  }
 },
 "nbformat": 4,
 "nbformat_minor": 5
}
